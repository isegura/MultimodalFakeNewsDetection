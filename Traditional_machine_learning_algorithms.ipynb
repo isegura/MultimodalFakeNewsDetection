{
  "nbformat": 4,
  "nbformat_minor": 0,
  "metadata": {
    "colab": {
      "name": "Traditional_machine_learning_algorithms.ipynb",
      "provenance": [],
      "collapsed_sections": []
    },
    "kernelspec": {
      "display_name": "Python 3",
      "language": "python",
      "name": "python3"
    },
    "language_info": {
      "codemirror_mode": {
        "name": "ipython",
        "version": 3
      },
      "file_extension": ".py",
      "mimetype": "text/x-python",
      "name": "python",
      "nbconvert_exporter": "python",
      "pygments_lexer": "ipython3",
      "version": "3.8.8"
    }
  },
  "cells": [
    {
      "cell_type": "markdown",
      "metadata": {
        "id": "O3-UtVoTm972"
      },
      "source": [
        "# Traditional machine learning algorithms\n"
      ]
    },
    {
      "cell_type": "markdown",
      "metadata": {
        "id": "0o3-AX12Wsni"
      },
      "source": [
        "Install optuna"
      ]
    },
    {
      "cell_type": "code",
      "metadata": {
        "colab": {
          "base_uri": "https://localhost:8080/"
        },
        "id": "6DDZPQweaN_1",
        "outputId": "667d4bab-845c-45ec-d534-50bd79ae5174"
      },
      "source": [
        "!pip install optuna"
      ],
      "execution_count": null,
      "outputs": [
        {
          "output_type": "stream",
          "name": "stdout",
          "text": [
            "Collecting optuna\n",
            "  Downloading optuna-2.10.0-py3-none-any.whl (308 kB)\n",
            "\u001b[K     |████████████████████████████████| 308 kB 5.0 MB/s \n",
            "\u001b[?25hRequirement already satisfied: tqdm in /usr/local/lib/python3.7/dist-packages (from optuna) (4.62.3)\n",
            "Requirement already satisfied: numpy in /usr/local/lib/python3.7/dist-packages (from optuna) (1.19.5)\n",
            "Requirement already satisfied: scipy!=1.4.0 in /usr/local/lib/python3.7/dist-packages (from optuna) (1.4.1)\n",
            "Requirement already satisfied: PyYAML in /usr/local/lib/python3.7/dist-packages (from optuna) (3.13)\n",
            "Collecting alembic\n",
            "  Downloading alembic-1.7.5-py3-none-any.whl (209 kB)\n",
            "\u001b[K     |████████████████████████████████| 209 kB 24.2 MB/s \n",
            "\u001b[?25hCollecting colorlog\n",
            "  Downloading colorlog-6.6.0-py2.py3-none-any.whl (11 kB)\n",
            "Collecting cliff\n",
            "  Downloading cliff-3.10.0-py3-none-any.whl (80 kB)\n",
            "\u001b[K     |████████████████████████████████| 80 kB 5.2 MB/s \n",
            "\u001b[?25hRequirement already satisfied: packaging>=20.0 in /usr/local/lib/python3.7/dist-packages (from optuna) (21.3)\n",
            "Collecting cmaes>=0.8.2\n",
            "  Downloading cmaes-0.8.2-py3-none-any.whl (15 kB)\n",
            "Requirement already satisfied: sqlalchemy>=1.1.0 in /usr/local/lib/python3.7/dist-packages (from optuna) (1.4.27)\n",
            "Requirement already satisfied: pyparsing!=3.0.5,>=2.0.2 in /usr/local/lib/python3.7/dist-packages (from packaging>=20.0->optuna) (3.0.6)\n",
            "Requirement already satisfied: importlib-metadata in /usr/local/lib/python3.7/dist-packages (from sqlalchemy>=1.1.0->optuna) (4.8.2)\n",
            "Requirement already satisfied: greenlet!=0.4.17 in /usr/local/lib/python3.7/dist-packages (from sqlalchemy>=1.1.0->optuna) (1.1.2)\n",
            "Collecting Mako\n",
            "  Downloading Mako-1.1.6-py2.py3-none-any.whl (75 kB)\n",
            "\u001b[K     |████████████████████████████████| 75 kB 2.5 MB/s \n",
            "\u001b[?25hRequirement already satisfied: importlib-resources in /usr/local/lib/python3.7/dist-packages (from alembic->optuna) (5.4.0)\n",
            "Collecting cmd2>=1.0.0\n",
            "  Downloading cmd2-2.3.3-py3-none-any.whl (149 kB)\n",
            "\u001b[K     |████████████████████████████████| 149 kB 24.4 MB/s \n",
            "\u001b[?25hCollecting pbr!=2.1.0,>=2.0.0\n",
            "  Downloading pbr-5.8.0-py2.py3-none-any.whl (112 kB)\n",
            "\u001b[K     |████████████████████████████████| 112 kB 38.7 MB/s \n",
            "\u001b[?25hCollecting autopage>=0.4.0\n",
            "  Downloading autopage-0.4.0-py3-none-any.whl (20 kB)\n",
            "Collecting stevedore>=2.0.1\n",
            "  Downloading stevedore-3.5.0-py3-none-any.whl (49 kB)\n",
            "\u001b[K     |████████████████████████████████| 49 kB 3.4 MB/s \n",
            "\u001b[?25hRequirement already satisfied: PrettyTable>=0.7.2 in /usr/local/lib/python3.7/dist-packages (from cliff->optuna) (2.4.0)\n",
            "Collecting pyperclip>=1.6\n",
            "  Downloading pyperclip-1.8.2.tar.gz (20 kB)\n",
            "Requirement already satisfied: wcwidth>=0.1.7 in /usr/local/lib/python3.7/dist-packages (from cmd2>=1.0.0->cliff->optuna) (0.2.5)\n",
            "Requirement already satisfied: typing-extensions in /usr/local/lib/python3.7/dist-packages (from cmd2>=1.0.0->cliff->optuna) (3.10.0.2)\n",
            "Requirement already satisfied: attrs>=16.3.0 in /usr/local/lib/python3.7/dist-packages (from cmd2>=1.0.0->cliff->optuna) (21.2.0)\n",
            "Requirement already satisfied: zipp>=0.5 in /usr/local/lib/python3.7/dist-packages (from importlib-metadata->sqlalchemy>=1.1.0->optuna) (3.6.0)\n",
            "Requirement already satisfied: MarkupSafe>=0.9.2 in /usr/local/lib/python3.7/dist-packages (from Mako->alembic->optuna) (2.0.1)\n",
            "Building wheels for collected packages: pyperclip\n",
            "  Building wheel for pyperclip (setup.py) ... \u001b[?25l\u001b[?25hdone\n",
            "  Created wheel for pyperclip: filename=pyperclip-1.8.2-py3-none-any.whl size=11136 sha256=e4a5d774f1119c374210dac3044b9f74f55ec5a91671e3949c1365943c3758c6\n",
            "  Stored in directory: /root/.cache/pip/wheels/9f/18/84/8f69f8b08169c7bae2dde6bd7daf0c19fca8c8e500ee620a28\n",
            "Successfully built pyperclip\n",
            "Installing collected packages: pyperclip, pbr, stevedore, Mako, cmd2, autopage, colorlog, cmaes, cliff, alembic, optuna\n",
            "Successfully installed Mako-1.1.6 alembic-1.7.5 autopage-0.4.0 cliff-3.10.0 cmaes-0.8.2 cmd2-2.3.3 colorlog-6.6.0 optuna-2.10.0 pbr-5.8.0 pyperclip-1.8.2 stevedore-3.5.0\n"
          ]
        }
      ]
    },
    {
      "cell_type": "markdown",
      "metadata": {
        "id": "ijOfr_9DWoo5"
      },
      "source": [
        "Then we import the necessary libraries."
      ]
    },
    {
      "cell_type": "code",
      "metadata": {
        "id": "1KdqLn4PWpHk"
      },
      "source": [
        "# Import libraries\n",
        "import numpy as np\n",
        "import optuna\n",
        "import matplotlib\n",
        "import matplotlib.image as mpimg\n",
        "import pandas as pd\n",
        "import matplotlib.pyplot as plt\n",
        "from sklearn.feature_extraction.text import TfidfVectorizer\n",
        "import nltk\n",
        "from sklearn.feature_extraction.text import TfidfTransformer\n",
        "from nltk.corpus import stopwords\n",
        "from nltk import word_tokenize\n",
        "from nltk.stem.porter import PorterStemmer\n",
        "from nltk.stem import WordNetLemmatizer\n",
        "from sklearn.feature_extraction.text import CountVectorizer\n",
        "import re\n",
        "from tensorflow.keras.preprocessing.text import Tokenizer\n",
        "from sklearn.naive_bayes import MultinomialNB\n",
        "from sklearn.pipeline import Pipeline\n",
        "from sklearn.metrics import classification_report, accuracy_score, confusion_matrix\n",
        "from sklearn.linear_model import LogisticRegression\n",
        "from sklearn.ensemble import RandomForestClassifier\n",
        "from sklearn.svm import LinearSVC\n",
        "from sklearn.metrics import classification_report\n",
        "\n",
        "%matplotlib inline"
      ],
      "execution_count": null,
      "outputs": []
    },
    {
      "cell_type": "markdown",
      "metadata": {
        "id": "kD14PddXJV2s"
      },
      "source": [
        "We load the data"
      ]
    },
    {
      "cell_type": "code",
      "metadata": {
        "colab": {
          "base_uri": "https://localhost:8080/"
        },
        "id": "64oz0LBEJbTA",
        "outputId": "15855a7a-6200-4ae0-fb47-4274d93adfe0"
      },
      "source": [
        "# Mount the drive\n",
        "from google.colab import drive\n",
        "drive.mount('/content/gdrive')"
      ],
      "execution_count": null,
      "outputs": [
        {
          "output_type": "stream",
          "name": "stdout",
          "text": [
            "Mounted at /content/gdrive\n"
          ]
        }
      ]
    },
    {
      "cell_type": "code",
      "metadata": {
        "id": "0r0hwXNHnSjH"
      },
      "source": [
        "# Load the train, validation and test data\n",
        "\n",
        "# Train data (with images)\n",
        "traindata = pd.read_csv('/content/gdrive/MyDrive/TFM/multimodal_train.tsv',sep='\\t')\n",
        "# Validation data (with images)\n",
        "validata = pd.read_csv('/content/gdrive/MyDrive/TFM/multimodal_validate.tsv',sep='\\t')\n",
        "# Test data (with  images)\n",
        "testdata = pd.read_csv('/content/gdrive/MyDrive/TFM/multimodal_test_public.tsv',sep='\\t')\n",
        "\n",
        "\n",
        "# Train data (with and without  images)\n",
        "traindata_all = pd.read_csv('/content/gdrive/MyDrive/TFM/all_train.tsv',sep='\\t')\n",
        "# Validation data (with and without images images)\n",
        "validata_all = pd.read_csv('/content/gdrive/MyDrive/TFM/all_validate.tsv',sep='\\t')\n",
        "# Test data (with and without images)\n",
        "testdata_all = pd.read_csv('/content/gdrive/MyDrive/TFM/all_test_public.tsv',sep='\\t')"
      ],
      "execution_count": null,
      "outputs": []
    },
    {
      "cell_type": "markdown",
      "metadata": {
        "id": "ZYeK2qvQJPae"
      },
      "source": [
        "We can check the number of train, vaidation and test instances in each dataset."
      ]
    },
    {
      "cell_type": "code",
      "metadata": {
        "colab": {
          "base_uri": "https://localhost:8080/"
        },
        "id": "4mWhijo-JPaf",
        "outputId": "089dbb27-7ebb-4233-bd71-fe4f1945a119"
      },
      "source": [
        "print(\"Number of train instances for all data: \", len(traindata_all))\n",
        "print(\"Number of validation instances for all data: \", len(validata_all))\n",
        "print(\"Number of test instances for all data: \", len(testdata_all))"
      ],
      "execution_count": null,
      "outputs": [
        {
          "output_type": "stream",
          "name": "stdout",
          "text": [
            "Number of train instances for all data:  878218\n",
            "Number of validation instances for all data:  92444\n",
            "Number of test instances for all data:  92444\n"
          ]
        }
      ]
    },
    {
      "cell_type": "code",
      "metadata": {
        "colab": {
          "base_uri": "https://localhost:8080/"
        },
        "id": "QD_vGrQFXaCA",
        "outputId": "2e3a833e-5ebc-4897-c4e0-11916a91e114"
      },
      "source": [
        "print(\"Number of train instances for multimodal data: \", len(traindata))\n",
        "print(\"Number of validation instances for multimodal data: \", len(validata))\n",
        "print(\"Number of test instances for multimodal data: \", len(testdata))"
      ],
      "execution_count": null,
      "outputs": [
        {
          "output_type": "stream",
          "name": "stdout",
          "text": [
            "Number of train instances for multimodal data:  564000\n",
            "Number of validation instances for multimodal data:  59342\n",
            "Number of test instances for multimodal data:  59319\n"
          ]
        }
      ]
    },
    {
      "cell_type": "markdown",
      "metadata": {
        "id": "CdQVvwabqFt4"
      },
      "source": [
        "|Type of dataset| Train instances | Validation instances | Test instances |\n",
        "|---------------|-----------------|----------------------|----------------|\n",
        "| Multimodal | 564000| 59342 |59319 |\n",
        "| Unimodal (all data) |878218 | 92444   |92444 |\n",
        "\n",
        "\n",
        "As we can see they are dataframes."
      ]
    },
    {
      "cell_type": "code",
      "metadata": {
        "colab": {
          "base_uri": "https://localhost:8080/",
          "height": 556
        },
        "id": "09uXpB21rzbn",
        "outputId": "783199ef-fb25-4239-f563-5d386b800091"
      },
      "source": [
        "traindata.head()"
      ],
      "execution_count": null,
      "outputs": [
        {
          "output_type": "execute_result",
          "data": {
            "text/html": [
              "<div>\n",
              "<style scoped>\n",
              "    .dataframe tbody tr th:only-of-type {\n",
              "        vertical-align: middle;\n",
              "    }\n",
              "\n",
              "    .dataframe tbody tr th {\n",
              "        vertical-align: top;\n",
              "    }\n",
              "\n",
              "    .dataframe thead th {\n",
              "        text-align: right;\n",
              "    }\n",
              "</style>\n",
              "<table border=\"1\" class=\"dataframe\">\n",
              "  <thead>\n",
              "    <tr style=\"text-align: right;\">\n",
              "      <th></th>\n",
              "      <th>author</th>\n",
              "      <th>clean_title</th>\n",
              "      <th>created_utc</th>\n",
              "      <th>domain</th>\n",
              "      <th>hasImage</th>\n",
              "      <th>id</th>\n",
              "      <th>image_url</th>\n",
              "      <th>linked_submission_id</th>\n",
              "      <th>num_comments</th>\n",
              "      <th>score</th>\n",
              "      <th>subreddit</th>\n",
              "      <th>title</th>\n",
              "      <th>upvote_ratio</th>\n",
              "      <th>2_way_label</th>\n",
              "      <th>3_way_label</th>\n",
              "      <th>6_way_label</th>\n",
              "    </tr>\n",
              "  </thead>\n",
              "  <tbody>\n",
              "    <tr>\n",
              "      <th>0</th>\n",
              "      <td>Alexithymia</td>\n",
              "      <td>my walgreens offbrand mucinex was engraved wit...</td>\n",
              "      <td>1.551641e+09</td>\n",
              "      <td>i.imgur.com</td>\n",
              "      <td>True</td>\n",
              "      <td>awxhir</td>\n",
              "      <td>https://external-preview.redd.it/WylDbZrnbvZdB...</td>\n",
              "      <td>NaN</td>\n",
              "      <td>2.0</td>\n",
              "      <td>12</td>\n",
              "      <td>mildlyinteresting</td>\n",
              "      <td>My Walgreens offbrand Mucinex was engraved wit...</td>\n",
              "      <td>0.84</td>\n",
              "      <td>1</td>\n",
              "      <td>0</td>\n",
              "      <td>0</td>\n",
              "    </tr>\n",
              "    <tr>\n",
              "      <th>1</th>\n",
              "      <td>VIDCAs17</td>\n",
              "      <td>this concerned sink with a tiny hat</td>\n",
              "      <td>1.534727e+09</td>\n",
              "      <td>i.redd.it</td>\n",
              "      <td>True</td>\n",
              "      <td>98pbid</td>\n",
              "      <td>https://preview.redd.it/wsfx0gp0f5h11.jpg?widt...</td>\n",
              "      <td>NaN</td>\n",
              "      <td>2.0</td>\n",
              "      <td>119</td>\n",
              "      <td>pareidolia</td>\n",
              "      <td>This concerned sink with a tiny hat</td>\n",
              "      <td>0.99</td>\n",
              "      <td>0</td>\n",
              "      <td>2</td>\n",
              "      <td>2</td>\n",
              "    </tr>\n",
              "    <tr>\n",
              "      <th>2</th>\n",
              "      <td>prometheus1123</td>\n",
              "      <td>hackers leak emails from uae ambassador to us</td>\n",
              "      <td>1.496511e+09</td>\n",
              "      <td>aljazeera.com</td>\n",
              "      <td>True</td>\n",
              "      <td>6f2cy5</td>\n",
              "      <td>https://external-preview.redd.it/6fNhdbc6K1vFA...</td>\n",
              "      <td>NaN</td>\n",
              "      <td>1.0</td>\n",
              "      <td>44</td>\n",
              "      <td>neutralnews</td>\n",
              "      <td>Hackers leak emails from UAE ambassador to US</td>\n",
              "      <td>0.92</td>\n",
              "      <td>1</td>\n",
              "      <td>0</td>\n",
              "      <td>0</td>\n",
              "    </tr>\n",
              "    <tr>\n",
              "      <th>3</th>\n",
              "      <td>NaN</td>\n",
              "      <td>puppy taking in the view</td>\n",
              "      <td>1.471341e+09</td>\n",
              "      <td>i.imgur.com</td>\n",
              "      <td>True</td>\n",
              "      <td>4xypkv</td>\n",
              "      <td>https://external-preview.redd.it/HLtVNhTR6wtYt...</td>\n",
              "      <td>NaN</td>\n",
              "      <td>26.0</td>\n",
              "      <td>250</td>\n",
              "      <td>photoshopbattles</td>\n",
              "      <td>PsBattle: Puppy taking in the view</td>\n",
              "      <td>0.95</td>\n",
              "      <td>1</td>\n",
              "      <td>0</td>\n",
              "      <td>0</td>\n",
              "    </tr>\n",
              "    <tr>\n",
              "      <th>4</th>\n",
              "      <td>3rikR3ith</td>\n",
              "      <td>i found a face in my sheet music too</td>\n",
              "      <td>1.525318e+09</td>\n",
              "      <td>i.redd.it</td>\n",
              "      <td>True</td>\n",
              "      <td>8gnet9</td>\n",
              "      <td>https://preview.redd.it/ri7ut2wn8kv01.jpg?widt...</td>\n",
              "      <td>NaN</td>\n",
              "      <td>2.0</td>\n",
              "      <td>13</td>\n",
              "      <td>pareidolia</td>\n",
              "      <td>I found a face in my sheet music too!</td>\n",
              "      <td>0.84</td>\n",
              "      <td>0</td>\n",
              "      <td>2</td>\n",
              "      <td>2</td>\n",
              "    </tr>\n",
              "  </tbody>\n",
              "</table>\n",
              "</div>"
            ],
            "text/plain": [
              "           author  ... 6_way_label\n",
              "0     Alexithymia  ...           0\n",
              "1        VIDCAs17  ...           2\n",
              "2  prometheus1123  ...           0\n",
              "3             NaN  ...           0\n",
              "4       3rikR3ith  ...           2\n",
              "\n",
              "[5 rows x 16 columns]"
            ]
          },
          "metadata": {},
          "execution_count": 7
        }
      ]
    },
    {
      "cell_type": "markdown",
      "metadata": {
        "id": "aqzRwtA7uJPz"
      },
      "source": [
        "We check that the train, validation and test sets (that is, the **multimodal_train**, **multimodal_vaidate** and **multimodal_test_pulic** sets)  all have corresponding images."
      ]
    },
    {
      "cell_type": "code",
      "metadata": {
        "colab": {
          "base_uri": "https://localhost:8080/"
        },
        "id": "OZZde-pesI6a",
        "outputId": "69097ecd-4e2a-40fd-9ee1-0b938f20db5f"
      },
      "source": [
        "print(\"Number of train instances that have images: \",len(traindata[traindata['hasImage'] == True]))\n",
        "print(\"Number of validation instances that have images: \",len(validata[validata['hasImage'] == True]))\n",
        "print(\"Number of test instances that have images: \",len(testdata[testdata['hasImage'] == True]))"
      ],
      "execution_count": null,
      "outputs": [
        {
          "name": "stdout",
          "output_type": "stream",
          "text": [
            "Number of train instances that have images:  564000\n",
            "Number of validation instances that have images:  59342\n",
            "Number of test instances that have images:  59319\n"
          ]
        }
      ]
    },
    {
      "cell_type": "markdown",
      "metadata": {
        "id": "RS3IZBQWJPai"
      },
      "source": [
        "We do this same check with the data contained in **all_train**, **all_validate** and **all_test_public** datasets. "
      ]
    },
    {
      "cell_type": "code",
      "metadata": {
        "colab": {
          "base_uri": "https://localhost:8080/"
        },
        "id": "qWgQtbyEJPaj",
        "outputId": "2b406564-0d1a-4249-b624-71c5c96b6f20"
      },
      "source": [
        "print(\"Number of train instances that don`t have images: \",len(traindata_all[traindata_all['hasImage'] == False]))\n",
        "print(\"Number of validation instances don't that have images: \",len(validata_all[validata_all['hasImage'] == False]))\n",
        "print(\"Number of test instances that don`t have images: \",len(testdata_all[testdata_all['hasImage'] == False]))"
      ],
      "execution_count": null,
      "outputs": [
        {
          "name": "stdout",
          "output_type": "stream",
          "text": [
            "Number of train instances that don`t have images:  239117\n",
            "Number of validation instances don't that have images:  25236\n",
            "Number of test instances that don`t have images:  25189\n"
          ]
        }
      ]
    },
    {
      "cell_type": "markdown",
      "metadata": {
        "id": "BwVcWAbGJPaj"
      },
      "source": [
        "As we can see the number of  instances without images is equal to **239117** in the train data, **25236** in the validation data and **25189** in the test data. In the follwing cells we plot the class distribution for the multimodal and unimodal (all data) datastets. As we saw before there are missing values in the **clean_title** column, therefore we will first remove those rows that contain missing values for that column."
      ]
    },
    {
      "cell_type": "code",
      "metadata": {
        "id": "TKIjvfs03jQj"
      },
      "source": [
        "\n",
        "# MULTIMODAL DATASET\n",
        "# Train data with no missing values\n",
        "train_data = traindata[traindata['clean_title'].notnull().to_numpy()]\n",
        "# Validation data with no missing values\n",
        "valid_data = validata[validata['clean_title'].notnull().to_numpy()]\n",
        "# Test data with no missing values\n",
        "test_data = testdata[testdata['clean_title'].notnull().to_numpy()]\n",
        "\n",
        "# UNIMODAL DATASET\n",
        "train_data_all = traindata_all[traindata_all['clean_title'].notnull().to_numpy()]\n",
        "# Validation data with no missing values\n",
        "valid_data_all = validata_all[validata_all['clean_title'].notnull().to_numpy()]\n",
        "# Test data with no missing values\n",
        "test_data_all = testdata_all[testdata_all['clean_title'].notnull().to_numpy()]"
      ],
      "execution_count": 8,
      "outputs": []
    },
    {
      "cell_type": "code",
      "metadata": {
        "id": "dmY9Qq-i3PeT"
      },
      "source": [
        "# Get series object with the necessary columns\n",
        "\n",
        "# MULTIMODAL DATASET\n",
        "# Train data (text and labels)\n",
        "train_frame = train_data[\"clean_title\"]\n",
        "train_labels = train_data[\"6_way_label\"]\n",
        "# Validation data (text and labels)\n",
        "valid_frame = valid_data[\"clean_title\"]\n",
        "valid_labels = valid_data[\"6_way_label\"]\n",
        "# Test data (text and labels)\n",
        "test_frame = test_data[\"clean_title\"]\n",
        "test_labels = test_data[\"6_way_label\"]\n",
        "\n",
        "# UNIMODAL DATASET\n",
        "train_frame_all = train_data_all[\"clean_title\"]\n",
        "train_labels_all = train_data_all[\"6_way_label\"]\n",
        "# Validation data (text and labels)\n",
        "valid_frame_all = valid_data_all[\"clean_title\"]\n",
        "valid_labels_all = valid_data_all[\"6_way_label\"]\n",
        "# Test data (text and labels)\n",
        "test_frame_all = test_data_all[\"clean_title\"]\n",
        "test_labels_all = test_data_all[\"6_way_label\"]"
      ],
      "execution_count": 9,
      "outputs": []
    },
    {
      "cell_type": "markdown",
      "metadata": {
        "id": "K3QAG7OD4DgL"
      },
      "source": [
        "### Class distribution for the unimodal dataset\n",
        "\n",
        "#### Train partition"
      ]
    },
    {
      "cell_type": "code",
      "metadata": {
        "colab": {
          "base_uri": "https://localhost:8080/",
          "height": 396
        },
        "id": "ww8v3s8z3BHq",
        "outputId": "a5708f21-d1d8-4a1e-a34e-b3aef418f775"
      },
      "source": [
        "import matplotlib\n",
        "font = {'size'   : 14}\n",
        "\n",
        "matplotlib.rc('font', **font)\n",
        "# Train labels barplot\n",
        "labs = train_labels_all.value_counts()\n",
        "labels = ['True','Manipulated content','False connection','Satire','Misleading content','Imposter content']\n",
        "x_pos_labels = [1, 4, 7, 10, 13, 16]\n",
        "x_pos_labs = [1, 4, 7, 10, 13, 16]\n",
        "plt.xticks(x_pos_labels, labels)\n",
        "plt.bar(x_pos_labs, height = labs, width = 2 )\n",
        "plt.title(\"Train data (unimodal dataset)\")\n",
        "plt.xticks(rotation=50)\n",
        "plt.show()"
      ],
      "execution_count": 12,
      "outputs": [
        {
          "output_type": "display_data",
          "data": {
            "image/png": "[encoded data removed]",
            "text/plain": [
              "<Figure size 432x288 with 1 Axes>"
            ]
          },
          "metadata": {
            "needs_background": "light"
          }
        }
      ]
    },
    {
      "cell_type": "markdown",
      "metadata": {
        "id": "hHmXZSja4f4z"
      },
      "source": [
        "#### Validation data"
      ]
    },
    {
      "cell_type": "code",
      "metadata": {
        "colab": {
          "base_uri": "https://localhost:8080/",
          "height": 396
        },
        "id": "dz_YvPv_4h1r",
        "outputId": "890294dc-e531-46bd-8526-a8d2f20fb4d9"
      },
      "source": [
        "font = {'size'   : 14}\n",
        "\n",
        "matplotlib.rc('font', **font)\n",
        "# Train labels barplot\n",
        "labs = valid_labels_all.value_counts()\n",
        "labels = ['True','Manipulated content','False connection','Satire','Misleading content','Imposter content']\n",
        "x_pos_labels = [1, 4, 7, 10, 13, 16]\n",
        "x_pos_labs = [1, 4, 7, 10, 13, 16]\n",
        "plt.xticks(x_pos_labels, labels)\n",
        "plt.bar(x_pos_labs, height = labs, width = 2 )\n",
        "plt.title(\"Validation data (unimodal dataset)\")\n",
        "plt.xticks(rotation=50)\n",
        "plt.show()"
      ],
      "execution_count": 13,
      "outputs": [
        {
          "output_type": "display_data",
          "data": {
            "image/png": "[encoded data removed]",
            "text/plain": [
              "<Figure size 432x288 with 1 Axes>"
            ]
          },
          "metadata": {
            "needs_background": "light"
          }
        }
      ]
    },
    {
      "cell_type": "markdown",
      "metadata": {
        "id": "79p5DynE41hm"
      },
      "source": [
        "#### Test data"
      ]
    },
    {
      "cell_type": "code",
      "metadata": {
        "colab": {
          "base_uri": "https://localhost:8080/",
          "height": 396
        },
        "id": "u0jhur-_43aT",
        "outputId": "ad00fa20-979c-47ee-ab9c-7bbd2c89311f"
      },
      "source": [
        "font = {'size'   : 14}\n",
        "\n",
        "matplotlib.rc('font', **font)\n",
        "# Train labels barplot\n",
        "labs = test_labels_all.value_counts()\n",
        "labels = ['True','Manipulated content','False connection','Satire','Misleading content','Imposter content']\n",
        "x_pos_labels = [1, 4, 7, 10, 13, 16]\n",
        "x_pos_labs = [1, 4, 7, 10, 13, 16]\n",
        "plt.xticks(x_pos_labels, labels)\n",
        "plt.bar(x_pos_labs, height = labs, width = 2 )\n",
        "plt.title(\"Test data (unimodal dataset)\")\n",
        "plt.xticks(rotation=50)\n",
        "plt.show()"
      ],
      "execution_count": 14,
      "outputs": [
        {
          "output_type": "display_data",
          "data": {
            "image/png": "[encoded data removed]",
            "text/plain": [
              "<Figure size 432x288 with 1 Axes>"
            ]
          },
          "metadata": {
            "needs_background": "light"
          }
        }
      ]
    },
    {
      "cell_type": "markdown",
      "metadata": {
        "id": "PKWlTBbv4-cK"
      },
      "source": [
        "### Class distribution for the multimodal dataset\n",
        "\n",
        "#### Train data"
      ]
    },
    {
      "cell_type": "code",
      "metadata": {
        "colab": {
          "base_uri": "https://localhost:8080/",
          "height": 396
        },
        "id": "2eJSaHdj5Ce2",
        "outputId": "0e775b6f-8a52-417f-b646-67afc0144673"
      },
      "source": [
        "font = {'size'   : 14}\n",
        "\n",
        "matplotlib.rc('font', **font)\n",
        "# Train labels barplot\n",
        "labs = train_labels.value_counts()\n",
        "labels = ['True','Manipulated content','False connection','Satire','Misleading content','Imposter content']\n",
        "x_pos_labels = [1, 4, 7, 10, 13, 16]\n",
        "x_pos_labs = [1, 4, 7, 10, 13, 16]\n",
        "plt.xticks(x_pos_labels, labels)\n",
        "plt.bar(x_pos_labs, height = labs, width = 2 )\n",
        "plt.title(\"Train data (multimodal dataset)\")\n",
        "plt.xticks(rotation=50)\n",
        "plt.show()"
      ],
      "execution_count": 15,
      "outputs": [
        {
          "output_type": "display_data",
          "data": {
            "image/png": "[encoded data removed]",
            "text/plain": [
              "<Figure size 432x288 with 1 Axes>"
            ]
          },
          "metadata": {
            "needs_background": "light"
          }
        }
      ]
    },
    {
      "cell_type": "markdown",
      "metadata": {
        "id": "z0XzuMLO5Nzj"
      },
      "source": [
        "#### Validation data"
      ]
    },
    {
      "cell_type": "code",
      "metadata": {
        "colab": {
          "base_uri": "https://localhost:8080/",
          "height": 396
        },
        "id": "WBHb41ny5QVq",
        "outputId": "2067eb60-addf-418a-eac9-f7f66bc87ce8"
      },
      "source": [
        "font = {'size'   : 14}\n",
        "\n",
        "matplotlib.rc('font', **font)\n",
        "# Train labels barplot\n",
        "labs = valid_labels.value_counts()\n",
        "labels = ['True','Manipulated content','False connection','Satire','Misleading content','Imposter content']\n",
        "x_pos_labels = [1, 4, 7, 10, 13, 16]\n",
        "x_pos_labs = [1, 4, 7, 10, 13, 16]\n",
        "plt.xticks(x_pos_labels, labels)\n",
        "plt.bar(x_pos_labs, height = labs, width = 2 )\n",
        "plt.title(\"Validation data (multimodal dataset)\")\n",
        "plt.xticks(rotation=50)\n",
        "plt.show()"
      ],
      "execution_count": 16,
      "outputs": [
        {
          "output_type": "display_data",
          "data": {
            "image/png": "[encoded data removed]",
            "text/plain": [
              "<Figure size 432x288 with 1 Axes>"
            ]
          },
          "metadata": {
            "needs_background": "light"
          }
        }
      ]
    },
    {
      "cell_type": "markdown",
      "metadata": {
        "id": "8AAp4bi45WlT"
      },
      "source": [
        "#### Test data"
      ]
    },
    {
      "cell_type": "code",
      "metadata": {
        "colab": {
          "base_uri": "https://localhost:8080/",
          "height": 396
        },
        "id": "n9zrX9Mx5Zhm",
        "outputId": "844030ff-b638-48d8-a1a1-bf41a422b3bb"
      },
      "source": [
        "font = {'size'   : 14}\n",
        "\n",
        "matplotlib.rc('font', **font)\n",
        "# Train labels barplot\n",
        "labs = test_labels.value_counts()\n",
        "labels = ['True','Manipulated content','False connection','Satire','Misleading content','Imposter content']\n",
        "x_pos_labels = [1, 4, 7, 10, 13, 16]\n",
        "x_pos_labs = [1, 4, 7, 10, 13, 16]\n",
        "plt.xticks(x_pos_labels, labels)\n",
        "plt.bar(x_pos_labs, height = labs, width = 2 )\n",
        "plt.title(\"Test data (multimodal dataset)\")\n",
        "plt.xticks(rotation=50)\n",
        "plt.show()"
      ],
      "execution_count": 17,
      "outputs": [
        {
          "output_type": "display_data",
          "data": {
            "image/png": "[encoded data removed]",
            "text/plain": [
              "<Figure size 432x288 with 1 Axes>"
            ]
          },
          "metadata": {
            "needs_background": "light"
          }
        }
      ]
    },
    {
      "cell_type": "markdown",
      "metadata": {
        "id": "4QMXayKh21iz"
      },
      "source": [
        "We will use only the multimodal dataset, that is, the dataset that has no instances without a corresponding image."
      ]
    },
    {
      "cell_type": "markdown",
      "metadata": {
        "id": "BXO-3EnMwlEo"
      },
      "source": [
        "## Multi-Class Text Classification\n",
        "\n",
        "\n",
        "In this subsection we will prepare the data that we will use later on both to create the tf-idf matrix as well as to do hyper-parameter tuning, choose the best version of each model and finally compare these versions by using the test set. In order to train and evaluate the models we only need the orginal title of each new and the corresponding label of each new. We obtain that with the following code."
      ]
    },
    {
      "cell_type": "code",
      "metadata": {
        "id": "hJTHQecpyD4p"
      },
      "source": [
        "# Get series object with the necessary columns\n",
        "\n",
        "# Train data (text and labels)\n",
        "train_frame = train_data[\"clean_title\"]\n",
        "train_labels = train_data[\"6_way_label\"]\n",
        "# Validation data (text and labels)\n",
        "valid_frame = valid_data[\"clean_title\"]\n",
        "valid_labels = valid_data[\"6_way_label\"]\n",
        "# Test data (text and labels)\n",
        "test_frame = test_data[\"clean_title\"]\n",
        "test_labels = test_data[\"6_way_label\"]"
      ],
      "execution_count": 18,
      "outputs": []
    },
    {
      "cell_type": "code",
      "metadata": {
        "colab": {
          "base_uri": "https://localhost:8080/",
          "height": 238
        },
        "id": "N--rbmOz3sBd",
        "outputId": "14f7cf34-0b29-4ac4-e8dc-731563bb0c23"
      },
      "source": [
        "labels = ['True','Satire','False connection','Imposter content','Manipulated content','Misleading content']\n",
        "# Train data\n",
        "train_0 = sum(train_labels == 0)/len(train_labels)\n",
        "train_1 = sum(train_labels == 1)/len(train_labels)\n",
        "train_2 = sum(train_labels == 2)/len(train_labels)\n",
        "train_3 = sum(train_labels == 3)/len(train_labels)\n",
        "train_4 = sum(train_labels == 4)/len(train_labels)\n",
        "train_5 = sum(train_labels == 5)/len(train_labels)\n",
        "# Validation data\n",
        "validation_0 = sum(valid_labels == 0)/len(valid_labels)\n",
        "validation_1 = sum(valid_labels == 1)/len(valid_labels)\n",
        "validation_2 = sum(valid_labels == 2)/len(valid_labels)\n",
        "validation_3 = sum(valid_labels == 3)/len(valid_labels)\n",
        "validation_4 = sum(valid_labels == 4)/len(valid_labels)\n",
        "validation_5 = sum(valid_labels == 5)/len(valid_labels)\n",
        "# Test data\n",
        "test_0 = sum(test_labels == 0)/len(test_labels)\n",
        "test_1 = sum(test_labels == 1)/len(test_labels)\n",
        "test_2 = sum(test_labels == 2)/len(test_labels)\n",
        "test_3 = sum(test_labels == 3)/len(test_labels)\n",
        "test_4 = sum(test_labels == 4)/len(test_labels)\n",
        "test_5 = sum(test_labels == 5)/len(test_labels)\n",
        "\n",
        "d = {\"Label\":labels, \"Traindata\": [train_0, train_1, train_2, train_3, train_4, train_5], \n",
        "                  \"Validata\": [validation_0, validation_1, validation_2, validation_3, validation_4, validation_5],\n",
        "                  \"Testdata\": [test_0, test_1, test_2, test_3, test_4, test_5]}\n",
        "\n",
        "proportion_data = pd.DataFrame(data = d)\n",
        "proportion_data"
      ],
      "execution_count": 19,
      "outputs": [
        {
          "output_type": "execute_result",
          "data": {
            "text/html": [
              "<div>\n",
              "<style scoped>\n",
              "    .dataframe tbody tr th:only-of-type {\n",
              "        vertical-align: middle;\n",
              "    }\n",
              "\n",
              "    .dataframe tbody tr th {\n",
              "        vertical-align: top;\n",
              "    }\n",
              "\n",
              "    .dataframe thead th {\n",
              "        text-align: right;\n",
              "    }\n",
              "</style>\n",
              "<table border=\"1\" class=\"dataframe\">\n",
              "  <thead>\n",
              "    <tr style=\"text-align: right;\">\n",
              "      <th></th>\n",
              "      <th>Label</th>\n",
              "      <th>Traindata</th>\n",
              "      <th>Validata</th>\n",
              "      <th>Testdata</th>\n",
              "    </tr>\n",
              "  </thead>\n",
              "  <tbody>\n",
              "    <tr>\n",
              "      <th>0</th>\n",
              "      <td>True</td>\n",
              "      <td>0.393761</td>\n",
              "      <td>0.392976</td>\n",
              "      <td>0.396281</td>\n",
              "    </tr>\n",
              "    <tr>\n",
              "      <th>1</th>\n",
              "      <td>Satire</td>\n",
              "      <td>0.059363</td>\n",
              "      <td>0.059334</td>\n",
              "      <td>0.059239</td>\n",
              "    </tr>\n",
              "    <tr>\n",
              "      <th>2</th>\n",
              "      <td>False connection</td>\n",
              "      <td>0.190108</td>\n",
              "      <td>0.190034</td>\n",
              "      <td>0.190445</td>\n",
              "    </tr>\n",
              "    <tr>\n",
              "      <th>3</th>\n",
              "      <td>Imposter content</td>\n",
              "      <td>0.020894</td>\n",
              "      <td>0.020862</td>\n",
              "      <td>0.020634</td>\n",
              "    </tr>\n",
              "    <tr>\n",
              "      <th>4</th>\n",
              "      <td>Manipulated content</td>\n",
              "      <td>0.297619</td>\n",
              "      <td>0.300125</td>\n",
              "      <td>0.294543</td>\n",
              "    </tr>\n",
              "    <tr>\n",
              "      <th>5</th>\n",
              "      <td>Misleading content</td>\n",
              "      <td>0.038255</td>\n",
              "      <td>0.036669</td>\n",
              "      <td>0.038858</td>\n",
              "    </tr>\n",
              "  </tbody>\n",
              "</table>\n",
              "</div>"
            ],
            "text/plain": [
              "                 Label  Traindata  Validata  Testdata\n",
              "0                 True   0.393761  0.392976  0.396281\n",
              "1               Satire   0.059363  0.059334  0.059239\n",
              "2     False connection   0.190108  0.190034  0.190445\n",
              "3     Imposter content   0.020894  0.020862  0.020634\n",
              "4  Manipulated content   0.297619  0.300125  0.294543\n",
              "5   Misleading content   0.038255  0.036669  0.038858"
            ]
          },
          "metadata": {},
          "execution_count": 19
        }
      ]
    },
    {
      "cell_type": "markdown",
      "metadata": {
        "id": "G-5t5ai23dg-"
      },
      "source": [
        "As we can see the **3** datasets are unbalanced but  the proportions of the different labels are very similar in the 3 cases.\n"
      ]
    },
    {
      "cell_type": "markdown",
      "metadata": {
        "id": "kn6aXjnvGCtH"
      },
      "source": [
        "The next step is to clean the title of each new by removing stopwords from it and applying either stemming or lemmatization. We also remove  words that contain numbers, puntuaction, etc.\n"
      ]
    },
    {
      "cell_type": "markdown",
      "metadata": {
        "id": "t6vzzBz3JPaq"
      },
      "source": [
        "## Hyperparameter tuning\n",
        "\n",
        "In this subsection we will use the train and validation sets in order to choose the version of the Naive Bayes, Logistic Regression, Random Forest and LinearSVC which delivers the best results. In order to do that we train several different versions of the same models (changing the values of the hyper-parameters) and we will obtain their accuracy by using the valdation set. We will use the optuna module in order to perform hyper-parameter tuning.\n",
        "\n",
        "We will perform hyper-parameter tuning in **2** situations: in the first case we will apply stemming to the tokenized text and in the other case we will apply lemmatization. When performing model evaluation, we will compare the accuracy of all the models in both of the previous approaches.\n",
        "\n",
        "### Preprocessing\n",
        "\n",
        "First we remove punctuations and numbers and also multiple spaces\n"
      ]
    },
    {
      "cell_type": "code",
      "metadata": {
        "id": "V5yNXhXTlTYR"
      },
      "source": [
        "# Convert 'series' data to list\n",
        "\n",
        "## Texts ##\n",
        "\n",
        "# Train\n",
        "train_list = list(train_frame)\n",
        "# Valid\n",
        "valid_list = list(valid_frame)\n",
        "# Test\n",
        "test_list = list(test_frame)\n",
        "\n",
        "## Labels ##\n",
        "\n",
        "# Train\n",
        "train_labels_list = list(train_labels)\n",
        "# Valid\n",
        "valid_labels_list = list(valid_labels)\n",
        "# Test\n",
        "test_labels_list = list(test_labels)"
      ],
      "execution_count": null,
      "outputs": []
    },
    {
      "cell_type": "code",
      "metadata": {
        "id": "3pjkK699kgZ4"
      },
      "source": [
        "def preprocess_text(sen):\n",
        "    # Remove punctuations and numbers\n",
        "    sentence = re.sub('[^a-zA-Z]', ' ', sen)\n",
        "\n",
        "    # Removing multiple spaces\n",
        "    sentence = re.sub(r'\\s+', ' ', sentence)\n",
        "\n",
        "    return sentence"
      ],
      "execution_count": null,
      "outputs": []
    },
    {
      "cell_type": "code",
      "metadata": {
        "id": "AQ2boRQukkYc"
      },
      "source": [
        "# Remove puntuations and numbers and multiple spaces\n",
        "\n",
        "train_news_clean_1 = []\n",
        "valid_news_clean_1 = []\n",
        "test_news_clean_1 = []\n",
        "# Train\n",
        "for new in train_list:\n",
        "    train_news_clean_1.append(preprocess_text(new))\n",
        "# Validation\n",
        "for new in valid_list:\n",
        "    valid_news_clean_1.append(preprocess_text(new))\n",
        "# Test\n",
        "for new in test_list:\n",
        "    test_news_clean_1.append(preprocess_text(new))"
      ],
      "execution_count": null,
      "outputs": []
    },
    {
      "cell_type": "markdown",
      "metadata": {
        "id": "v5Y--UH5WRzD"
      },
      "source": [
        "### Stemmed and lemmatized data\n",
        "\n",
        "We obtain the stemmed and lemmatized data\n",
        "\n",
        "#### Stemmed data\n",
        "\n",
        "Function to remove stop words and perform stemming"
      ]
    },
    {
      "cell_type": "code",
      "metadata": {
        "colab": {
          "base_uri": "https://localhost:8080/"
        },
        "id": "StKYgxAHWM5G",
        "outputId": "01ece85a-c97e-471c-8091-3a036d8d0be1"
      },
      "source": [
        "# Initialize stemmer and stop_words\n",
        "import nltk\n",
        "nltk.download('stopwords')\n",
        "nltk.download('punkt')\n",
        "stemmer = PorterStemmer()\n",
        "stop_words = set(stopwords.words('english')) \n",
        "\n",
        "# Function to remove stopwords\n",
        "def remove_stopwords_stem(text):\n",
        "    text = word_tokenize(text)\n",
        "    # Stop words removal\n",
        "    text = [word for word in text if word not in stop_words]\n",
        "    # Stemming\n",
        "    stemmed_text = [stemmer.stem(word) for word in text]    \n",
        "    text_done = ' '.join(stemmed_text)\n",
        "    return text_done"
      ],
      "execution_count": null,
      "outputs": [
        {
          "name": "stdout",
          "output_type": "stream",
          "text": [
            "[nltk_data] Downloading package stopwords to /root/nltk_data...\n",
            "[nltk_data]   Package stopwords is already up-to-date!\n",
            "[nltk_data] Downloading package punkt to /root/nltk_data...\n",
            "[nltk_data]   Package punkt is already up-to-date!\n"
          ]
        }
      ]
    },
    {
      "cell_type": "markdown",
      "metadata": {
        "id": "TS0-a_lvkPET"
      },
      "source": [
        "We remove stop words and perform stemming"
      ]
    },
    {
      "cell_type": "code",
      "metadata": {
        "id": "DLno9zG1kOBB"
      },
      "source": [
        "# Train stemmed\n",
        "train_stemmed = [remove_stopwords_stem(text) for text in train_news_clean_1]\n",
        "# Validation stemmed\n",
        "valid_stemmed = [remove_stopwords_stem(text) for text in valid_news_clean_1]\n",
        "# Test stemmed\n",
        "test_stemmed = [remove_stopwords_stem(text) for text in test_news_clean_1]"
      ],
      "execution_count": null,
      "outputs": []
    },
    {
      "cell_type": "markdown",
      "metadata": {
        "id": "ZP39QM4JWgGQ"
      },
      "source": [
        "#### Lemmatized data\n",
        "\n",
        "Function to remove stop words and perform lemmatization"
      ]
    },
    {
      "cell_type": "code",
      "metadata": {
        "colab": {
          "base_uri": "https://localhost:8080/"
        },
        "id": "a149RPj9kBC3",
        "outputId": "c71a9315-11b2-4d40-9c72-d437e0027e6a"
      },
      "source": [
        "# Initialize lemmatizer\n",
        "nltk.download('wordnet')\n",
        "lemmatizer = WordNetLemmatizer()\n",
        "\n",
        "# Initialize stemmer and stop_words\n",
        "stemmer = PorterStemmer()\n",
        "stop_words = set(stopwords.words('english')) \n",
        "\n",
        "# Function to remove stopwords\n",
        "def remove_stopwords_lem(text):\n",
        "    text = word_tokenize(text)\n",
        "    # Stop words removal\n",
        "    text = [word for word in text if word not in stop_words]\n",
        "    # Lematization\n",
        "    lemmatized_text = []\n",
        "    for word in text:\n",
        "        word1 = lemmatizer.lemmatize(word, pos = \"n\")\n",
        "        word2 = lemmatizer.lemmatize(word1, pos = \"v\")\n",
        "        word3 = lemmatizer.lemmatize(word2, pos = (\"a\"))\n",
        "        lemmatized_text.append(word3) \n",
        "    text_done = ' '.join(lemmatized_text)\n",
        "    return text_done"
      ],
      "execution_count": null,
      "outputs": [
        {
          "name": "stdout",
          "output_type": "stream",
          "text": [
            "[nltk_data] Downloading package wordnet to /root/nltk_data...\n",
            "[nltk_data]   Package wordnet is already up-to-date!\n"
          ]
        }
      ]
    },
    {
      "cell_type": "markdown",
      "metadata": {
        "id": "KHwGuopDopz4"
      },
      "source": [
        "We remove stop words and perform lemmatiztion"
      ]
    },
    {
      "cell_type": "code",
      "metadata": {
        "id": "lO6dLD_eorSg"
      },
      "source": [
        "# Train lemmatized\n",
        "train_lemmatized = [remove_stopwords_lem(text) for text in train_news_clean_1]\n",
        "# Validation lemmatized\n",
        "valid_lemmatized = [remove_stopwords_lem(text) for text in valid_news_clean_1]\n",
        "# Test lemmatized\n",
        "test_lemmatized = [remove_stopwords_lem(text) for text in test_news_clean_1]"
      ],
      "execution_count": null,
      "outputs": []
    },
    {
      "cell_type": "markdown",
      "metadata": {
        "id": "B4weu3woJPax"
      },
      "source": [
        "### Stemming\n",
        "\n",
        "#### Multinomial Naive Bayes"
      ]
    },
    {
      "cell_type": "code",
      "metadata": {
        "colab": {
          "base_uri": "https://localhost:8080/"
        },
        "id": "B0kPyt9KJPay",
        "outputId": "ba37258b-5d2c-4d7b-bc3e-f400fe6fd3ca"
      },
      "source": [
        "### HPO with optuna ####\n",
        "\n",
        "import optuna\n",
        "\n",
        "# Define function to be optimized\n",
        "def objective_Bayes(trial):\n",
        "    \n",
        "    # Sample values for the hyper-parameters\n",
        "    n = trial.suggest_int(\"n\", 1, 2)\n",
        "    sub_tf = trial.suggest_categorical(\"sub_tf\", [\"True\", \"False\"])\n",
        "    min_df = trial.suggest_int(\"min_df\",5,25)\n",
        "    # Create pipeline\n",
        "    Bayes_pipe = Pipeline([('vect', CountVectorizer(ngram_range = (1, n), min_df = min_df)),\n",
        "                            ('tfidf', TfidfTransformer(sublinear_tf = sub_tf)),('classifier', MultinomialNB() )])\n",
        "    # Fit model\n",
        "    clf_Bayes = Bayes_pipe.fit(train_stemmed, train_labels_list)\n",
        "    # Obtain the predictions\n",
        "    predictions = Bayes_pipe.predict(valid_stemmed)\n",
        "    # Obtain the accuracy\n",
        "    acc = accuracy_score(valid_labels_list, predictions)\n",
        "    \n",
        "    return acc\n",
        "\n",
        "# Select budget and set seed                            \n",
        "budget = 40\n",
        "np.random.seed(0)\n",
        "# Optimize hyper-parameters\n",
        "study_Bayes = optuna.create_study(direction=\"maximize\")\n",
        "study_Bayes.optimize(objective_Bayes, n_trials=budget,show_progress_bar=False)\n",
        "\n",
        "# Best hyper-parameters\n",
        "print(\"Best hyper-parameters: \")\n",
        "print(study_Bayes.best_params)\n",
        "# Best score\n",
        "print(\"Best score: \")\n",
        "print(study_Bayes.best_value)\n"
      ],
      "execution_count": null,
      "outputs": [
        {
          "name": "stderr",
          "output_type": "stream",
          "text": [
            "\u001b[32m[I 2021-07-19 16:44:39,479]\u001b[0m A new study created in memory with name: no-name-d1d5fb21-09d9-408d-a20d-9923d8f27e09\u001b[0m\n",
            "\u001b[32m[I 2021-07-19 16:46:57,065]\u001b[0m Trial 0 finished with value: 0.6322671969262916 and parameters: {'n': 2, 'sub_tf': 'False', 'min_df': 10}. Best is trial 0 with value: 0.6322671969262916.\u001b[0m\n",
            "\u001b[32m[I 2021-07-19 16:49:14,105]\u001b[0m Trial 1 finished with value: 0.6242627481379125 and parameters: {'n': 2, 'sub_tf': 'False', 'min_df': 24}. Best is trial 0 with value: 0.6322671969262916.\u001b[0m\n",
            "\u001b[32m[I 2021-07-19 16:51:31,088]\u001b[0m Trial 2 finished with value: 0.6299079909676115 and parameters: {'n': 2, 'sub_tf': 'True', 'min_df': 13}. Best is trial 0 with value: 0.6322671969262916.\u001b[0m\n",
            "\u001b[32m[I 2021-07-19 16:53:47,907]\u001b[0m Trial 3 finished with value: 0.6325199689932931 and parameters: {'n': 2, 'sub_tf': 'False', 'min_df': 9}. Best is trial 3 with value: 0.6325199689932931.\u001b[0m\n",
            "\u001b[32m[I 2021-07-19 16:56:04,624]\u001b[0m Trial 4 finished with value: 0.6351825014323751 and parameters: {'n': 2, 'sub_tf': 'False', 'min_df': 5}. Best is trial 4 with value: 0.6351825014323751.\u001b[0m\n",
            "\u001b[32m[I 2021-07-19 16:58:21,594]\u001b[0m Trial 5 finished with value: 0.6296046644872098 and parameters: {'n': 1, 'sub_tf': 'False', 'min_df': 14}. Best is trial 4 with value: 0.6351825014323751.\u001b[0m\n",
            "\u001b[32m[I 2021-07-19 17:00:38,506]\u001b[0m Trial 6 finished with value: 0.6253917967038523 and parameters: {'n': 1, 'sub_tf': 'False', 'min_df': 22}. Best is trial 4 with value: 0.6351825014323751.\u001b[0m\n",
            "\u001b[32m[I 2021-07-19 17:02:55,520]\u001b[0m Trial 7 finished with value: 0.6257119746553874 and parameters: {'n': 2, 'sub_tf': 'False', 'min_df': 21}. Best is trial 4 with value: 0.6351825014323751.\u001b[0m\n",
            "\u001b[32m[I 2021-07-19 17:05:12,350]\u001b[0m Trial 8 finished with value: 0.6322671969262916 and parameters: {'n': 1, 'sub_tf': 'True', 'min_df': 10}. Best is trial 4 with value: 0.6351825014323751.\u001b[0m\n",
            "\u001b[32m[I 2021-07-19 17:07:29,406]\u001b[0m Trial 9 finished with value: 0.6284419129790031 and parameters: {'n': 1, 'sub_tf': 'False', 'min_df': 16}. Best is trial 4 with value: 0.6351825014323751.\u001b[0m\n",
            "\u001b[32m[I 2021-07-19 17:09:46,592]\u001b[0m Trial 10 finished with value: 0.6351825014323751 and parameters: {'n': 2, 'sub_tf': 'True', 'min_df': 5}. Best is trial 4 with value: 0.6351825014323751.\u001b[0m\n",
            "\u001b[32m[I 2021-07-19 17:12:03,410]\u001b[0m Trial 11 finished with value: 0.6351825014323751 and parameters: {'n': 2, 'sub_tf': 'True', 'min_df': 5}. Best is trial 4 with value: 0.6351825014323751.\u001b[0m\n",
            "\u001b[32m[I 2021-07-19 17:14:20,617]\u001b[0m Trial 12 finished with value: 0.6343904822891039 and parameters: {'n': 2, 'sub_tf': 'True', 'min_df': 6}. Best is trial 4 with value: 0.6351825014323751.\u001b[0m\n",
            "\u001b[32m[I 2021-07-19 17:16:37,211]\u001b[0m Trial 13 finished with value: 0.6351825014323751 and parameters: {'n': 2, 'sub_tf': 'True', 'min_df': 5}. Best is trial 4 with value: 0.6351825014323751.\u001b[0m\n",
            "\u001b[32m[I 2021-07-19 17:18:54,044]\u001b[0m Trial 14 finished with value: 0.6339354925685012 and parameters: {'n': 2, 'sub_tf': 'True', 'min_df': 7}. Best is trial 4 with value: 0.6351825014323751.\u001b[0m\n",
            "\u001b[32m[I 2021-07-19 17:21:10,699]\u001b[0m Trial 15 finished with value: 0.6278015570759328 and parameters: {'n': 2, 'sub_tf': 'True', 'min_df': 17}. Best is trial 4 with value: 0.6351825014323751.\u001b[0m\n",
            "\u001b[32m[I 2021-07-19 17:23:27,870]\u001b[0m Trial 16 finished with value: 0.6333962454922315 and parameters: {'n': 2, 'sub_tf': 'False', 'min_df': 8}. Best is trial 4 with value: 0.6351825014323751.\u001b[0m\n",
            "\u001b[32m[I 2021-07-19 17:25:44,564]\u001b[0m Trial 17 finished with value: 0.6306663071686158 and parameters: {'n': 2, 'sub_tf': 'True', 'min_df': 12}. Best is trial 4 with value: 0.6351825014323751.\u001b[0m\n",
            "\u001b[32m[I 2021-07-19 17:28:01,202]\u001b[0m Trial 18 finished with value: 0.6351825014323751 and parameters: {'n': 2, 'sub_tf': 'False', 'min_df': 5}. Best is trial 4 with value: 0.6351825014323751.\u001b[0m\n",
            "\u001b[32m[I 2021-07-19 17:30:18,047]\u001b[0m Trial 19 finished with value: 0.6339354925685012 and parameters: {'n': 1, 'sub_tf': 'False', 'min_df': 7}. Best is trial 4 with value: 0.6351825014323751.\u001b[0m\n",
            "\u001b[32m[I 2021-07-19 17:32:34,770]\u001b[0m Trial 20 finished with value: 0.631576286609821 and parameters: {'n': 2, 'sub_tf': 'True', 'min_df': 11}. Best is trial 4 with value: 0.6351825014323751.\u001b[0m\n",
            "\u001b[32m[I 2021-07-19 17:34:51,501]\u001b[0m Trial 21 finished with value: 0.6351825014323751 and parameters: {'n': 2, 'sub_tf': 'False', 'min_df': 5}. Best is trial 4 with value: 0.6351825014323751.\u001b[0m\n",
            "\u001b[32m[I 2021-07-19 17:37:08,137]\u001b[0m Trial 22 finished with value: 0.6351825014323751 and parameters: {'n': 2, 'sub_tf': 'True', 'min_df': 5}. Best is trial 4 with value: 0.6351825014323751.\u001b[0m\n",
            "\u001b[32m[I 2021-07-19 17:39:25,081]\u001b[0m Trial 23 finished with value: 0.6339354925685012 and parameters: {'n': 2, 'sub_tf': 'True', 'min_df': 7}. Best is trial 4 with value: 0.6351825014323751.\u001b[0m\n",
            "\u001b[32m[I 2021-07-19 17:41:41,593]\u001b[0m Trial 24 finished with value: 0.6268915776347275 and parameters: {'n': 2, 'sub_tf': 'False', 'min_df': 18}. Best is trial 4 with value: 0.6351825014323751.\u001b[0m\n",
            "\u001b[32m[I 2021-07-19 17:43:58,253]\u001b[0m Trial 25 finished with value: 0.6333962454922315 and parameters: {'n': 2, 'sub_tf': 'False', 'min_df': 8}. Best is trial 4 with value: 0.6351825014323751.\u001b[0m\n",
            "\u001b[32m[I 2021-07-19 17:46:15,285]\u001b[0m Trial 26 finished with value: 0.6351825014323751 and parameters: {'n': 2, 'sub_tf': 'False', 'min_df': 5}. Best is trial 4 with value: 0.6351825014323751.\u001b[0m\n",
            "\u001b[32m[I 2021-07-19 17:48:32,181]\u001b[0m Trial 27 finished with value: 0.6325199689932931 and parameters: {'n': 2, 'sub_tf': 'True', 'min_df': 9}. Best is trial 4 with value: 0.6351825014323751.\u001b[0m\n",
            "\u001b[32m[I 2021-07-19 17:50:49,220]\u001b[0m Trial 28 finished with value: 0.6343904822891039 and parameters: {'n': 2, 'sub_tf': 'True', 'min_df': 6}. Best is trial 4 with value: 0.6351825014323751.\u001b[0m\n",
            "\u001b[32m[I 2021-07-19 17:53:05,866]\u001b[0m Trial 29 finished with value: 0.6322671969262916 and parameters: {'n': 2, 'sub_tf': 'False', 'min_df': 10}. Best is trial 4 with value: 0.6351825014323751.\u001b[0m\n",
            "\u001b[32m[I 2021-07-19 17:55:22,825]\u001b[0m Trial 30 finished with value: 0.6333962454922315 and parameters: {'n': 1, 'sub_tf': 'False', 'min_df': 8}. Best is trial 4 with value: 0.6351825014323751.\u001b[0m\n",
            "\u001b[32m[I 2021-07-19 17:57:39,738]\u001b[0m Trial 31 finished with value: 0.6351825014323751 and parameters: {'n': 2, 'sub_tf': 'True', 'min_df': 5}. Best is trial 4 with value: 0.6351825014323751.\u001b[0m\n",
            "\u001b[32m[I 2021-07-19 17:59:56,241]\u001b[0m Trial 32 finished with value: 0.6343904822891039 and parameters: {'n': 2, 'sub_tf': 'True', 'min_df': 6}. Best is trial 4 with value: 0.6351825014323751.\u001b[0m\n",
            "\u001b[32m[I 2021-07-19 18:02:13,084]\u001b[0m Trial 33 finished with value: 0.6343904822891039 and parameters: {'n': 2, 'sub_tf': 'True', 'min_df': 6}. Best is trial 4 with value: 0.6351825014323751.\u001b[0m\n",
            "\u001b[32m[I 2021-07-19 18:04:29,749]\u001b[0m Trial 34 finished with value: 0.6325199689932931 and parameters: {'n': 2, 'sub_tf': 'True', 'min_df': 9}. Best is trial 4 with value: 0.6351825014323751.\u001b[0m\n",
            "\u001b[32m[I 2021-07-19 18:06:46,409]\u001b[0m Trial 35 finished with value: 0.6351825014323751 and parameters: {'n': 2, 'sub_tf': 'False', 'min_df': 5}. Best is trial 4 with value: 0.6351825014323751.\u001b[0m\n",
            "\u001b[32m[I 2021-07-19 18:09:02,725]\u001b[0m Trial 36 finished with value: 0.6339354925685012 and parameters: {'n': 2, 'sub_tf': 'False', 'min_df': 7}. Best is trial 4 with value: 0.6351825014323751.\u001b[0m\n",
            "\u001b[32m[I 2021-07-19 18:11:19,046]\u001b[0m Trial 37 finished with value: 0.6237740554750429 and parameters: {'n': 2, 'sub_tf': 'False', 'min_df': 25}. Best is trial 4 with value: 0.6351825014323751.\u001b[0m\n",
            "\u001b[32m[I 2021-07-19 18:13:35,162]\u001b[0m Trial 38 finished with value: 0.6296046644872098 and parameters: {'n': 2, 'sub_tf': 'False', 'min_df': 14}. Best is trial 4 with value: 0.6351825014323751.\u001b[0m\n",
            "\u001b[32m[I 2021-07-19 18:15:51,531]\u001b[0m Trial 39 finished with value: 0.631576286609821 and parameters: {'n': 2, 'sub_tf': 'False', 'min_df': 11}. Best is trial 4 with value: 0.6351825014323751.\u001b[0m\n"
          ]
        },
        {
          "name": "stdout",
          "output_type": "stream",
          "text": [
            "Best hyper-parameters: \n",
            "{'n': 2, 'sub_tf': 'False', 'min_df': 5}\n",
            "Best score: \n",
            "0.6351825014323751\n"
          ]
        }
      ]
    },
    {
      "cell_type": "markdown",
      "metadata": {
        "id": "hhTpqpnqJPa0"
      },
      "source": [
        "#### Logistic Regression"
      ]
    },
    {
      "cell_type": "code",
      "metadata": {
        "colab": {
          "base_uri": "https://localhost:8080/"
        },
        "id": "H-2OSisaJPa1",
        "outputId": "910392e8-0fbf-4cba-e0a5-f56b7c05cfc9"
      },
      "source": [
        "### HPO with optuna ####\n",
        "\n",
        "import optuna\n",
        "\n",
        "# Define function to be optimized\n",
        "def objective_Logistic(trial):\n",
        "    \n",
        "    # Sample values for the hyper-parameters\n",
        "    max_iter = trial.suggest_int(\"max_iter\", 320, 420)\n",
        "    solver = trial.suggest_categorical(\"solver\", [\"newton-cg\"])\n",
        "    multi_class = trial.suggest_categorical(\"multi_class\",[\"ovr\", \"multinomial\"])\n",
        "    n = trial.suggest_int(\"n\", 1, 2)\n",
        "    min_df = trial.suggest_int(\"min_df\",5,25)\n",
        "    sub_tf = trial.suggest_categorical(\"sub_tf\", [\"True\", \"False\"])\n",
        "    # Create pipeline\n",
        "    Logistic_pipe = Pipeline([('vect', CountVectorizer(ngram_range = (1, n), min_df = min_df)),\n",
        "                            ('tfidf', TfidfTransformer(sublinear_tf = sub_tf)),('classifier', LogisticRegression(random_state = 3,\n",
        "                                    solver = solver, multi_class = multi_class,   max_iter = max_iter ) )])\n",
        "\n",
        "    # Fit model\n",
        "    clf_Logistic = Logistic_pipe.fit(train_stemmed, train_labels_list)\n",
        "    # Obtain the predictions\n",
        "    predictions = Logistic_pipe.predict(valid_stemmed)\n",
        "    # Obtain the accuracy\n",
        "    acc = accuracy_score(valid_labels_list, predictions)\n",
        "    \n",
        "    return acc\n",
        "\n",
        "# Select budget and set seed                            \n",
        "budget = 40\n",
        "np.random.seed(0)\n",
        "# Optimize hyper-parameters\n",
        "study_Logistic = optuna.create_study(direction=\"maximize\")\n",
        "study_Logistic.optimize(objective_Logistic, n_trials=budget,show_progress_bar=False)\n",
        "\n",
        "# Best hyper-parameters\n",
        "print(\"Best hyper-parameters: \")\n",
        "print(study_Logistic.best_params)\n",
        "# Best score\n",
        "print(\"Best score: \")\n",
        "print(study_Logistic.best_value)"
      ],
      "execution_count": null,
      "outputs": [
        {
          "name": "stderr",
          "output_type": "stream",
          "text": [
            "\u001b[32m[I 2021-07-19 19:03:16,461]\u001b[0m A new study created in memory with name: no-name-57421891-4171-443f-8726-69cebdcd0105\u001b[0m\n",
            "\u001b[32m[I 2021-07-19 19:05:09,979]\u001b[0m Trial 0 finished with value: 0.6965050048869267 and parameters: {'max_iter': 381, 'solver': 'newton-cg', 'multi_class': 'multinomial', 'n': 1, 'min_df': 24, 'sub_tf': 'False'}. Best is trial 0 with value: 0.6965050048869267.\u001b[0m\n",
            "\u001b[32m[I 2021-07-19 19:06:30,877]\u001b[0m Trial 1 finished with value: 0.7092110141215328 and parameters: {'max_iter': 355, 'solver': 'newton-cg', 'multi_class': 'ovr', 'n': 2, 'min_df': 6, 'sub_tf': 'True'}. Best is trial 1 with value: 0.7092110141215328.\u001b[0m\n",
            "\u001b[32m[I 2021-07-19 19:08:42,837]\u001b[0m Trial 2 finished with value: 0.7056047992989788 and parameters: {'max_iter': 366, 'solver': 'newton-cg', 'multi_class': 'multinomial', 'n': 2, 'min_df': 25, 'sub_tf': 'True'}. Best is trial 1 with value: 0.7092110141215328.\u001b[0m\n",
            "\u001b[32m[I 2021-07-19 19:11:02,760]\u001b[0m Trial 3 finished with value: 0.713255367193556 and parameters: {'max_iter': 379, 'solver': 'newton-cg', 'multi_class': 'multinomial', 'n': 2, 'min_df': 8, 'sub_tf': 'False'}. Best is trial 3 with value: 0.713255367193556.\u001b[0m\n",
            "\u001b[32m[I 2021-07-19 19:12:57,117]\u001b[0m Trial 4 finished with value: 0.6965050048869267 and parameters: {'max_iter': 331, 'solver': 'newton-cg', 'multi_class': 'multinomial', 'n': 1, 'min_df': 24, 'sub_tf': 'False'}. Best is trial 3 with value: 0.713255367193556.\u001b[0m\n",
            "\u001b[32m[I 2021-07-19 19:14:12,386]\u001b[0m Trial 5 finished with value: 0.7066158875669846 and parameters: {'max_iter': 391, 'solver': 'newton-cg', 'multi_class': 'ovr', 'n': 2, 'min_df': 15, 'sub_tf': 'False'}. Best is trial 3 with value: 0.713255367193556.\u001b[0m\n",
            "\u001b[32m[I 2021-07-19 19:15:29,466]\u001b[0m Trial 6 finished with value: 0.7080651140844596 and parameters: {'max_iter': 324, 'solver': 'newton-cg', 'multi_class': 'ovr', 'n': 2, 'min_df': 11, 'sub_tf': 'False'}. Best is trial 3 with value: 0.713255367193556.\u001b[0m\n",
            "\u001b[32m[I 2021-07-19 19:16:32,725]\u001b[0m Trial 7 finished with value: 0.6955276195611877 and parameters: {'max_iter': 337, 'solver': 'newton-cg', 'multi_class': 'ovr', 'n': 1, 'min_df': 13, 'sub_tf': 'False'}. Best is trial 3 with value: 0.713255367193556.\u001b[0m\n",
            "\u001b[32m[I 2021-07-19 19:17:38,025]\u001b[0m Trial 8 finished with value: 0.6963196387044589 and parameters: {'max_iter': 342, 'solver': 'newton-cg', 'multi_class': 'ovr', 'n': 1, 'min_df': 6, 'sub_tf': 'False'}. Best is trial 3 with value: 0.713255367193556.\u001b[0m\n",
            "\u001b[32m[I 2021-07-19 19:19:59,460]\u001b[0m Trial 9 finished with value: 0.7140473863368272 and parameters: {'max_iter': 383, 'solver': 'newton-cg', 'multi_class': 'multinomial', 'n': 2, 'min_df': 7, 'sub_tf': 'True'}. Best is trial 9 with value: 0.7140473863368272.\u001b[0m\n",
            "\u001b[32m[I 2021-07-19 19:22:14,560]\u001b[0m Trial 10 finished with value: 0.7088065788143305 and parameters: {'max_iter': 410, 'solver': 'newton-cg', 'multi_class': 'multinomial', 'n': 2, 'min_df': 18, 'sub_tf': 'True'}. Best is trial 9 with value: 0.7140473863368272.\u001b[0m\n",
            "\u001b[32m[I 2021-07-19 19:24:36,436]\u001b[0m Trial 11 finished with value: 0.7130531495399548 and parameters: {'max_iter': 400, 'solver': 'newton-cg', 'multi_class': 'multinomial', 'n': 2, 'min_df': 9, 'sub_tf': 'True'}. Best is trial 9 with value: 0.7140473863368272.\u001b[0m\n",
            "\u001b[32m[I 2021-07-19 19:27:02,155]\u001b[0m Trial 12 finished with value: 0.7145866334130969 and parameters: {'max_iter': 373, 'solver': 'newton-cg', 'multi_class': 'multinomial', 'n': 2, 'min_df': 5, 'sub_tf': 'True'}. Best is trial 12 with value: 0.7145866334130969.\u001b[0m\n",
            "\u001b[32m[I 2021-07-19 19:29:29,201]\u001b[0m Trial 13 finished with value: 0.7145866334130969 and parameters: {'max_iter': 420, 'solver': 'newton-cg', 'multi_class': 'multinomial', 'n': 2, 'min_df': 5, 'sub_tf': 'True'}. Best is trial 12 with value: 0.7145866334130969.\u001b[0m\n",
            "\u001b[32m[I 2021-07-19 19:31:58,323]\u001b[0m Trial 14 finished with value: 0.7145866334130969 and parameters: {'max_iter': 420, 'solver': 'newton-cg', 'multi_class': 'multinomial', 'n': 2, 'min_df': 5, 'sub_tf': 'True'}. Best is trial 12 with value: 0.7145866334130969.\u001b[0m\n",
            "\u001b[32m[I 2021-07-19 19:34:21,757]\u001b[0m Trial 15 finished with value: 0.7093289744194669 and parameters: {'max_iter': 418, 'solver': 'newton-cg', 'multi_class': 'multinomial', 'n': 2, 'min_df': 17, 'sub_tf': 'True'}. Best is trial 12 with value: 0.7145866334130969.\u001b[0m\n",
            "\u001b[32m[I 2021-07-19 19:36:48,204]\u001b[0m Trial 16 finished with value: 0.7122948333389505 and parameters: {'max_iter': 354, 'solver': 'newton-cg', 'multi_class': 'multinomial', 'n': 2, 'min_df': 11, 'sub_tf': 'True'}. Best is trial 12 with value: 0.7145866334130969.\u001b[0m\n",
            "\u001b[32m[I 2021-07-19 19:39:00,509]\u001b[0m Trial 17 finished with value: 0.7074753125947896 and parameters: {'max_iter': 412, 'solver': 'newton-cg', 'multi_class': 'multinomial', 'n': 2, 'min_df': 21, 'sub_tf': 'True'}. Best is trial 12 with value: 0.7145866334130969.\u001b[0m\n",
            "\u001b[32m[I 2021-07-19 19:41:09,870]\u001b[0m Trial 18 finished with value: 0.7128509318863537 and parameters: {'max_iter': 398, 'solver': 'newton-cg', 'multi_class': 'multinomial', 'n': 2, 'min_df': 10, 'sub_tf': 'True'}. Best is trial 12 with value: 0.7145866334130969.\u001b[0m\n",
            "\u001b[32m[I 2021-07-19 19:43:09,186]\u001b[0m Trial 19 finished with value: 0.7008021300259513 and parameters: {'max_iter': 419, 'solver': 'newton-cg', 'multi_class': 'multinomial', 'n': 1, 'min_df': 5, 'sub_tf': 'True'}. Best is trial 12 with value: 0.7145866334130969.\u001b[0m\n",
            "\u001b[32m[I 2021-07-19 19:45:23,168]\u001b[0m Trial 20 finished with value: 0.7118398436183478 and parameters: {'max_iter': 367, 'solver': 'newton-cg', 'multi_class': 'multinomial', 'n': 2, 'min_df': 13, 'sub_tf': 'True'}. Best is trial 12 with value: 0.7145866334130969.\u001b[0m\n",
            "\u001b[32m[I 2021-07-19 19:47:49,882]\u001b[0m Trial 21 finished with value: 0.7145866334130969 and parameters: {'max_iter': 403, 'solver': 'newton-cg', 'multi_class': 'multinomial', 'n': 2, 'min_df': 5, 'sub_tf': 'True'}. Best is trial 12 with value: 0.7145866334130969.\u001b[0m\n",
            "\u001b[32m[I 2021-07-19 19:50:15,307]\u001b[0m Trial 22 finished with value: 0.7145866334130969 and parameters: {'max_iter': 409, 'solver': 'newton-cg', 'multi_class': 'multinomial', 'n': 2, 'min_df': 5, 'sub_tf': 'True'}. Best is trial 12 with value: 0.7145866334130969.\u001b[0m\n",
            "\u001b[32m[I 2021-07-19 19:52:36,043]\u001b[0m Trial 23 finished with value: 0.713255367193556 and parameters: {'max_iter': 420, 'solver': 'newton-cg', 'multi_class': 'multinomial', 'n': 2, 'min_df': 8, 'sub_tf': 'True'}. Best is trial 12 with value: 0.7145866334130969.\u001b[0m\n",
            "\u001b[32m[I 2021-07-19 19:54:57,306]\u001b[0m Trial 24 finished with value: 0.7140473863368272 and parameters: {'max_iter': 401, 'solver': 'newton-cg', 'multi_class': 'multinomial', 'n': 2, 'min_df': 7, 'sub_tf': 'True'}. Best is trial 12 with value: 0.7145866334130969.\u001b[0m\n",
            "\u001b[32m[I 2021-07-19 19:57:21,142]\u001b[0m Trial 25 finished with value: 0.7145866334130969 and parameters: {'max_iter': 392, 'solver': 'newton-cg', 'multi_class': 'multinomial', 'n': 2, 'min_df': 5, 'sub_tf': 'True'}. Best is trial 12 with value: 0.7145866334130969.\u001b[0m\n",
            "\u001b[32m[I 2021-07-19 19:59:42,018]\u001b[0m Trial 26 finished with value: 0.7130531495399548 and parameters: {'max_iter': 409, 'solver': 'newton-cg', 'multi_class': 'multinomial', 'n': 2, 'min_df': 9, 'sub_tf': 'True'}. Best is trial 12 with value: 0.7145866334130969.\u001b[0m\n",
            "\u001b[32m[I 2021-07-19 20:02:02,148]\u001b[0m Trial 27 finished with value: 0.7140473863368272 and parameters: {'max_iter': 407, 'solver': 'newton-cg', 'multi_class': 'multinomial', 'n': 2, 'min_df': 7, 'sub_tf': 'True'}. Best is trial 12 with value: 0.7145866334130969.\u001b[0m\n",
            "\u001b[32m[I 2021-07-19 20:04:13,137]\u001b[0m Trial 28 finished with value: 0.7116207744936133 and parameters: {'max_iter': 391, 'solver': 'newton-cg', 'multi_class': 'multinomial', 'n': 2, 'min_df': 12, 'sub_tf': 'True'}. Best is trial 12 with value: 0.7145866334130969.\u001b[0m\n",
            "\u001b[32m[I 2021-07-19 20:06:11,857]\u001b[0m Trial 29 finished with value: 0.7008021300259513 and parameters: {'max_iter': 393, 'solver': 'newton-cg', 'multi_class': 'multinomial', 'n': 1, 'min_df': 5, 'sub_tf': 'True'}. Best is trial 12 with value: 0.7145866334130969.\u001b[0m\n",
            "\u001b[32m[I 2021-07-19 20:08:31,698]\u001b[0m Trial 30 finished with value: 0.713255367193556 and parameters: {'max_iter': 416, 'solver': 'newton-cg', 'multi_class': 'multinomial', 'n': 2, 'min_df': 8, 'sub_tf': 'True'}. Best is trial 12 with value: 0.7145866334130969.\u001b[0m\n",
            "\u001b[32m[I 2021-07-19 20:10:57,349]\u001b[0m Trial 31 finished with value: 0.7145866334130969 and parameters: {'max_iter': 374, 'solver': 'newton-cg', 'multi_class': 'multinomial', 'n': 2, 'min_df': 5, 'sub_tf': 'True'}. Best is trial 12 with value: 0.7145866334130969.\u001b[0m\n",
            "\u001b[32m[I 2021-07-19 20:13:15,241]\u001b[0m Trial 32 finished with value: 0.7136766539718917 and parameters: {'max_iter': 376, 'solver': 'newton-cg', 'multi_class': 'multinomial', 'n': 2, 'min_df': 6, 'sub_tf': 'True'}. Best is trial 12 with value: 0.7145866334130969.\u001b[0m\n",
            "\u001b[32m[I 2021-07-19 20:15:32,470]\u001b[0m Trial 33 finished with value: 0.7136766539718917 and parameters: {'max_iter': 354, 'solver': 'newton-cg', 'multi_class': 'multinomial', 'n': 2, 'min_df': 6, 'sub_tf': 'True'}. Best is trial 12 with value: 0.7145866334130969.\u001b[0m\n",
            "\u001b[32m[I 2021-07-19 20:17:55,119]\u001b[0m Trial 34 finished with value: 0.7130531495399548 and parameters: {'max_iter': 384, 'solver': 'newton-cg', 'multi_class': 'multinomial', 'n': 2, 'min_df': 9, 'sub_tf': 'True'}. Best is trial 12 with value: 0.7145866334130969.\u001b[0m\n",
            "\u001b[32m[I 2021-07-19 20:20:18,707]\u001b[0m Trial 35 finished with value: 0.7140473863368272 and parameters: {'max_iter': 362, 'solver': 'newton-cg', 'multi_class': 'multinomial', 'n': 2, 'min_df': 7, 'sub_tf': 'True'}. Best is trial 12 with value: 0.7145866334130969.\u001b[0m\n",
            "\u001b[32m[I 2021-07-19 20:21:48,015]\u001b[0m Trial 36 finished with value: 0.7093458258906002 and parameters: {'max_iter': 404, 'solver': 'newton-cg', 'multi_class': 'ovr', 'n': 2, 'min_df': 5, 'sub_tf': 'True'}. Best is trial 12 with value: 0.7145866334130969.\u001b[0m\n",
            "\u001b[32m[I 2021-07-19 20:24:08,682]\u001b[0m Trial 37 finished with value: 0.7136766539718917 and parameters: {'max_iter': 372, 'solver': 'newton-cg', 'multi_class': 'multinomial', 'n': 2, 'min_df': 6, 'sub_tf': 'True'}. Best is trial 12 with value: 0.7145866334130969.\u001b[0m\n",
            "\u001b[32m[I 2021-07-19 20:26:32,670]\u001b[0m Trial 38 finished with value: 0.713255367193556 and parameters: {'max_iter': 395, 'solver': 'newton-cg', 'multi_class': 'multinomial', 'n': 2, 'min_df': 8, 'sub_tf': 'False'}. Best is trial 12 with value: 0.7145866334130969.\u001b[0m\n",
            "\u001b[32m[I 2021-07-19 20:27:50,725]\u001b[0m Trial 39 finished with value: 0.7038016918877018 and parameters: {'max_iter': 387, 'solver': 'newton-cg', 'multi_class': 'ovr', 'n': 2, 'min_df': 23, 'sub_tf': 'True'}. Best is trial 12 with value: 0.7145866334130969.\u001b[0m\n"
          ]
        },
        {
          "name": "stdout",
          "output_type": "stream",
          "text": [
            "Best hyper-parameters: \n",
            "{'max_iter': 373, 'solver': 'newton-cg', 'multi_class': 'multinomial', 'n': 2, 'min_df': 5, 'sub_tf': 'True'}\n",
            "Best score: \n",
            "0.7145866334130969\n"
          ]
        }
      ]
    },
    {
      "cell_type": "markdown",
      "metadata": {
        "id": "wRxSoXbnJPa3"
      },
      "source": [
        "#### Random Forest"
      ]
    },
    {
      "cell_type": "code",
      "metadata": {
        "colab": {
          "base_uri": "https://localhost:8080/"
        },
        "id": "Wdc4Bt5dJPa3",
        "outputId": "07c9b35e-a6f3-4643-b5a4-b54ac4bcaa3d"
      },
      "source": [
        "### HPO with optuna ####\n",
        "\n",
        "import optuna\n",
        "\n",
        "# Define function to be optimized\n",
        "def objective_Forest(trial):\n",
        "    \n",
        "    # Sample values for the hyper-parameters\n",
        "    n_estimators = trial.suggest_int(\"n_estimators\", 100, 300)\n",
        "    criterion = trial.suggest_categorical(\"criterion\", [\"gini\", \"entropy\"])\n",
        "    max_depth = trial.suggest_int(\"max_depth\", 3, 6)\n",
        "    n = trial.suggest_int(\"n\", 1, 2)\n",
        "    min_df = trial.suggest_int(\"min_df\",5,25)\n",
        "    sub_tf = trial.suggest_categorical(\"sub_tf\", [\"True\", \"False\"])\n",
        "    # Create pipeline\n",
        "    Forest_pipe = Pipeline([('vect', CountVectorizer(ngram_range = (1, n), min_df = min_df)),\n",
        "                            ('tfidf', TfidfTransformer(sublinear_tf = sub_tf)),('classifier', RandomForestClassifier(\n",
        "                                random_state = 3, n_estimators = n_estimators, criterion = criterion,\n",
        "                                max_depth = max_depth ) )])\n",
        "\n",
        "    # Fit model\n",
        "    clf_Forest = Forest_pipe.fit(train_stemmed, train_labels_list)\n",
        "    # Obtain the predictions\n",
        "    predictions = Forest_pipe.predict(valid_stemmed)\n",
        "    # Obtain the accuracy\n",
        "    acc = accuracy_score(valid_labels_list, predictions)\n",
        "    \n",
        "    return acc\n",
        "\n",
        "# Select budget and set seed                            \n",
        "budget = 40\n",
        "np.random.seed(0)\n",
        "# Optimize hyper-parameters\n",
        "study_Forest = optuna.create_study(direction=\"maximize\")\n",
        "study_Forest.optimize(objective_Forest, n_trials=budget,show_progress_bar=False)\n",
        "\n",
        "# Best hyper-parameters\n",
        "print(\"Best hyper-parameters: \")\n",
        "print(study_Forest.best_params)\n",
        "# Best score\n",
        "print(\"Best score: \")\n",
        "print(study_Forest.best_value)"
      ],
      "execution_count": null,
      "outputs": [
        {
          "name": "stderr",
          "output_type": "stream",
          "text": [
            "\u001b[32m[I 2021-07-19 20:35:26,642]\u001b[0m A new study created in memory with name: no-name-4ae61342-8418-47f8-816e-130b8d148c47\u001b[0m\n",
            "\u001b[32m[I 2021-07-19 20:36:07,047]\u001b[0m Trial 0 finished with value: 0.3929763068315864 and parameters: {'n_estimators': 291, 'criterion': 'gini', 'max_depth': 3, 'n': 1, 'min_df': 25, 'sub_tf': 'False'}. Best is trial 0 with value: 0.3929763068315864.\u001b[0m\n",
            "\u001b[32m[I 2021-07-19 20:36:53,559]\u001b[0m Trial 1 finished with value: 0.3929763068315864 and parameters: {'n_estimators': 228, 'criterion': 'entropy', 'max_depth': 4, 'n': 2, 'min_df': 7, 'sub_tf': 'True'}. Best is trial 0 with value: 0.3929763068315864.\u001b[0m\n",
            "\u001b[32m[I 2021-07-19 20:37:27,504]\u001b[0m Trial 2 finished with value: 0.3929763068315864 and parameters: {'n_estimators': 246, 'criterion': 'gini', 'max_depth': 3, 'n': 1, 'min_df': 5, 'sub_tf': 'False'}. Best is trial 0 with value: 0.3929763068315864.\u001b[0m\n",
            "\u001b[32m[I 2021-07-19 20:38:15,973]\u001b[0m Trial 3 finished with value: 0.3929763068315864 and parameters: {'n_estimators': 216, 'criterion': 'entropy', 'max_depth': 5, 'n': 2, 'min_df': 6, 'sub_tf': 'False'}. Best is trial 0 with value: 0.3929763068315864.\u001b[0m\n",
            "\u001b[32m[I 2021-07-19 20:39:05,644]\u001b[0m Trial 4 finished with value: 0.3929763068315864 and parameters: {'n_estimators': 281, 'criterion': 'gini', 'max_depth': 3, 'n': 2, 'min_df': 13, 'sub_tf': 'True'}. Best is trial 0 with value: 0.3929763068315864.\u001b[0m\n",
            "\u001b[32m[I 2021-07-19 20:39:54,865]\u001b[0m Trial 5 finished with value: 0.3929763068315864 and parameters: {'n_estimators': 196, 'criterion': 'entropy', 'max_depth': 5, 'n': 2, 'min_df': 24, 'sub_tf': 'True'}. Best is trial 0 with value: 0.3929763068315864.\u001b[0m\n",
            "\u001b[32m[I 2021-07-19 20:40:40,848]\u001b[0m Trial 6 finished with value: 0.3929763068315864 and parameters: {'n_estimators': 224, 'criterion': 'gini', 'max_depth': 6, 'n': 2, 'min_df': 13, 'sub_tf': 'True'}. Best is trial 0 with value: 0.3929763068315864.\u001b[0m\n",
            "\u001b[32m[I 2021-07-19 20:41:30,163]\u001b[0m Trial 7 finished with value: 0.3929763068315864 and parameters: {'n_estimators': 249, 'criterion': 'gini', 'max_depth': 6, 'n': 2, 'min_df': 14, 'sub_tf': 'False'}. Best is trial 0 with value: 0.3929763068315864.\u001b[0m\n",
            "\u001b[32m[I 2021-07-19 20:42:07,092]\u001b[0m Trial 8 finished with value: 0.3929763068315864 and parameters: {'n_estimators': 166, 'criterion': 'gini', 'max_depth': 6, 'n': 2, 'min_df': 12, 'sub_tf': 'False'}. Best is trial 0 with value: 0.3929763068315864.\u001b[0m\n",
            "\u001b[32m[I 2021-07-19 20:42:29,189]\u001b[0m Trial 9 finished with value: 0.3929763068315864 and parameters: {'n_estimators': 138, 'criterion': 'entropy', 'max_depth': 3, 'n': 1, 'min_df': 8, 'sub_tf': 'False'}. Best is trial 0 with value: 0.3929763068315864.\u001b[0m\n",
            "\u001b[32m[I 2021-07-19 20:43:12,598]\u001b[0m Trial 10 finished with value: 0.3929763068315864 and parameters: {'n_estimators': 299, 'criterion': 'gini', 'max_depth': 4, 'n': 1, 'min_df': 25, 'sub_tf': 'False'}. Best is trial 0 with value: 0.3929763068315864.\u001b[0m\n",
            "\u001b[32m[I 2021-07-19 20:43:58,280]\u001b[0m Trial 11 finished with value: 0.3929763068315864 and parameters: {'n_estimators': 274, 'criterion': 'entropy', 'max_depth': 4, 'n': 1, 'min_df': 20, 'sub_tf': 'True'}. Best is trial 0 with value: 0.3929763068315864.\u001b[0m\n",
            "\u001b[32m[I 2021-07-19 20:44:48,356]\u001b[0m Trial 12 finished with value: 0.3929763068315864 and parameters: {'n_estimators': 300, 'criterion': 'entropy', 'max_depth': 4, 'n': 1, 'min_df': 19, 'sub_tf': 'True'}. Best is trial 0 with value: 0.3929763068315864.\u001b[0m\n",
            "\u001b[32m[I 2021-07-19 20:45:17,017]\u001b[0m Trial 13 finished with value: 0.3929763068315864 and parameters: {'n_estimators': 178, 'criterion': 'entropy', 'max_depth': 3, 'n': 1, 'min_df': 9, 'sub_tf': 'True'}. Best is trial 0 with value: 0.3929763068315864.\u001b[0m\n",
            "\u001b[32m[I 2021-07-19 20:45:46,720]\u001b[0m Trial 14 finished with value: 0.3929763068315864 and parameters: {'n_estimators': 113, 'criterion': 'gini', 'max_depth': 4, 'n': 2, 'min_df': 19, 'sub_tf': 'False'}. Best is trial 0 with value: 0.3929763068315864.\u001b[0m\n",
            "\u001b[32m[I 2021-07-19 20:46:32,548]\u001b[0m Trial 15 finished with value: 0.39301000977385325 and parameters: {'n_estimators': 257, 'criterion': 'entropy', 'max_depth': 5, 'n': 1, 'min_df': 17, 'sub_tf': 'True'}. Best is trial 15 with value: 0.39301000977385325.\u001b[0m\n",
            "\u001b[32m[I 2021-07-19 20:47:21,119]\u001b[0m Trial 16 finished with value: 0.39301000977385325 and parameters: {'n_estimators': 268, 'criterion': 'entropy', 'max_depth': 5, 'n': 1, 'min_df': 22, 'sub_tf': 'False'}. Best is trial 15 with value: 0.39301000977385325.\u001b[0m\n",
            "\u001b[32m[I 2021-07-19 20:48:08,697]\u001b[0m Trial 17 finished with value: 0.39301000977385325 and parameters: {'n_estimators': 255, 'criterion': 'entropy', 'max_depth': 5, 'n': 1, 'min_df': 17, 'sub_tf': 'True'}. Best is trial 15 with value: 0.39301000977385325.\u001b[0m\n",
            "\u001b[32m[I 2021-07-19 20:48:56,705]\u001b[0m Trial 18 finished with value: 0.39301000977385325 and parameters: {'n_estimators': 253, 'criterion': 'entropy', 'max_depth': 5, 'n': 1, 'min_df': 17, 'sub_tf': 'True'}. Best is trial 15 with value: 0.39301000977385325.\u001b[0m\n",
            "\u001b[32m[I 2021-07-19 20:49:47,446]\u001b[0m Trial 19 finished with value: 0.39301000977385325 and parameters: {'n_estimators': 272, 'criterion': 'entropy', 'max_depth': 5, 'n': 1, 'min_df': 22, 'sub_tf': 'False'}. Best is trial 15 with value: 0.39301000977385325.\u001b[0m\n",
            "\u001b[32m[I 2021-07-19 20:50:36,904]\u001b[0m Trial 20 finished with value: 0.4059856425465943 and parameters: {'n_estimators': 231, 'criterion': 'entropy', 'max_depth': 6, 'n': 1, 'min_df': 22, 'sub_tf': 'False'}. Best is trial 20 with value: 0.4059856425465943.\u001b[0m\n",
            "\u001b[32m[I 2021-07-19 20:51:25,748]\u001b[0m Trial 21 finished with value: 0.4059856425465943 and parameters: {'n_estimators': 239, 'criterion': 'entropy', 'max_depth': 6, 'n': 1, 'min_df': 17, 'sub_tf': 'True'}. Best is trial 20 with value: 0.4059856425465943.\u001b[0m\n",
            "\u001b[32m[I 2021-07-19 20:52:13,726]\u001b[0m Trial 22 finished with value: 0.4059856425465943 and parameters: {'n_estimators': 234, 'criterion': 'entropy', 'max_depth': 6, 'n': 1, 'min_df': 22, 'sub_tf': 'False'}. Best is trial 20 with value: 0.4059856425465943.\u001b[0m\n",
            "\u001b[32m[I 2021-07-19 20:52:53,895]\u001b[0m Trial 23 finished with value: 0.3953186613191332 and parameters: {'n_estimators': 202, 'criterion': 'entropy', 'max_depth': 6, 'n': 1, 'min_df': 23, 'sub_tf': 'False'}. Best is trial 20 with value: 0.4059856425465943.\u001b[0m\n",
            "\u001b[32m[I 2021-07-19 20:53:42,331]\u001b[0m Trial 24 finished with value: 0.39317852448518753 and parameters: {'n_estimators': 240, 'criterion': 'entropy', 'max_depth': 6, 'n': 1, 'min_df': 21, 'sub_tf': 'False'}. Best is trial 20 with value: 0.4059856425465943.\u001b[0m\n",
            "\u001b[32m[I 2021-07-19 20:54:21,426]\u001b[0m Trial 25 finished with value: 0.3930437127161201 and parameters: {'n_estimators': 207, 'criterion': 'entropy', 'max_depth': 6, 'n': 1, 'min_df': 18, 'sub_tf': 'False'}. Best is trial 20 with value: 0.4059856425465943.\u001b[0m\n",
            "\u001b[32m[I 2021-07-19 20:55:04,694]\u001b[0m Trial 26 finished with value: 0.3929763068315864 and parameters: {'n_estimators': 231, 'criterion': 'entropy', 'max_depth': 6, 'n': 1, 'min_df': 16, 'sub_tf': 'False'}. Best is trial 20 with value: 0.4059856425465943.\u001b[0m\n",
            "\u001b[32m[I 2021-07-19 20:55:40,737]\u001b[0m Trial 27 finished with value: 0.3931448215429207 and parameters: {'n_estimators': 183, 'criterion': 'entropy', 'max_depth': 6, 'n': 1, 'min_df': 21, 'sub_tf': 'False'}. Best is trial 20 with value: 0.4059856425465943.\u001b[0m\n",
            "\u001b[32m[I 2021-07-19 20:56:20,647]\u001b[0m Trial 28 finished with value: 0.3929931583027198 and parameters: {'n_estimators': 215, 'criterion': 'entropy', 'max_depth': 6, 'n': 1, 'min_df': 11, 'sub_tf': 'False'}. Best is trial 20 with value: 0.4059856425465943.\u001b[0m\n",
            "\u001b[32m[I 2021-07-19 20:57:06,890]\u001b[0m Trial 29 finished with value: 0.39530180984799973 and parameters: {'n_estimators': 239, 'criterion': 'entropy', 'max_depth': 6, 'n': 1, 'min_df': 25, 'sub_tf': 'False'}. Best is trial 20 with value: 0.4059856425465943.\u001b[0m\n",
            "\u001b[32m[I 2021-07-19 20:57:44,539]\u001b[0m Trial 30 finished with value: 0.3929763068315864 and parameters: {'n_estimators': 193, 'criterion': 'entropy', 'max_depth': 6, 'n': 1, 'min_df': 15, 'sub_tf': 'True'}. Best is trial 20 with value: 0.4059856425465943.\u001b[0m\n",
            "\u001b[32m[I 2021-07-19 20:58:24,703]\u001b[0m Trial 31 finished with value: 0.3931448215429207 and parameters: {'n_estimators': 206, 'criterion': 'entropy', 'max_depth': 6, 'n': 1, 'min_df': 24, 'sub_tf': 'False'}. Best is trial 20 with value: 0.4059856425465943.\u001b[0m\n",
            "\u001b[32m[I 2021-07-19 20:58:57,033]\u001b[0m Trial 32 finished with value: 0.4059856425465943 and parameters: {'n_estimators': 160, 'criterion': 'entropy', 'max_depth': 6, 'n': 1, 'min_df': 22, 'sub_tf': 'False'}. Best is trial 20 with value: 0.4059856425465943.\u001b[0m\n",
            "\u001b[32m[I 2021-07-19 20:59:28,789]\u001b[0m Trial 33 finished with value: 0.39530180984799973 and parameters: {'n_estimators': 156, 'criterion': 'entropy', 'max_depth': 6, 'n': 1, 'min_df': 23, 'sub_tf': 'False'}. Best is trial 20 with value: 0.4059856425465943.\u001b[0m\n",
            "\u001b[32m[I 2021-07-19 20:59:54,113]\u001b[0m Trial 34 finished with value: 0.393077415658387 and parameters: {'n_estimators': 121, 'criterion': 'entropy', 'max_depth': 6, 'n': 1, 'min_df': 20, 'sub_tf': 'False'}. Best is trial 20 with value: 0.4059856425465943.\u001b[0m\n",
            "\u001b[32m[I 2021-07-19 21:00:34,342]\u001b[0m Trial 35 finished with value: 0.39301000977385325 and parameters: {'n_estimators': 223, 'criterion': 'entropy', 'max_depth': 5, 'n': 1, 'min_df': 22, 'sub_tf': 'False'}. Best is trial 20 with value: 0.4059856425465943.\u001b[0m\n",
            "\u001b[32m[I 2021-07-19 21:01:18,521]\u001b[0m Trial 36 finished with value: 0.3929763068315864 and parameters: {'n_estimators': 233, 'criterion': 'entropy', 'max_depth': 6, 'n': 1, 'min_df': 20, 'sub_tf': 'False'}. Best is trial 20 with value: 0.4059856425465943.\u001b[0m\n",
            "\u001b[32m[I 2021-07-19 21:01:47,758]\u001b[0m Trial 37 finished with value: 0.40610360284452834 and parameters: {'n_estimators': 142, 'criterion': 'entropy', 'max_depth': 6, 'n': 1, 'min_df': 24, 'sub_tf': 'True'}. Best is trial 37 with value: 0.40610360284452834.\u001b[0m\n",
            "\u001b[32m[I 2021-07-19 21:02:14,647]\u001b[0m Trial 38 finished with value: 0.39311111860065384 and parameters: {'n_estimators': 140, 'criterion': 'entropy', 'max_depth': 5, 'n': 1, 'min_df': 24, 'sub_tf': 'True'}. Best is trial 37 with value: 0.40610360284452834.\u001b[0m\n",
            "\u001b[32m[I 2021-07-19 21:02:45,660]\u001b[0m Trial 39 finished with value: 0.3970206599036096 and parameters: {'n_estimators': 152, 'criterion': 'entropy', 'max_depth': 6, 'n': 1, 'min_df': 25, 'sub_tf': 'False'}. Best is trial 37 with value: 0.40610360284452834.\u001b[0m\n"
          ]
        },
        {
          "name": "stdout",
          "output_type": "stream",
          "text": [
            "Best hyper-parameters: \n",
            "{'n_estimators': 142, 'criterion': 'entropy', 'max_depth': 6, 'n': 1, 'min_df': 24, 'sub_tf': 'True'}\n",
            "Best score: \n",
            "0.40610360284452834\n"
          ]
        }
      ]
    },
    {
      "cell_type": "markdown",
      "metadata": {
        "id": "2sS5y5m-JPa4"
      },
      "source": [
        "#### LinearSVC"
      ]
    },
    {
      "cell_type": "code",
      "metadata": {
        "colab": {
          "base_uri": "https://localhost:8080/"
        },
        "id": "Xm5zxJnlJPa5",
        "scrolled": true,
        "outputId": "f40d18ba-6ad5-4459-cf6d-58d1a0bede14"
      },
      "source": [
        "### HPO with optuna ####\n",
        "\n",
        "import optuna\n",
        "\n",
        "# Define function to be optimized\n",
        "def objective_SVC(trial):\n",
        "    \n",
        "    # Sample values for the hyper-parameters\n",
        "    max_iter = trial.suggest_int(\"max_iter\", 1000, 3000)\n",
        "    loss = trial.suggest_categorical(\"loss\", [\"hinge\", \"squared_hinge\"])\n",
        "    n = trial.suggest_int(\"n\", 1, 2)\n",
        "    min_df = trial.suggest_int(\"min_df\",5,25)\n",
        "    sub_tf = trial.suggest_categorical(\"sub_tf\", [\"True\", \"False\"])\n",
        "    # Create pipeline\n",
        "    SVC_pipe = Pipeline([('vect', CountVectorizer(ngram_range = (1, n), min_df = min_df)),\n",
        "                            ('tfidf', TfidfTransformer(sublinear_tf = sub_tf)),('classifier', LinearSVC(\n",
        "                                random_state = 3, max_iter = max_iter,\n",
        "                                loss = loss) )])\n",
        "\n",
        "    # Fit model\n",
        "    clf_SVC = SVC_pipe.fit(train_stemmed, train_labels_list)\n",
        "    # Obtain the predictions\n",
        "    predictions = SVC_pipe.predict(valid_stemmed)\n",
        "    # Obtain the accuracy\n",
        "    acc = accuracy_score(valid_labels_list, predictions)\n",
        "    \n",
        "    return acc\n",
        "\n",
        "# Select budget and set seed                            \n",
        "budget = 40\n",
        "np.random.seed(0)\n",
        "# Optimize hyper-parameters\n",
        "study_SVC = optuna.create_study(direction=\"maximize\")\n",
        "study_SVC.optimize(objective_SVC, n_trials=budget,show_progress_bar=False)\n",
        "\n",
        "# Best hyper-parameters\n",
        "print(\"Best hyper-parameters: \")\n",
        "print(study_SVC.best_params)\n",
        "# Best score\n",
        "print(\"Best score: \")\n",
        "print(study_SVC.best_value)"
      ],
      "execution_count": null,
      "outputs": [
        {
          "name": "stderr",
          "output_type": "stream",
          "text": [
            "\u001b[32m[I 2021-07-20 09:26:26,073]\u001b[0m A new study created in memory with name: no-name-9e9a3ca1-d19f-4792-a650-de0bad527a24\u001b[0m\n",
            "/usr/local/lib/python3.7/dist-packages/sklearn/svm/_base.py:947: ConvergenceWarning:\n",
            "\n",
            "Liblinear failed to converge, increase the number of iterations.\n",
            "\n",
            "\u001b[32m[I 2021-07-20 09:28:56,136]\u001b[0m Trial 0 finished with value: 0.7082673317380608 and parameters: {'max_iter': 1443, 'loss': 'hinge', 'n': 2, 'min_df': 8, 'sub_tf': 'False'}. Best is trial 0 with value: 0.7082673317380608.\u001b[0m\n",
            "\u001b[32m[I 2021-07-20 09:29:37,263]\u001b[0m Trial 1 finished with value: 0.7046611169155067 and parameters: {'max_iter': 2290, 'loss': 'squared_hinge', 'n': 1, 'min_df': 5, 'sub_tf': 'True'}. Best is trial 0 with value: 0.7082673317380608.\u001b[0m\n",
            "\u001b[32m[I 2021-07-20 09:30:31,182]\u001b[0m Trial 2 finished with value: 0.7081662229112602 and parameters: {'max_iter': 1321, 'loss': 'squared_hinge', 'n': 2, 'min_df': 22, 'sub_tf': 'False'}. Best is trial 0 with value: 0.7082673317380608.\u001b[0m\n",
            "/usr/local/lib/python3.7/dist-packages/sklearn/svm/_base.py:947: ConvergenceWarning:\n",
            "\n",
            "Liblinear failed to converge, increase the number of iterations.\n",
            "\n",
            "\u001b[32m[I 2021-07-20 09:42:43,739]\u001b[0m Trial 3 finished with value: 0.697145360789997 and parameters: {'max_iter': 2997, 'loss': 'hinge', 'n': 2, 'min_df': 19, 'sub_tf': 'True'}. Best is trial 0 with value: 0.7082673317380608.\u001b[0m\n",
            "/usr/local/lib/python3.7/dist-packages/sklearn/svm/_base.py:947: ConvergenceWarning:\n",
            "\n",
            "Liblinear failed to converge, increase the number of iterations.\n",
            "\n",
            "\u001b[32m[I 2021-07-20 09:55:07,742]\u001b[0m Trial 4 finished with value: 0.6965724107714604 and parameters: {'max_iter': 2615, 'loss': 'hinge', 'n': 2, 'min_df': 20, 'sub_tf': 'True'}. Best is trial 0 with value: 0.7082673317380608.\u001b[0m\n",
            "\u001b[32m[I 2021-07-20 09:55:48,904]\u001b[0m Trial 5 finished with value: 0.7013919315156213 and parameters: {'max_iter': 2319, 'loss': 'squared_hinge', 'n': 1, 'min_df': 12, 'sub_tf': 'False'}. Best is trial 0 with value: 0.7082673317380608.\u001b[0m\n",
            "\u001b[32m[I 2021-07-20 09:56:30,916]\u001b[0m Trial 6 finished with value: 0.6986788446631391 and parameters: {'max_iter': 1869, 'loss': 'squared_hinge', 'n': 1, 'min_df': 19, 'sub_tf': 'True'}. Best is trial 0 with value: 0.7082673317380608.\u001b[0m\n",
            "\u001b[32m[I 2021-07-20 09:57:21,070]\u001b[0m Trial 7 finished with value: 0.7116713289070136 and parameters: {'max_iter': 1264, 'loss': 'squared_hinge', 'n': 2, 'min_df': 14, 'sub_tf': 'False'}. Best is trial 7 with value: 0.7116713289070136.\u001b[0m\n",
            "\u001b[32m[I 2021-07-20 09:58:03,152]\u001b[0m Trial 8 finished with value: 0.7031107815712312 and parameters: {'max_iter': 1257, 'loss': 'squared_hinge', 'n': 1, 'min_df': 7, 'sub_tf': 'False'}. Best is trial 7 with value: 0.7116713289070136.\u001b[0m\n",
            "/usr/local/lib/python3.7/dist-packages/sklearn/svm/_base.py:947: ConvergenceWarning:\n",
            "\n",
            "Liblinear failed to converge, increase the number of iterations.\n",
            "\n",
            "\u001b[32m[I 2021-07-20 10:07:11,499]\u001b[0m Trial 9 finished with value: 0.6880287149068114 and parameters: {'max_iter': 2542, 'loss': 'hinge', 'n': 1, 'min_df': 16, 'sub_tf': 'True'}. Best is trial 7 with value: 0.7116713289070136.\u001b[0m\n",
            "\u001b[32m[I 2021-07-20 10:08:01,961]\u001b[0m Trial 10 finished with value: 0.7064979272690506 and parameters: {'max_iter': 1663, 'loss': 'squared_hinge', 'n': 2, 'min_df': 25, 'sub_tf': 'False'}. Best is trial 7 with value: 0.7116713289070136.\u001b[0m\n",
            "/usr/local/lib/python3.7/dist-packages/sklearn/svm/_base.py:947: ConvergenceWarning:\n",
            "\n",
            "Liblinear failed to converge, increase the number of iterations.\n",
            "\n",
            "\u001b[32m[I 2021-07-20 10:10:19,335]\u001b[0m Trial 11 finished with value: 0.7057059081257794 and parameters: {'max_iter': 1059, 'loss': 'hinge', 'n': 2, 'min_df': 10, 'sub_tf': 'False'}. Best is trial 7 with value: 0.7116713289070136.\u001b[0m\n",
            "/usr/local/lib/python3.7/dist-packages/sklearn/svm/_base.py:947: ConvergenceWarning:\n",
            "\n",
            "Liblinear failed to converge, increase the number of iterations.\n",
            "\n",
            "\u001b[32m[I 2021-07-20 10:14:14,008]\u001b[0m Trial 12 finished with value: 0.703144484513498 and parameters: {'max_iter': 1544, 'loss': 'hinge', 'n': 2, 'min_df': 12, 'sub_tf': 'False'}. Best is trial 7 with value: 0.7116713289070136.\u001b[0m\n",
            "/usr/local/lib/python3.7/dist-packages/sklearn/svm/_base.py:947: ConvergenceWarning:\n",
            "\n",
            "Liblinear failed to converge, increase the number of iterations.\n",
            "\n",
            "\u001b[32m[I 2021-07-20 10:16:07,247]\u001b[0m Trial 13 finished with value: 0.7082673317380608 and parameters: {'max_iter': 1012, 'loss': 'hinge', 'n': 2, 'min_df': 8, 'sub_tf': 'False'}. Best is trial 7 with value: 0.7116713289070136.\u001b[0m\n",
            "/usr/local/lib/python3.7/dist-packages/sklearn/svm/_base.py:947: ConvergenceWarning:\n",
            "\n",
            "Liblinear failed to converge, increase the number of iterations.\n",
            "\n",
            "\u001b[32m[I 2021-07-20 10:21:43,613]\u001b[0m Trial 14 finished with value: 0.7001449226517475 and parameters: {'max_iter': 1456, 'loss': 'hinge', 'n': 2, 'min_df': 15, 'sub_tf': 'False'}. Best is trial 7 with value: 0.7116713289070136.\u001b[0m\n",
            "\u001b[32m[I 2021-07-20 10:22:35,124]\u001b[0m Trial 15 finished with value: 0.7122274274544168 and parameters: {'max_iter': 1818, 'loss': 'squared_hinge', 'n': 2, 'min_df': 13, 'sub_tf': 'False'}. Best is trial 15 with value: 0.7122274274544168.\u001b[0m\n",
            "\u001b[32m[I 2021-07-20 10:23:26,800]\u001b[0m Trial 16 finished with value: 0.7122274274544168 and parameters: {'max_iter': 1882, 'loss': 'squared_hinge', 'n': 2, 'min_df': 13, 'sub_tf': 'False'}. Best is trial 15 with value: 0.7122274274544168.\u001b[0m\n",
            "\u001b[32m[I 2021-07-20 10:24:18,730]\u001b[0m Trial 17 finished with value: 0.7130362980688214 and parameters: {'max_iter': 1924, 'loss': 'squared_hinge', 'n': 2, 'min_df': 12, 'sub_tf': 'False'}. Best is trial 17 with value: 0.7130362980688214.\u001b[0m\n",
            "\u001b[32m[I 2021-07-20 10:25:09,109]\u001b[0m Trial 18 finished with value: 0.7100704391493378 and parameters: {'max_iter': 2120, 'loss': 'squared_hinge', 'n': 2, 'min_df': 17, 'sub_tf': 'False'}. Best is trial 17 with value: 0.7130362980688214.\u001b[0m\n",
            "\u001b[32m[I 2021-07-20 10:25:59,396]\u001b[0m Trial 19 finished with value: 0.7143001584038287 and parameters: {'max_iter': 2006, 'loss': 'squared_hinge', 'n': 2, 'min_df': 10, 'sub_tf': 'False'}. Best is trial 19 with value: 0.7143001584038287.\u001b[0m\n",
            "\u001b[32m[I 2021-07-20 10:26:49,329]\u001b[0m Trial 20 finished with value: 0.7143001584038287 and parameters: {'max_iter': 2103, 'loss': 'squared_hinge', 'n': 2, 'min_df': 10, 'sub_tf': 'False'}. Best is trial 19 with value: 0.7143001584038287.\u001b[0m\n",
            "\u001b[32m[I 2021-07-20 10:27:39,186]\u001b[0m Trial 21 finished with value: 0.7143001584038287 and parameters: {'max_iter': 2118, 'loss': 'squared_hinge', 'n': 2, 'min_df': 10, 'sub_tf': 'False'}. Best is trial 19 with value: 0.7143001584038287.\u001b[0m\n",
            "\u001b[32m[I 2021-07-20 10:28:30,679]\u001b[0m Trial 22 finished with value: 0.7143001584038287 and parameters: {'max_iter': 2171, 'loss': 'squared_hinge', 'n': 2, 'min_df': 10, 'sub_tf': 'False'}. Best is trial 19 with value: 0.7143001584038287.\u001b[0m\n",
            "\u001b[32m[I 2021-07-20 10:29:21,671]\u001b[0m Trial 23 finished with value: 0.7205352027231977 and parameters: {'max_iter': 2319, 'loss': 'squared_hinge', 'n': 2, 'min_df': 5, 'sub_tf': 'False'}. Best is trial 23 with value: 0.7205352027231977.\u001b[0m\n",
            "\u001b[32m[I 2021-07-20 10:30:21,905]\u001b[0m Trial 24 finished with value: 0.7205352027231977 and parameters: {'max_iter': 2574, 'loss': 'squared_hinge', 'n': 2, 'min_df': 5, 'sub_tf': 'False'}. Best is trial 23 with value: 0.7205352027231977.\u001b[0m\n",
            "\u001b[32m[I 2021-07-20 10:31:22,836]\u001b[0m Trial 25 finished with value: 0.7205352027231977 and parameters: {'max_iter': 2787, 'loss': 'squared_hinge', 'n': 2, 'min_df': 5, 'sub_tf': 'False'}. Best is trial 23 with value: 0.7205352027231977.\u001b[0m\n",
            "\u001b[32m[I 2021-07-20 10:32:22,499]\u001b[0m Trial 26 finished with value: 0.7205352027231977 and parameters: {'max_iter': 2971, 'loss': 'squared_hinge', 'n': 2, 'min_df': 5, 'sub_tf': 'False'}. Best is trial 23 with value: 0.7205352027231977.\u001b[0m\n",
            "\u001b[32m[I 2021-07-20 10:33:16,722]\u001b[0m Trial 27 finished with value: 0.7179906305820498 and parameters: {'max_iter': 2995, 'loss': 'squared_hinge', 'n': 2, 'min_df': 6, 'sub_tf': 'False'}. Best is trial 23 with value: 0.7205352027231977.\u001b[0m\n",
            "\u001b[32m[I 2021-07-20 10:34:16,181]\u001b[0m Trial 28 finished with value: 0.7205352027231977 and parameters: {'max_iter': 2773, 'loss': 'squared_hinge', 'n': 2, 'min_df': 5, 'sub_tf': 'False'}. Best is trial 23 with value: 0.7205352027231977.\u001b[0m\n",
            "\u001b[32m[I 2021-07-20 10:35:09,641]\u001b[0m Trial 29 finished with value: 0.7174682349769135 and parameters: {'max_iter': 2823, 'loss': 'squared_hinge', 'n': 2, 'min_df': 7, 'sub_tf': 'False'}. Best is trial 23 with value: 0.7205352027231977.\u001b[0m\n",
            "\u001b[32m[I 2021-07-20 10:35:50,191]\u001b[0m Trial 30 finished with value: 0.7028411580330963 and parameters: {'max_iter': 2845, 'loss': 'squared_hinge', 'n': 1, 'min_df': 8, 'sub_tf': 'False'}. Best is trial 23 with value: 0.7205352027231977.\u001b[0m\n",
            "\u001b[32m[I 2021-07-20 10:36:43,546]\u001b[0m Trial 31 finished with value: 0.7205352027231977 and parameters: {'max_iter': 2653, 'loss': 'squared_hinge', 'n': 2, 'min_df': 5, 'sub_tf': 'False'}. Best is trial 23 with value: 0.7205352027231977.\u001b[0m\n",
            "\u001b[32m[I 2021-07-20 10:37:34,828]\u001b[0m Trial 32 finished with value: 0.7205352027231977 and parameters: {'max_iter': 2770, 'loss': 'squared_hinge', 'n': 2, 'min_df': 5, 'sub_tf': 'False'}. Best is trial 23 with value: 0.7205352027231977.\u001b[0m\n",
            "\u001b[32m[I 2021-07-20 10:38:27,930]\u001b[0m Trial 33 finished with value: 0.7179906305820498 and parameters: {'max_iter': 2834, 'loss': 'squared_hinge', 'n': 2, 'min_df': 6, 'sub_tf': 'False'}. Best is trial 23 with value: 0.7205352027231977.\u001b[0m\n",
            "\u001b[32m[I 2021-07-20 10:39:22,180]\u001b[0m Trial 34 finished with value: 0.7179906305820498 and parameters: {'max_iter': 2696, 'loss': 'squared_hinge', 'n': 2, 'min_df': 6, 'sub_tf': 'False'}. Best is trial 23 with value: 0.7205352027231977.\u001b[0m\n",
            "\u001b[32m[I 2021-07-20 10:40:14,344]\u001b[0m Trial 35 finished with value: 0.7174682349769135 and parameters: {'max_iter': 2985, 'loss': 'squared_hinge', 'n': 2, 'min_df': 7, 'sub_tf': 'True'}. Best is trial 23 with value: 0.7205352027231977.\u001b[0m\n",
            "\u001b[32m[I 2021-07-20 10:41:14,758]\u001b[0m Trial 36 finished with value: 0.7205352027231977 and parameters: {'max_iter': 2396, 'loss': 'squared_hinge', 'n': 2, 'min_df': 5, 'sub_tf': 'False'}. Best is trial 23 with value: 0.7205352027231977.\u001b[0m\n",
            "\u001b[32m[I 2021-07-20 10:42:09,188]\u001b[0m Trial 37 finished with value: 0.7159516025749048 and parameters: {'max_iter': 2485, 'loss': 'squared_hinge', 'n': 2, 'min_df': 9, 'sub_tf': 'True'}. Best is trial 23 with value: 0.7205352027231977.\u001b[0m\n",
            "\u001b[32m[I 2021-07-20 10:43:03,175]\u001b[0m Trial 38 finished with value: 0.7160864143439722 and parameters: {'max_iter': 2419, 'loss': 'squared_hinge', 'n': 2, 'min_df': 8, 'sub_tf': 'False'}. Best is trial 23 with value: 0.7205352027231977.\u001b[0m\n",
            "\u001b[32m[I 2021-07-20 10:43:54,257]\u001b[0m Trial 39 finished with value: 0.7179906305820498 and parameters: {'max_iter': 2678, 'loss': 'squared_hinge', 'n': 2, 'min_df': 6, 'sub_tf': 'False'}. Best is trial 23 with value: 0.7205352027231977.\u001b[0m\n"
          ]
        },
        {
          "name": "stdout",
          "output_type": "stream",
          "text": [
            "Best hyper-parameters: \n",
            "{'max_iter': 2319, 'loss': 'squared_hinge', 'n': 2, 'min_df': 5, 'sub_tf': 'False'}\n",
            "Best score: \n",
            "0.7205352027231977\n"
          ]
        }
      ]
    },
    {
      "cell_type": "markdown",
      "metadata": {
        "id": "xzMJPQ_QJPa6"
      },
      "source": [
        "In the following table we can see the best hyper-parameters for each model.\n",
        "\n",
        "| Model | Hyper-parameters |\n",
        "|-------|------------------|\n",
        "| Naive Bayes| {**ngram_range** = (1,1); **min_df** = 5; **sublinear_tf** = False}     |\n",
        "| Logistic Regression |{**ngram_range** = (1,2); **min_df** = 10; **sublinear_tf** = True; **solver** = newton-cg; **multi_class** = multinomial; **max_iter** = 299}   |\n",
        "| Random Forest | {**ngram_range** = (1,1); **min_df** = 16; **sublinear_tf** = True; **n_estimators** = 164; **criterion** = gini; **max_depth** = 6} |\n",
        "| Linear SVC | {**ngram_range** = (1,2); **min_df** = 5; **sublinear_tf** = False; **max_iter** = 2449; **loss** = squared_hinge}   |"
      ]
    },
    {
      "cell_type": "markdown",
      "metadata": {
        "id": "SFK3jDbeJPa7"
      },
      "source": [
        "### Lemmatization\n",
        "\n",
        "#### Naive Bayes"
      ]
    },
    {
      "cell_type": "code",
      "metadata": {
        "colab": {
          "base_uri": "https://localhost:8080/"
        },
        "id": "ZHQq6QgYJPa7",
        "scrolled": true,
        "outputId": "c5bfa1c9-9ec7-4545-c12d-95de4b9de7d6"
      },
      "source": [
        "### HPO with optuna ####\n",
        "\n",
        "import optuna\n",
        "\n",
        "# Define function to be optimized\n",
        "def objective_Bayes(trial):\n",
        "    \n",
        "    # Sample values for the hyper-parameters\n",
        "    n = trial.suggest_int(\"n\", 1, 2)\n",
        "    sub_tf = trial.suggest_categorical(\"sub_tf\", [\"True\", \"False\"])\n",
        "    min_df = trial.suggest_int(\"min_df\",5,25)\n",
        "    # Create pipeline\n",
        "    Bayes_pipe = Pipeline([('vect', CountVectorizer(ngram_range = (1, n), min_df = min_df)),\n",
        "                            ('tfidf', TfidfTransformer(sublinear_tf = sub_tf)),('classifier', MultinomialNB() )])\n",
        "    # Fit model\n",
        "    clf_Bayes = Bayes_pipe.fit(train_lemmatized, train_labels_list)\n",
        "    # Obtain the predictions\n",
        "    predictions = Bayes_pipe.predict(valid_lemmatized)\n",
        "    # Obtain the accuracy\n",
        "    acc = accuracy_score(valid_labels_list, predictions)\n",
        "    \n",
        "    return acc\n",
        "\n",
        "# Select budget and set seed                            \n",
        "budget = 40\n",
        "np.random.seed(0)\n",
        "# Optimize hyper-parameters\n",
        "study_Bayes = optuna.create_study(direction=\"maximize\")\n",
        "study_Bayes.optimize(objective_Bayes, n_trials=budget,show_progress_bar=False)\n",
        "\n",
        "# Best hyper-parameters\n",
        "print(\"Best hyper-parameters: \")\n",
        "print(study_Bayes.best_params)\n",
        "# Best score\n",
        "print(\"Best score: \")\n",
        "print(study_Bayes.best_value)\n"
      ],
      "execution_count": null,
      "outputs": [
        {
          "name": "stderr",
          "output_type": "stream",
          "text": [
            "\u001b[32m[I 2021-07-20 10:47:58,150]\u001b[0m A new study created in memory with name: no-name-4796fa05-0079-4e15-b342-d759c4dec0b5\u001b[0m\n",
            "\u001b[32m[I 2021-07-20 10:48:03,727]\u001b[0m Trial 0 finished with value: 0.6253243908193186 and parameters: {'n': 1, 'sub_tf': 'False', 'min_df': 22}. Best is trial 0 with value: 0.6253243908193186.\u001b[0m\n",
            "\u001b[32m[I 2021-07-20 10:48:09,156]\u001b[0m Trial 1 finished with value: 0.6284587644501365 and parameters: {'n': 1, 'sub_tf': 'True', 'min_df': 16}. Best is trial 1 with value: 0.6284587644501365.\u001b[0m\n",
            "\u001b[32m[I 2021-07-20 10:48:26,419]\u001b[0m Trial 2 finished with value: 0.6436250884702235 and parameters: {'n': 2, 'sub_tf': 'True', 'min_df': 11}. Best is trial 2 with value: 0.6436250884702235.\u001b[0m\n",
            "\u001b[32m[I 2021-07-20 10:48:43,660]\u001b[0m Trial 3 finished with value: 0.6447204340938963 and parameters: {'n': 2, 'sub_tf': 'True', 'min_df': 10}. Best is trial 3 with value: 0.6447204340938963.\u001b[0m\n",
            "\u001b[32m[I 2021-07-20 10:49:00,813]\u001b[0m Trial 4 finished with value: 0.6348960264231067 and parameters: {'n': 2, 'sub_tf': 'True', 'min_df': 20}. Best is trial 3 with value: 0.6447204340938963.\u001b[0m\n",
            "\u001b[32m[I 2021-07-20 10:49:06,267]\u001b[0m Trial 5 finished with value: 0.6269252805769944 and parameters: {'n': 1, 'sub_tf': 'True', 'min_df': 18}. Best is trial 3 with value: 0.6447204340938963.\u001b[0m\n",
            "\u001b[32m[I 2021-07-20 10:49:11,707]\u001b[0m Trial 6 finished with value: 0.6353004617303091 and parameters: {'n': 1, 'sub_tf': 'False', 'min_df': 5}. Best is trial 3 with value: 0.6447204340938963.\u001b[0m\n",
            "\u001b[32m[I 2021-07-20 10:49:17,090]\u001b[0m Trial 7 finished with value: 0.6272960129419298 and parameters: {'n': 1, 'sub_tf': 'False', 'min_df': 17}. Best is trial 3 with value: 0.6447204340938963.\u001b[0m\n",
            "\u001b[32m[I 2021-07-20 10:49:34,166]\u001b[0m Trial 8 finished with value: 0.6310538910046847 and parameters: {'n': 2, 'sub_tf': 'True', 'min_df': 25}. Best is trial 3 with value: 0.6447204340938963.\u001b[0m\n",
            "\u001b[32m[I 2021-07-20 10:49:39,599]\u001b[0m Trial 9 finished with value: 0.6253243908193186 and parameters: {'n': 1, 'sub_tf': 'False', 'min_df': 22}. Best is trial 3 with value: 0.6447204340938963.\u001b[0m\n",
            "\u001b[32m[I 2021-07-20 10:49:56,702]\u001b[0m Trial 10 finished with value: 0.6447204340938963 and parameters: {'n': 2, 'sub_tf': 'True', 'min_df': 10}. Best is trial 3 with value: 0.6447204340938963.\u001b[0m\n",
            "\u001b[32m[I 2021-07-20 10:50:13,900]\u001b[0m Trial 11 finished with value: 0.6447204340938963 and parameters: {'n': 2, 'sub_tf': 'True', 'min_df': 10}. Best is trial 3 with value: 0.6447204340938963.\u001b[0m\n",
            "\u001b[32m[I 2021-07-20 10:50:31,012]\u001b[0m Trial 12 finished with value: 0.6447204340938963 and parameters: {'n': 2, 'sub_tf': 'True', 'min_df': 10}. Best is trial 3 with value: 0.6447204340938963.\u001b[0m\n",
            "\u001b[32m[I 2021-07-20 10:50:48,384]\u001b[0m Trial 13 finished with value: 0.650230865154528 and parameters: {'n': 2, 'sub_tf': 'True', 'min_df': 5}. Best is trial 13 with value: 0.650230865154528.\u001b[0m\n",
            "\u001b[32m[I 2021-07-20 10:51:05,732]\u001b[0m Trial 14 finished with value: 0.650230865154528 and parameters: {'n': 2, 'sub_tf': 'True', 'min_df': 5}. Best is trial 13 with value: 0.650230865154528.\u001b[0m\n",
            "\u001b[32m[I 2021-07-20 10:51:23,129]\u001b[0m Trial 15 finished with value: 0.650230865154528 and parameters: {'n': 2, 'sub_tf': 'True', 'min_df': 5}. Best is trial 13 with value: 0.650230865154528.\u001b[0m\n",
            "\u001b[32m[I 2021-07-20 10:51:40,603]\u001b[0m Trial 16 finished with value: 0.6481075797917158 and parameters: {'n': 2, 'sub_tf': 'True', 'min_df': 7}. Best is trial 13 with value: 0.650230865154528.\u001b[0m\n",
            "\u001b[32m[I 2021-07-20 10:51:57,742]\u001b[0m Trial 17 finished with value: 0.6410299619156752 and parameters: {'n': 2, 'sub_tf': 'True', 'min_df': 13}. Best is trial 13 with value: 0.650230865154528.\u001b[0m\n",
            "\u001b[32m[I 2021-07-20 10:52:15,088]\u001b[0m Trial 18 finished with value: 0.6481075797917158 and parameters: {'n': 2, 'sub_tf': 'True', 'min_df': 7}. Best is trial 13 with value: 0.650230865154528.\u001b[0m\n",
            "\u001b[32m[I 2021-07-20 10:52:32,477]\u001b[0m Trial 19 finished with value: 0.6481075797917158 and parameters: {'n': 2, 'sub_tf': 'True', 'min_df': 7}. Best is trial 13 with value: 0.650230865154528.\u001b[0m\n",
            "\u001b[32m[I 2021-07-20 10:52:49,733]\u001b[0m Trial 20 finished with value: 0.6401705368878703 and parameters: {'n': 2, 'sub_tf': 'False', 'min_df': 14}. Best is trial 13 with value: 0.650230865154528.\u001b[0m\n",
            "\u001b[32m[I 2021-07-20 10:53:07,317]\u001b[0m Trial 21 finished with value: 0.650230865154528 and parameters: {'n': 2, 'sub_tf': 'True', 'min_df': 5}. Best is trial 13 with value: 0.650230865154528.\u001b[0m\n",
            "\u001b[32m[I 2021-07-20 10:53:24,305]\u001b[0m Trial 22 finished with value: 0.650230865154528 and parameters: {'n': 2, 'sub_tf': 'True', 'min_df': 5}. Best is trial 13 with value: 0.650230865154528.\u001b[0m\n",
            "\u001b[32m[I 2021-07-20 10:53:41,437]\u001b[0m Trial 23 finished with value: 0.6474166694752452 and parameters: {'n': 2, 'sub_tf': 'True', 'min_df': 8}. Best is trial 13 with value: 0.650230865154528.\u001b[0m\n",
            "\u001b[32m[I 2021-07-20 10:53:58,546]\u001b[0m Trial 24 finished with value: 0.650230865154528 and parameters: {'n': 2, 'sub_tf': 'True', 'min_df': 5}. Best is trial 13 with value: 0.650230865154528.\u001b[0m\n",
            "\u001b[32m[I 2021-07-20 10:54:15,666]\u001b[0m Trial 25 finished with value: 0.6474166694752452 and parameters: {'n': 2, 'sub_tf': 'True', 'min_df': 8}. Best is trial 13 with value: 0.650230865154528.\u001b[0m\n",
            "\u001b[32m[I 2021-07-20 10:54:32,967]\u001b[0m Trial 26 finished with value: 0.6483940548009841 and parameters: {'n': 2, 'sub_tf': 'True', 'min_df': 6}. Best is trial 13 with value: 0.650230865154528.\u001b[0m\n",
            "\u001b[32m[I 2021-07-20 10:54:50,331]\u001b[0m Trial 27 finished with value: 0.6421590104816151 and parameters: {'n': 2, 'sub_tf': 'True', 'min_df': 12}. Best is trial 13 with value: 0.650230865154528.\u001b[0m\n",
            "\u001b[32m[I 2021-07-20 10:55:07,603]\u001b[0m Trial 28 finished with value: 0.6474166694752452 and parameters: {'n': 2, 'sub_tf': 'True', 'min_df': 8}. Best is trial 13 with value: 0.650230865154528.\u001b[0m\n",
            "\u001b[32m[I 2021-07-20 10:55:24,742]\u001b[0m Trial 29 finished with value: 0.6483940548009841 and parameters: {'n': 2, 'sub_tf': 'False', 'min_df': 6}. Best is trial 13 with value: 0.650230865154528.\u001b[0m\n",
            "\u001b[32m[I 2021-07-20 10:55:41,872]\u001b[0m Trial 30 finished with value: 0.6457989282464359 and parameters: {'n': 2, 'sub_tf': 'True', 'min_df': 9}. Best is trial 13 with value: 0.650230865154528.\u001b[0m\n",
            "\u001b[32m[I 2021-07-20 10:55:59,295]\u001b[0m Trial 31 finished with value: 0.650230865154528 and parameters: {'n': 2, 'sub_tf': 'True', 'min_df': 5}. Best is trial 13 with value: 0.650230865154528.\u001b[0m\n",
            "\u001b[32m[I 2021-07-20 10:56:16,493]\u001b[0m Trial 32 finished with value: 0.650230865154528 and parameters: {'n': 2, 'sub_tf': 'True', 'min_df': 5}. Best is trial 13 with value: 0.650230865154528.\u001b[0m\n",
            "\u001b[32m[I 2021-07-20 10:56:33,798]\u001b[0m Trial 33 finished with value: 0.6483940548009841 and parameters: {'n': 2, 'sub_tf': 'True', 'min_df': 6}. Best is trial 13 with value: 0.650230865154528.\u001b[0m\n",
            "\u001b[32m[I 2021-07-20 10:56:50,974]\u001b[0m Trial 34 finished with value: 0.6481075797917158 and parameters: {'n': 2, 'sub_tf': 'True', 'min_df': 7}. Best is trial 13 with value: 0.650230865154528.\u001b[0m\n",
            "\u001b[32m[I 2021-07-20 10:57:08,397]\u001b[0m Trial 35 finished with value: 0.650230865154528 and parameters: {'n': 2, 'sub_tf': 'True', 'min_df': 5}. Best is trial 13 with value: 0.650230865154528.\u001b[0m\n",
            "\u001b[32m[I 2021-07-20 10:57:25,459]\u001b[0m Trial 36 finished with value: 0.6457989282464359 and parameters: {'n': 2, 'sub_tf': 'True', 'min_df': 9}. Best is trial 13 with value: 0.650230865154528.\u001b[0m\n",
            "\u001b[32m[I 2021-07-20 10:57:30,970]\u001b[0m Trial 37 finished with value: 0.6346601058272388 and parameters: {'n': 1, 'sub_tf': 'True', 'min_df': 6}. Best is trial 13 with value: 0.650230865154528.\u001b[0m\n",
            "\u001b[32m[I 2021-07-20 10:57:48,115]\u001b[0m Trial 38 finished with value: 0.6392437059755317 and parameters: {'n': 2, 'sub_tf': 'True', 'min_df': 15}. Best is trial 13 with value: 0.650230865154528.\u001b[0m\n",
            "\u001b[32m[I 2021-07-20 10:58:05,080]\u001b[0m Trial 39 finished with value: 0.6421590104816151 and parameters: {'n': 2, 'sub_tf': 'True', 'min_df': 12}. Best is trial 13 with value: 0.650230865154528.\u001b[0m\n"
          ]
        },
        {
          "name": "stdout",
          "output_type": "stream",
          "text": [
            "Best hyper-parameters: \n",
            "{'n': 2, 'sub_tf': 'True', 'min_df': 5}\n",
            "Best score: \n",
            "0.650230865154528\n"
          ]
        }
      ]
    },
    {
      "cell_type": "markdown",
      "metadata": {
        "id": "0HkuABvFJPa8"
      },
      "source": [
        "#### Logistic Regression"
      ]
    },
    {
      "cell_type": "code",
      "metadata": {
        "colab": {
          "base_uri": "https://localhost:8080/"
        },
        "id": "HVQ7uu1hJPa8",
        "outputId": "e8407629-0e34-4473-cfe3-a1f28723a142"
      },
      "source": [
        "### HPO with optuna ####\n",
        "\n",
        "import optuna\n",
        "\n",
        "# Define function to be optimized\n",
        "def objective_Logistic(trial):\n",
        "    \n",
        "    # Sample values for the hyper-parameters\n",
        "    max_iter = trial.suggest_int(\"max_iter\", 320, 420)\n",
        "    solver = trial.suggest_categorical(\"solver\", [\"newton-cg\"])\n",
        "    multi_class = trial.suggest_categorical(\"multi_class\",[\"ovr\", \"multinomial\"])\n",
        "    n = trial.suggest_int(\"n\", 1, 2)\n",
        "    min_df = trial.suggest_int(\"min_df\",5,25)\n",
        "    sub_tf = trial.suggest_categorical(\"sub_tf\", [\"True\", \"False\"])\n",
        "    # Create pipeline\n",
        "    Logistic_pipe = Pipeline([('vect', CountVectorizer(ngram_range = (1, n), min_df = min_df)),\n",
        "                            ('tfidf', TfidfTransformer(sublinear_tf = sub_tf)),('classifier', LogisticRegression(random_state = 3,\n",
        "                                    solver = solver, multi_class = multi_class,   max_iter = max_iter ) )])\n",
        "\n",
        "    # Fit model\n",
        "    clf_Logistic = Logistic_pipe.fit(train_lemmatized, train_labels_list)\n",
        "    # Obtain the predictions\n",
        "    predictions = Logistic_pipe.predict(valid_lemmatized)\n",
        "    # Obtain the accuracy\n",
        "    acc = accuracy_score(valid_labels_list, predictions)\n",
        "    \n",
        "    return acc\n",
        "\n",
        "# Select budget and set seed                            \n",
        "budget = 40\n",
        "np.random.seed(0)\n",
        "# Optimize hyper-parameters\n",
        "study_Logistic = optuna.create_study(direction=\"maximize\")\n",
        "study_Logistic.optimize(objective_Logistic, n_trials=budget,show_progress_bar=False)\n",
        "\n",
        "# Best hyper-parameters\n",
        "print(\"Best hyper-parameters: \")\n",
        "print(study_Logistic.best_params)\n",
        "# Best score\n",
        "print(\"Best score: \")\n",
        "print(study_Logistic.best_value)"
      ],
      "execution_count": null,
      "outputs": [
        {
          "name": "stderr",
          "output_type": "stream",
          "text": [
            "\u001b[32m[I 2021-07-20 10:58:40,681]\u001b[0m A new study created in memory with name: no-name-e26fe76b-6220-4817-a426-a720ba3e5d93\u001b[0m\n",
            "\u001b[32m[I 2021-07-20 10:59:48,879]\u001b[0m Trial 0 finished with value: 0.6963027872333255 and parameters: {'max_iter': 370, 'solver': 'newton-cg', 'multi_class': 'ovr', 'n': 1, 'min_df': 8, 'sub_tf': 'True'}. Best is trial 0 with value: 0.6963027872333255.\u001b[0m\n",
            "\u001b[32m[I 2021-07-20 11:01:59,987]\u001b[0m Trial 1 finished with value: 0.6993360520373428 and parameters: {'max_iter': 329, 'solver': 'newton-cg', 'multi_class': 'multinomial', 'n': 1, 'min_df': 14, 'sub_tf': 'False'}. Best is trial 1 with value: 0.6993360520373428.\u001b[0m\n",
            "\u001b[32m[I 2021-07-20 11:04:12,043]\u001b[0m Trial 2 finished with value: 0.7006673182568838 and parameters: {'max_iter': 362, 'solver': 'newton-cg', 'multi_class': 'multinomial', 'n': 1, 'min_df': 5, 'sub_tf': 'False'}. Best is trial 2 with value: 0.7006673182568838.\u001b[0m\n",
            "\u001b[32m[I 2021-07-20 11:06:28,408]\u001b[0m Trial 3 finished with value: 0.7081156684978599 and parameters: {'max_iter': 381, 'solver': 'newton-cg', 'multi_class': 'multinomial', 'n': 2, 'min_df': 19, 'sub_tf': 'True'}. Best is trial 3 with value: 0.7081156684978599.\u001b[0m\n",
            "\u001b[32m[I 2021-07-20 11:07:37,101]\u001b[0m Trial 4 finished with value: 0.6958983519261231 and parameters: {'max_iter': 364, 'solver': 'newton-cg', 'multi_class': 'ovr', 'n': 1, 'min_df': 7, 'sub_tf': 'True'}. Best is trial 3 with value: 0.7081156684978599.\u001b[0m\n",
            "\u001b[32m[I 2021-07-20 11:08:42,287]\u001b[0m Trial 5 finished with value: 0.695578173974588 and parameters: {'max_iter': 371, 'solver': 'newton-cg', 'multi_class': 'ovr', 'n': 1, 'min_df': 15, 'sub_tf': 'False'}. Best is trial 3 with value: 0.7081156684978599.\u001b[0m\n",
            "\u001b[32m[I 2021-07-20 11:10:32,577]\u001b[0m Trial 6 finished with value: 0.6971116578477301 and parameters: {'max_iter': 398, 'solver': 'newton-cg', 'multi_class': 'multinomial', 'n': 1, 'min_df': 25, 'sub_tf': 'False'}. Best is trial 3 with value: 0.7081156684978599.\u001b[0m\n",
            "\u001b[32m[I 2021-07-20 11:12:54,998]\u001b[0m Trial 7 finished with value: 0.7083178861514611 and parameters: {'max_iter': 374, 'solver': 'newton-cg', 'multi_class': 'multinomial', 'n': 2, 'min_df': 18, 'sub_tf': 'True'}. Best is trial 7 with value: 0.7083178861514611.\u001b[0m\n",
            "\u001b[32m[I 2021-07-20 11:14:12,316]\u001b[0m Trial 8 finished with value: 0.703414108051633 and parameters: {'max_iter': 373, 'solver': 'newton-cg', 'multi_class': 'ovr', 'n': 2, 'min_df': 25, 'sub_tf': 'False'}. Best is trial 7 with value: 0.7083178861514611.\u001b[0m\n",
            "\u001b[32m[I 2021-07-20 11:15:19,585]\u001b[0m Trial 9 finished with value: 0.6942132048127801 and parameters: {'max_iter': 323, 'solver': 'newton-cg', 'multi_class': 'ovr', 'n': 1, 'min_df': 22, 'sub_tf': 'True'}. Best is trial 7 with value: 0.7083178861514611.\u001b[0m\n",
            "\u001b[32m[I 2021-07-20 11:17:43,948]\u001b[0m Trial 10 finished with value: 0.7096154494287351 and parameters: {'max_iter': 420, 'solver': 'newton-cg', 'multi_class': 'multinomial', 'n': 2, 'min_df': 15, 'sub_tf': 'True'}. Best is trial 10 with value: 0.7096154494287351.\u001b[0m\n",
            "\u001b[32m[I 2021-07-20 11:20:07,770]\u001b[0m Trial 11 finished with value: 0.7096154494287351 and parameters: {'max_iter': 419, 'solver': 'newton-cg', 'multi_class': 'multinomial', 'n': 2, 'min_df': 15, 'sub_tf': 'True'}. Best is trial 10 with value: 0.7096154494287351.\u001b[0m\n",
            "\u001b[32m[I 2021-07-20 11:22:31,473]\u001b[0m Trial 12 finished with value: 0.7116713289070136 and parameters: {'max_iter': 420, 'solver': 'newton-cg', 'multi_class': 'multinomial', 'n': 2, 'min_df': 12, 'sub_tf': 'True'}. Best is trial 12 with value: 0.7116713289070136.\u001b[0m\n",
            "\u001b[32m[I 2021-07-20 11:24:49,019]\u001b[0m Trial 13 finished with value: 0.7127666745306865 and parameters: {'max_iter': 419, 'solver': 'newton-cg', 'multi_class': 'multinomial', 'n': 2, 'min_df': 11, 'sub_tf': 'True'}. Best is trial 13 with value: 0.7127666745306865.\u001b[0m\n",
            "\u001b[32m[I 2021-07-20 11:27:08,958]\u001b[0m Trial 14 finished with value: 0.7132385157224226 and parameters: {'max_iter': 405, 'solver': 'newton-cg', 'multi_class': 'multinomial', 'n': 2, 'min_df': 10, 'sub_tf': 'True'}. Best is trial 14 with value: 0.7132385157224226.\u001b[0m\n",
            "\u001b[32m[I 2021-07-20 11:29:29,934]\u001b[0m Trial 15 finished with value: 0.7132385157224226 and parameters: {'max_iter': 403, 'solver': 'newton-cg', 'multi_class': 'multinomial', 'n': 2, 'min_df': 10, 'sub_tf': 'True'}. Best is trial 14 with value: 0.7132385157224226.\u001b[0m\n",
            "\u001b[32m[I 2021-07-20 11:31:50,418]\u001b[0m Trial 16 finished with value: 0.7134407333760238 and parameters: {'max_iter': 402, 'solver': 'newton-cg', 'multi_class': 'multinomial', 'n': 2, 'min_df': 9, 'sub_tf': 'True'}. Best is trial 16 with value: 0.7134407333760238.\u001b[0m\n",
            "/usr/local/lib/python3.7/dist-packages/scipy/optimize/linesearch.py:426: LineSearchWarning:\n",
            "\n",
            "Rounding errors prevent the line search from converging\n",
            "\n",
            "/usr/local/lib/python3.7/dist-packages/scipy/optimize/linesearch.py:314: LineSearchWarning:\n",
            "\n",
            "The line search algorithm did not converge\n",
            "\n",
            "/usr/local/lib/python3.7/dist-packages/sklearn/utils/optimize.py:204: UserWarning:\n",
            "\n",
            "Line Search failed\n",
            "\n",
            "\u001b[32m[I 2021-07-20 11:34:46,006]\u001b[0m Trial 17 finished with value: 0.7139462775100266 and parameters: {'max_iter': 400, 'solver': 'newton-cg', 'multi_class': 'multinomial', 'n': 2, 'min_df': 6, 'sub_tf': 'True'}. Best is trial 17 with value: 0.7139462775100266.\u001b[0m\n",
            "\u001b[32m[I 2021-07-20 11:37:20,143]\u001b[0m Trial 18 finished with value: 0.7150921775470999 and parameters: {'max_iter': 390, 'solver': 'newton-cg', 'multi_class': 'multinomial', 'n': 2, 'min_df': 5, 'sub_tf': 'True'}. Best is trial 18 with value: 0.7150921775470999.\u001b[0m\n",
            "\u001b[32m[I 2021-07-20 11:39:54,142]\u001b[0m Trial 19 finished with value: 0.7150921775470999 and parameters: {'max_iter': 387, 'solver': 'newton-cg', 'multi_class': 'multinomial', 'n': 2, 'min_df': 5, 'sub_tf': 'True'}. Best is trial 18 with value: 0.7150921775470999.\u001b[0m\n",
            "\u001b[32m[I 2021-07-20 11:42:30,312]\u001b[0m Trial 20 finished with value: 0.7150921775470999 and parameters: {'max_iter': 351, 'solver': 'newton-cg', 'multi_class': 'multinomial', 'n': 2, 'min_df': 5, 'sub_tf': 'True'}. Best is trial 18 with value: 0.7150921775470999.\u001b[0m\n",
            "\u001b[32m[I 2021-07-20 11:45:04,606]\u001b[0m Trial 21 finished with value: 0.7150921775470999 and parameters: {'max_iter': 345, 'solver': 'newton-cg', 'multi_class': 'multinomial', 'n': 2, 'min_df': 5, 'sub_tf': 'True'}. Best is trial 18 with value: 0.7150921775470999.\u001b[0m\n",
            "\u001b[32m[I 2021-07-20 11:47:39,160]\u001b[0m Trial 22 finished with value: 0.7150921775470999 and parameters: {'max_iter': 342, 'solver': 'newton-cg', 'multi_class': 'multinomial', 'n': 2, 'min_df': 5, 'sub_tf': 'True'}. Best is trial 18 with value: 0.7150921775470999.\u001b[0m\n",
            "\u001b[32m[I 2021-07-20 11:50:00,509]\u001b[0m Trial 23 finished with value: 0.7139294260388932 and parameters: {'max_iter': 340, 'solver': 'newton-cg', 'multi_class': 'multinomial', 'n': 2, 'min_df': 7, 'sub_tf': 'True'}. Best is trial 18 with value: 0.7150921775470999.\u001b[0m\n",
            "\u001b[32m[I 2021-07-20 11:52:34,669]\u001b[0m Trial 24 finished with value: 0.7150921775470999 and parameters: {'max_iter': 352, 'solver': 'newton-cg', 'multi_class': 'multinomial', 'n': 2, 'min_df': 5, 'sub_tf': 'True'}. Best is trial 18 with value: 0.7150921775470999.\u001b[0m\n",
            "\u001b[32m[I 2021-07-20 11:54:55,351]\u001b[0m Trial 25 finished with value: 0.7134744363182906 and parameters: {'max_iter': 345, 'solver': 'newton-cg', 'multi_class': 'multinomial', 'n': 2, 'min_df': 8, 'sub_tf': 'True'}. Best is trial 18 with value: 0.7150921775470999.\u001b[0m\n",
            "\u001b[32m[I 2021-07-20 11:57:17,626]\u001b[0m Trial 26 finished with value: 0.7139294260388932 and parameters: {'max_iter': 335, 'solver': 'newton-cg', 'multi_class': 'multinomial', 'n': 2, 'min_df': 7, 'sub_tf': 'True'}. Best is trial 18 with value: 0.7150921775470999.\u001b[0m\n",
            "\u001b[32m[I 2021-07-20 11:59:40,677]\u001b[0m Trial 27 finished with value: 0.7116713289070136 and parameters: {'max_iter': 354, 'solver': 'newton-cg', 'multi_class': 'multinomial', 'n': 2, 'min_df': 12, 'sub_tf': 'True'}. Best is trial 18 with value: 0.7150921775470999.\u001b[0m\n",
            "/usr/local/lib/python3.7/dist-packages/scipy/optimize/linesearch.py:426: LineSearchWarning:\n",
            "\n",
            "Rounding errors prevent the line search from converging\n",
            "\n",
            "/usr/local/lib/python3.7/dist-packages/scipy/optimize/linesearch.py:314: LineSearchWarning:\n",
            "\n",
            "The line search algorithm did not converge\n",
            "\n",
            "/usr/local/lib/python3.7/dist-packages/sklearn/utils/optimize.py:204: UserWarning:\n",
            "\n",
            "Line Search failed\n",
            "\n",
            "\u001b[32m[I 2021-07-20 12:02:38,670]\u001b[0m Trial 28 finished with value: 0.7139462775100266 and parameters: {'max_iter': 354, 'solver': 'newton-cg', 'multi_class': 'multinomial', 'n': 2, 'min_df': 6, 'sub_tf': 'True'}. Best is trial 18 with value: 0.7150921775470999.\u001b[0m\n",
            "\u001b[32m[I 2021-07-20 12:04:01,153]\u001b[0m Trial 29 finished with value: 0.7088065788143305 and parameters: {'max_iter': 322, 'solver': 'newton-cg', 'multi_class': 'ovr', 'n': 2, 'min_df': 8, 'sub_tf': 'True'}. Best is trial 18 with value: 0.7150921775470999.\u001b[0m\n",
            "/usr/local/lib/python3.7/dist-packages/scipy/optimize/linesearch.py:426: LineSearchWarning:\n",
            "\n",
            "Rounding errors prevent the line search from converging\n",
            "\n",
            "/usr/local/lib/python3.7/dist-packages/scipy/optimize/linesearch.py:314: LineSearchWarning:\n",
            "\n",
            "The line search algorithm did not converge\n",
            "\n",
            "/usr/local/lib/python3.7/dist-packages/sklearn/utils/optimize.py:204: UserWarning:\n",
            "\n",
            "Line Search failed\n",
            "\n",
            "\u001b[32m[I 2021-07-20 12:06:59,823]\u001b[0m Trial 30 finished with value: 0.7139462775100266 and parameters: {'max_iter': 383, 'solver': 'newton-cg', 'multi_class': 'multinomial', 'n': 2, 'min_df': 6, 'sub_tf': 'True'}. Best is trial 18 with value: 0.7150921775470999.\u001b[0m\n",
            "\u001b[32m[I 2021-07-20 12:09:33,587]\u001b[0m Trial 31 finished with value: 0.7150921775470999 and parameters: {'max_iter': 348, 'solver': 'newton-cg', 'multi_class': 'multinomial', 'n': 2, 'min_df': 5, 'sub_tf': 'True'}. Best is trial 18 with value: 0.7150921775470999.\u001b[0m\n",
            "\u001b[32m[I 2021-07-20 12:12:07,440]\u001b[0m Trial 32 finished with value: 0.7150921775470999 and parameters: {'max_iter': 331, 'solver': 'newton-cg', 'multi_class': 'multinomial', 'n': 2, 'min_df': 5, 'sub_tf': 'True'}. Best is trial 18 with value: 0.7150921775470999.\u001b[0m\n",
            "\u001b[32m[I 2021-07-20 12:14:27,084]\u001b[0m Trial 33 finished with value: 0.7134407333760238 and parameters: {'max_iter': 332, 'solver': 'newton-cg', 'multi_class': 'multinomial', 'n': 2, 'min_df': 9, 'sub_tf': 'True'}. Best is trial 18 with value: 0.7150921775470999.\u001b[0m\n",
            "\u001b[32m[I 2021-07-20 12:16:50,314]\u001b[0m Trial 34 finished with value: 0.7139294260388932 and parameters: {'max_iter': 347, 'solver': 'newton-cg', 'multi_class': 'multinomial', 'n': 2, 'min_df': 7, 'sub_tf': 'True'}. Best is trial 18 with value: 0.7150921775470999.\u001b[0m\n",
            "\u001b[32m[I 2021-07-20 12:19:27,992]\u001b[0m Trial 35 finished with value: 0.7150921775470999 and parameters: {'max_iter': 337, 'solver': 'newton-cg', 'multi_class': 'multinomial', 'n': 2, 'min_df': 5, 'sub_tf': 'False'}. Best is trial 18 with value: 0.7150921775470999.\u001b[0m\n",
            "\u001b[32m[I 2021-07-20 12:21:48,100]\u001b[0m Trial 36 finished with value: 0.7134407333760238 and parameters: {'max_iter': 361, 'solver': 'newton-cg', 'multi_class': 'multinomial', 'n': 2, 'min_df': 9, 'sub_tf': 'False'}. Best is trial 18 with value: 0.7150921775470999.\u001b[0m\n",
            "\u001b[32m[I 2021-07-20 12:23:45,848]\u001b[0m Trial 37 finished with value: 0.6984934784806713 and parameters: {'max_iter': 389, 'solver': 'newton-cg', 'multi_class': 'multinomial', 'n': 1, 'min_df': 17, 'sub_tf': 'True'}. Best is trial 18 with value: 0.7150921775470999.\u001b[0m\n",
            "\u001b[32m[I 2021-07-20 12:25:11,700]\u001b[0m Trial 38 finished with value: 0.7094300832462674 and parameters: {'max_iter': 360, 'solver': 'newton-cg', 'multi_class': 'ovr', 'n': 2, 'min_df': 6, 'sub_tf': 'True'}. Best is trial 18 with value: 0.7150921775470999.\u001b[0m\n",
            "\u001b[32m[I 2021-07-20 12:27:35,943]\u001b[0m Trial 39 finished with value: 0.7112331906575444 and parameters: {'max_iter': 328, 'solver': 'newton-cg', 'multi_class': 'multinomial', 'n': 2, 'min_df': 13, 'sub_tf': 'False'}. Best is trial 18 with value: 0.7150921775470999.\u001b[0m\n"
          ]
        },
        {
          "name": "stdout",
          "output_type": "stream",
          "text": [
            "Best hyper-parameters: \n",
            "{'max_iter': 390, 'solver': 'newton-cg', 'multi_class': 'multinomial', 'n': 2, 'min_df': 5, 'sub_tf': 'True'}\n",
            "Best score: \n",
            "0.7150921775470999\n"
          ]
        }
      ]
    },
    {
      "cell_type": "markdown",
      "metadata": {
        "id": "rQWMdlZ0JPa9"
      },
      "source": [
        "#### Random Forest"
      ]
    },
    {
      "cell_type": "code",
      "metadata": {
        "colab": {
          "base_uri": "https://localhost:8080/"
        },
        "id": "p6BpcfNrJPa9",
        "outputId": "822b5379-61d5-4ce8-aaef-086594f532b6"
      },
      "source": [
        "### HPO with optuna ####\n",
        "\n",
        "import optuna\n",
        "\n",
        "# Define function to be optimized\n",
        "def objective_Forest(trial):\n",
        "    \n",
        "    # Sample values for the hyper-parameters\n",
        "    n_estimators = trial.suggest_int(\"n_estimators\", 100, 300)\n",
        "    criterion = trial.suggest_categorical(\"criterion\", [\"gini\", \"entropy\"])\n",
        "    max_depth = trial.suggest_int(\"max_depth\", 3, 6)\n",
        "    n = trial.suggest_int(\"n\", 1, 2)\n",
        "    min_df = trial.suggest_int(\"min_df\",5,25)\n",
        "    sub_tf = trial.suggest_categorical(\"sub_tf\", [\"True\",\"False\"])\n",
        "    # Create pipeline\n",
        "    Forest_pipe = Pipeline([('vect', CountVectorizer(ngram_range = (1, n), min_df = min_df)),\n",
        "                            ('tfidf', TfidfTransformer(sublinear_tf = sub_tf)),('classifier', RandomForestClassifier(\n",
        "                                random_state = 3, n_estimators = n_estimators, criterion = criterion,\n",
        "                                max_depth = max_depth ) )])\n",
        "\n",
        "    # Fit model\n",
        "    clf_Forest = Forest_pipe.fit(train_lemmatized, train_labels_list)\n",
        "    # Obtain the predictions\n",
        "    predictions = Forest_pipe.predict(valid_lemmatized)\n",
        "    # Obtain the accuracy\n",
        "    acc = accuracy_score(valid_labels_list, predictions)\n",
        "    \n",
        "    return acc\n",
        "\n",
        "# Select budget and set seed                            \n",
        "budget = 40\n",
        "np.random.seed(0)\n",
        "# Optimize hyper-parameters\n",
        "study_Forest = optuna.create_study(direction=\"maximize\")\n",
        "study_Forest.optimize(objective_Forest, n_trials=budget,show_progress_bar=False)\n",
        "\n",
        "# Best hyper-parameters\n",
        "print(\"Best hyper-parameters: \")\n",
        "print(study_Forest.best_params)\n",
        "# Best score\n",
        "print(\"Best score: \")\n",
        "print(study_Forest.best_value)"
      ],
      "execution_count": null,
      "outputs": [
        {
          "name": "stderr",
          "output_type": "stream",
          "text": [
            "\u001b[32m[I 2021-07-20 13:44:29,932]\u001b[0m A new study created in memory with name: no-name-1de3f99b-1a25-4e07-8a7f-0a788f62457b\u001b[0m\n",
            "\u001b[32m[I 2021-07-20 13:44:58,103]\u001b[0m Trial 0 finished with value: 0.3929763068315864 and parameters: {'n_estimators': 158, 'criterion': 'gini', 'max_depth': 4, 'n': 1, 'min_df': 25, 'sub_tf': 'False'}. Best is trial 0 with value: 0.3929763068315864.\u001b[0m\n",
            "\u001b[32m[I 2021-07-20 13:45:38,170]\u001b[0m Trial 1 finished with value: 0.3929763068315864 and parameters: {'n_estimators': 258, 'criterion': 'gini', 'max_depth': 4, 'n': 1, 'min_df': 10, 'sub_tf': 'True'}. Best is trial 0 with value: 0.3929763068315864.\u001b[0m\n",
            "\u001b[32m[I 2021-07-20 13:46:15,293]\u001b[0m Trial 2 finished with value: 0.3929763068315864 and parameters: {'n_estimators': 110, 'criterion': 'entropy', 'max_depth': 6, 'n': 2, 'min_df': 15, 'sub_tf': 'False'}. Best is trial 0 with value: 0.3929763068315864.\u001b[0m\n",
            "\u001b[32m[I 2021-07-20 13:46:49,297]\u001b[0m Trial 3 finished with value: 0.3929763068315864 and parameters: {'n_estimators': 140, 'criterion': 'gini', 'max_depth': 3, 'n': 2, 'min_df': 7, 'sub_tf': 'False'}. Best is trial 0 with value: 0.3929763068315864.\u001b[0m\n",
            "\u001b[32m[I 2021-07-20 13:47:09,700]\u001b[0m Trial 4 finished with value: 0.3929763068315864 and parameters: {'n_estimators': 117, 'criterion': 'gini', 'max_depth': 3, 'n': 1, 'min_df': 16, 'sub_tf': 'True'}. Best is trial 0 with value: 0.3929763068315864.\u001b[0m\n",
            "\u001b[32m[I 2021-07-20 13:47:55,840]\u001b[0m Trial 5 finished with value: 0.3929763068315864 and parameters: {'n_estimators': 255, 'criterion': 'entropy', 'max_depth': 4, 'n': 1, 'min_df': 15, 'sub_tf': 'True'}. Best is trial 0 with value: 0.3929763068315864.\u001b[0m\n",
            "\u001b[32m[I 2021-07-20 13:48:30,171]\u001b[0m Trial 6 finished with value: 0.3929763068315864 and parameters: {'n_estimators': 179, 'criterion': 'entropy', 'max_depth': 4, 'n': 1, 'min_df': 24, 'sub_tf': 'False'}. Best is trial 0 with value: 0.3929763068315864.\u001b[0m\n",
            "\u001b[32m[I 2021-07-20 13:49:03,658]\u001b[0m Trial 7 finished with value: 0.4064237807960635 and parameters: {'n_estimators': 177, 'criterion': 'gini', 'max_depth': 6, 'n': 1, 'min_df': 10, 'sub_tf': 'True'}. Best is trial 7 with value: 0.4064237807960635.\u001b[0m\n",
            "\u001b[32m[I 2021-07-20 13:49:38,442]\u001b[0m Trial 8 finished with value: 0.3929763068315864 and parameters: {'n_estimators': 140, 'criterion': 'entropy', 'max_depth': 3, 'n': 2, 'min_df': 8, 'sub_tf': 'True'}. Best is trial 7 with value: 0.4064237807960635.\u001b[0m\n",
            "\u001b[32m[I 2021-07-20 13:50:23,849]\u001b[0m Trial 9 finished with value: 0.3929763068315864 and parameters: {'n_estimators': 275, 'criterion': 'gini', 'max_depth': 5, 'n': 1, 'min_df': 9, 'sub_tf': 'True'}. Best is trial 7 with value: 0.4064237807960635.\u001b[0m\n",
            "\u001b[32m[I 2021-07-20 13:51:15,635]\u001b[0m Trial 10 finished with value: 0.3929763068315864 and parameters: {'n_estimators': 210, 'criterion': 'gini', 'max_depth': 6, 'n': 2, 'min_df': 19, 'sub_tf': 'True'}. Best is trial 7 with value: 0.4064237807960635.\u001b[0m\n",
            "\u001b[32m[I 2021-07-20 13:51:50,516]\u001b[0m Trial 11 finished with value: 0.3929931583027198 and parameters: {'n_estimators': 191, 'criterion': 'gini', 'max_depth': 5, 'n': 1, 'min_df': 25, 'sub_tf': 'False'}. Best is trial 7 with value: 0.4064237807960635.\u001b[0m\n",
            "\u001b[32m[I 2021-07-20 13:52:28,505]\u001b[0m Trial 12 finished with value: 0.3929763068315864 and parameters: {'n_estimators': 216, 'criterion': 'gini', 'max_depth': 5, 'n': 1, 'min_df': 20, 'sub_tf': 'False'}. Best is trial 7 with value: 0.4064237807960635.\u001b[0m\n",
            "\u001b[32m[I 2021-07-20 13:53:03,775]\u001b[0m Trial 13 finished with value: 0.3929763068315864 and parameters: {'n_estimators': 183, 'criterion': 'gini', 'max_depth': 6, 'n': 1, 'min_df': 12, 'sub_tf': 'False'}. Best is trial 7 with value: 0.4064237807960635.\u001b[0m\n",
            "\u001b[32m[I 2021-07-20 13:53:40,843]\u001b[0m Trial 14 finished with value: 0.3929763068315864 and parameters: {'n_estimators': 231, 'criterion': 'gini', 'max_depth': 5, 'n': 1, 'min_df': 5, 'sub_tf': 'True'}. Best is trial 7 with value: 0.4064237807960635.\u001b[0m\n",
            "\u001b[32m[I 2021-07-20 13:54:15,701]\u001b[0m Trial 15 finished with value: 0.3929763068315864 and parameters: {'n_estimators': 183, 'criterion': 'gini', 'max_depth': 6, 'n': 1, 'min_df': 12, 'sub_tf': 'False'}. Best is trial 7 with value: 0.4064237807960635.\u001b[0m\n",
            "\u001b[32m[I 2021-07-20 13:54:44,948]\u001b[0m Trial 16 finished with value: 0.393077415658387 and parameters: {'n_estimators': 153, 'criterion': 'gini', 'max_depth': 5, 'n': 1, 'min_df': 22, 'sub_tf': 'True'}. Best is trial 7 with value: 0.4064237807960635.\u001b[0m\n",
            "\u001b[32m[I 2021-07-20 13:55:14,621]\u001b[0m Trial 17 finished with value: 0.39306056418725355 and parameters: {'n_estimators': 158, 'criterion': 'gini', 'max_depth': 5, 'n': 1, 'min_df': 22, 'sub_tf': 'True'}. Best is trial 7 with value: 0.4064237807960635.\u001b[0m\n",
            "\u001b[32m[I 2021-07-20 13:55:40,781]\u001b[0m Trial 18 finished with value: 0.393431296552189 and parameters: {'n_estimators': 135, 'criterion': 'gini', 'max_depth': 6, 'n': 1, 'min_df': 18, 'sub_tf': 'True'}. Best is trial 7 with value: 0.4064237807960635.\u001b[0m\n",
            "\u001b[32m[I 2021-07-20 13:56:16,497]\u001b[0m Trial 19 finished with value: 0.3929763068315864 and parameters: {'n_estimators': 127, 'criterion': 'gini', 'max_depth': 6, 'n': 2, 'min_df': 18, 'sub_tf': 'True'}. Best is trial 7 with value: 0.4064237807960635.\u001b[0m\n",
            "\u001b[32m[I 2021-07-20 13:56:37,786]\u001b[0m Trial 20 finished with value: 0.3929931583027198 and parameters: {'n_estimators': 103, 'criterion': 'gini', 'max_depth': 6, 'n': 1, 'min_df': 12, 'sub_tf': 'True'}. Best is trial 7 with value: 0.4064237807960635.\u001b[0m\n",
            "\u001b[32m[I 2021-07-20 13:57:09,087]\u001b[0m Trial 21 finished with value: 0.39346499949445585 and parameters: {'n_estimators': 159, 'criterion': 'gini', 'max_depth': 6, 'n': 1, 'min_df': 22, 'sub_tf': 'True'}. Best is trial 7 with value: 0.4064237807960635.\u001b[0m\n",
            "\u001b[32m[I 2021-07-20 13:57:40,369]\u001b[0m Trial 22 finished with value: 0.3930268612449867 and parameters: {'n_estimators': 167, 'criterion': 'gini', 'max_depth': 6, 'n': 1, 'min_df': 17, 'sub_tf': 'True'}. Best is trial 7 with value: 0.4064237807960635.\u001b[0m\n",
            "\u001b[32m[I 2021-07-20 13:58:07,715]\u001b[0m Trial 23 finished with value: 0.3931279700717873 and parameters: {'n_estimators': 137, 'criterion': 'gini', 'max_depth': 6, 'n': 1, 'min_df': 21, 'sub_tf': 'True'}. Best is trial 7 with value: 0.4064237807960635.\u001b[0m\n",
            "\u001b[32m[I 2021-07-20 13:58:39,473]\u001b[0m Trial 24 finished with value: 0.4065417410939975 and parameters: {'n_estimators': 169, 'criterion': 'gini', 'max_depth': 6, 'n': 1, 'min_df': 13, 'sub_tf': 'True'}. Best is trial 24 with value: 0.4065417410939975.\u001b[0m\n",
            "\u001b[32m[I 2021-07-20 13:59:16,816]\u001b[0m Trial 25 finished with value: 0.39321222742745443 and parameters: {'n_estimators': 202, 'criterion': 'gini', 'max_depth': 6, 'n': 1, 'min_df': 13, 'sub_tf': 'True'}. Best is trial 24 with value: 0.4065417410939975.\u001b[0m\n",
            "\u001b[32m[I 2021-07-20 13:59:45,897]\u001b[0m Trial 26 finished with value: 0.3929763068315864 and parameters: {'n_estimators': 170, 'criterion': 'gini', 'max_depth': 5, 'n': 1, 'min_df': 5, 'sub_tf': 'True'}. Best is trial 24 with value: 0.4065417410939975.\u001b[0m\n",
            "\u001b[32m[I 2021-07-20 14:00:29,538]\u001b[0m Trial 27 finished with value: 0.4063732263826632 and parameters: {'n_estimators': 202, 'criterion': 'entropy', 'max_depth': 6, 'n': 1, 'min_df': 10, 'sub_tf': 'True'}. Best is trial 24 with value: 0.4065417410939975.\u001b[0m\n",
            "\u001b[32m[I 2021-07-20 14:01:18,607]\u001b[0m Trial 28 finished with value: 0.3929763068315864 and parameters: {'n_estimators': 230, 'criterion': 'entropy', 'max_depth': 6, 'n': 1, 'min_df': 10, 'sub_tf': 'True'}. Best is trial 24 with value: 0.4065417410939975.\u001b[0m\n",
            "\u001b[32m[I 2021-07-20 14:02:00,795]\u001b[0m Trial 29 finished with value: 0.3929763068315864 and parameters: {'n_estimators': 226, 'criterion': 'entropy', 'max_depth': 5, 'n': 1, 'min_df': 7, 'sub_tf': 'True'}. Best is trial 24 with value: 0.4065417410939975.\u001b[0m\n",
            "\u001b[32m[I 2021-07-20 14:02:42,871]\u001b[0m Trial 30 finished with value: 0.3930268612449867 and parameters: {'n_estimators': 194, 'criterion': 'entropy', 'max_depth': 6, 'n': 1, 'min_df': 13, 'sub_tf': 'True'}. Best is trial 24 with value: 0.4065417410939975.\u001b[0m\n",
            "\u001b[32m[I 2021-07-20 14:03:19,456]\u001b[0m Trial 31 finished with value: 0.4064237807960635 and parameters: {'n_estimators': 168, 'criterion': 'entropy', 'max_depth': 6, 'n': 1, 'min_df': 10, 'sub_tf': 'True'}. Best is trial 24 with value: 0.4065417410939975.\u001b[0m\n",
            "\u001b[32m[I 2021-07-20 14:03:57,025]\u001b[0m Trial 32 finished with value: 0.4064237807960635 and parameters: {'n_estimators': 174, 'criterion': 'entropy', 'max_depth': 6, 'n': 1, 'min_df': 10, 'sub_tf': 'True'}. Best is trial 24 with value: 0.4065417410939975.\u001b[0m\n",
            "\u001b[32m[I 2021-07-20 14:04:35,072]\u001b[0m Trial 33 finished with value: 0.3929763068315864 and parameters: {'n_estimators': 174, 'criterion': 'entropy', 'max_depth': 6, 'n': 1, 'min_df': 11, 'sub_tf': 'True'}. Best is trial 24 with value: 0.4065417410939975.\u001b[0m\n",
            "\u001b[32m[I 2021-07-20 14:05:11,332]\u001b[0m Trial 34 finished with value: 0.40650803815173064 and parameters: {'n_estimators': 159, 'criterion': 'entropy', 'max_depth': 6, 'n': 1, 'min_df': 14, 'sub_tf': 'True'}. Best is trial 24 with value: 0.4065417410939975.\u001b[0m\n",
            "\u001b[32m[I 2021-07-20 14:05:47,169]\u001b[0m Trial 35 finished with value: 0.40650803815173064 and parameters: {'n_estimators': 162, 'criterion': 'entropy', 'max_depth': 6, 'n': 1, 'min_df': 14, 'sub_tf': 'True'}. Best is trial 24 with value: 0.4065417410939975.\u001b[0m\n",
            "\u001b[32m[I 2021-07-20 14:06:29,000]\u001b[0m Trial 36 finished with value: 0.3929763068315864 and parameters: {'n_estimators': 149, 'criterion': 'entropy', 'max_depth': 5, 'n': 2, 'min_df': 15, 'sub_tf': 'True'}. Best is trial 24 with value: 0.4065417410939975.\u001b[0m\n",
            "\u001b[32m[I 2021-07-20 14:06:56,643]\u001b[0m Trial 37 finished with value: 0.4065417410939975 and parameters: {'n_estimators': 119, 'criterion': 'entropy', 'max_depth': 6, 'n': 1, 'min_df': 14, 'sub_tf': 'True'}. Best is trial 24 with value: 0.4065417410939975.\u001b[0m\n",
            "\u001b[32m[I 2021-07-20 14:07:24,259]\u001b[0m Trial 38 finished with value: 0.4065754440362644 and parameters: {'n_estimators': 118, 'criterion': 'entropy', 'max_depth': 6, 'n': 1, 'min_df': 14, 'sub_tf': 'True'}. Best is trial 38 with value: 0.4065754440362644.\u001b[0m\n",
            "\u001b[32m[I 2021-07-20 14:07:47,773]\u001b[0m Trial 39 finished with value: 0.3929763068315864 and parameters: {'n_estimators': 117, 'criterion': 'entropy', 'max_depth': 4, 'n': 1, 'min_df': 16, 'sub_tf': 'True'}. Best is trial 38 with value: 0.4065754440362644.\u001b[0m\n"
          ]
        },
        {
          "name": "stdout",
          "output_type": "stream",
          "text": [
            "Best hyper-parameters: \n",
            "{'n_estimators': 118, 'criterion': 'entropy', 'max_depth': 6, 'n': 1, 'min_df': 14, 'sub_tf': 'True'}\n",
            "Best score: \n",
            "0.4065754440362644\n"
          ]
        }
      ]
    },
    {
      "cell_type": "markdown",
      "metadata": {
        "id": "writYmPmJPa-"
      },
      "source": [
        "#### Linear SVC"
      ]
    },
    {
      "cell_type": "code",
      "metadata": {
        "colab": {
          "base_uri": "https://localhost:8080/"
        },
        "id": "LtYWdkXOJPa_",
        "outputId": "bac88d94-38cb-4592-aaa4-e06490599835"
      },
      "source": [
        "### HPO with optuna ####\n",
        "\n",
        "import optuna\n",
        "\n",
        "# Define function to be optimized\n",
        "def objective_SVC(trial):\n",
        "    \n",
        "    # Sample values for the hyper-parameters\n",
        "    max_iter = trial.suggest_int(\"max_iter\", 1000, 3000)\n",
        "    loss = trial.suggest_categorical(\"loss\", [\"hinge\", \"squared_hinge\"])\n",
        "    n = trial.suggest_int(\"n\", 1, 2)\n",
        "    min_df = trial.suggest_int(\"min_df\",5,25)\n",
        "    sub_tf = trial.suggest_categorical(\"sub_tf\", [\"True\", \"False\"])\n",
        "    # Create pipeline\n",
        "    SVC_pipe = Pipeline([('vect', CountVectorizer(ngram_range = (1, n), min_df = min_df)),\n",
        "                            ('tfidf', TfidfTransformer(sublinear_tf = sub_tf)),('classifier', LinearSVC(\n",
        "                                random_state = 3, max_iter = max_iter,\n",
        "                                loss = loss) )])\n",
        "\n",
        "    # Fit model\n",
        "    clf_SVC = SVC_pipe.fit(train_lemmatized, train_labels_list)\n",
        "    # Obtain the predictions\n",
        "    predictions = SVC_pipe.predict(valid_lemmatized)\n",
        "    # Obtain the accuracy\n",
        "    acc = accuracy_score(valid_labels_list, predictions)\n",
        "    \n",
        "    return acc\n",
        "\n",
        "# Select budget and set seed                            \n",
        "budget = 40\n",
        "np.random.seed(0)\n",
        "# Optimize hyper-parameters\n",
        "study_SVC = optuna.create_study(direction=\"maximize\")\n",
        "study_SVC.optimize(objective_SVC, n_trials=budget,show_progress_bar=False)\n",
        "\n",
        "# Best hyper-parameters\n",
        "print(\"Best hyper-parameters: \")\n",
        "print(study_SVC.best_params)\n",
        "# Best score\n",
        "print(\"Best score: \")\n",
        "print(study_SVC.best_value)"
      ],
      "execution_count": null,
      "outputs": [
        {
          "name": "stderr",
          "output_type": "stream",
          "text": [
            "\u001b[32m[I 2021-07-20 14:30:49,936]\u001b[0m A new study created in memory with name: no-name-7a17a431-3d8a-4fb0-b116-1139ea96c9af\u001b[0m\n",
            "\u001b[32m[I 2021-07-20 14:31:34,953]\u001b[0m Trial 0 finished with value: 0.701459337400155 and parameters: {'max_iter': 1559, 'loss': 'squared_hinge', 'n': 1, 'min_df': 11, 'sub_tf': 'False'}. Best is trial 0 with value: 0.701459337400155.\u001b[0m\n",
            "\u001b[32m[I 2021-07-20 14:32:29,140]\u001b[0m Trial 1 finished with value: 0.7061103434329817 and parameters: {'max_iter': 2665, 'loss': 'squared_hinge', 'n': 2, 'min_df': 25, 'sub_tf': 'False'}. Best is trial 1 with value: 0.7061103434329817.\u001b[0m\n",
            "/usr/local/lib/python3.7/dist-packages/sklearn/svm/_base.py:947: ConvergenceWarning:\n",
            "\n",
            "Liblinear failed to converge, increase the number of iterations.\n",
            "\n",
            "\u001b[32m[I 2021-07-20 14:44:49,317]\u001b[0m Trial 2 finished with value: 0.68836574432948 and parameters: {'max_iter': 2424, 'loss': 'hinge', 'n': 1, 'min_df': 11, 'sub_tf': 'True'}. Best is trial 1 with value: 0.7061103434329817.\u001b[0m\n",
            "\u001b[32m[I 2021-07-20 14:45:32,250]\u001b[0m Trial 3 finished with value: 0.6990158740858077 and parameters: {'max_iter': 2162, 'loss': 'squared_hinge', 'n': 1, 'min_df': 17, 'sub_tf': 'False'}. Best is trial 1 with value: 0.7061103434329817.\u001b[0m\n",
            "\u001b[32m[I 2021-07-20 14:46:32,327]\u001b[0m Trial 4 finished with value: 0.706868659633986 and parameters: {'max_iter': 2342, 'loss': 'squared_hinge', 'n': 2, 'min_df': 23, 'sub_tf': 'True'}. Best is trial 4 with value: 0.706868659633986.\u001b[0m\n",
            "\u001b[32m[I 2021-07-20 14:47:32,128]\u001b[0m Trial 5 finished with value: 0.7073405008257221 and parameters: {'max_iter': 2066, 'loss': 'squared_hinge', 'n': 2, 'min_df': 22, 'sub_tf': 'True'}. Best is trial 5 with value: 0.7073405008257221.\u001b[0m\n",
            "/usr/local/lib/python3.7/dist-packages/sklearn/svm/_base.py:947: ConvergenceWarning:\n",
            "\n",
            "Liblinear failed to converge, increase the number of iterations.\n",
            "\n",
            "\u001b[32m[I 2021-07-20 14:50:05,326]\u001b[0m Trial 6 finished with value: 0.7066664419803849 and parameters: {'max_iter': 1329, 'loss': 'hinge', 'n': 2, 'min_df': 9, 'sub_tf': 'False'}. Best is trial 5 with value: 0.7073405008257221.\u001b[0m\n",
            "/usr/local/lib/python3.7/dist-packages/sklearn/svm/_base.py:947: ConvergenceWarning:\n",
            "\n",
            "Liblinear failed to converge, increase the number of iterations.\n",
            "\n",
            "\u001b[32m[I 2021-07-20 15:02:59,355]\u001b[0m Trial 7 finished with value: 0.6847763809780594 and parameters: {'max_iter': 2729, 'loss': 'hinge', 'n': 1, 'min_df': 22, 'sub_tf': 'False'}. Best is trial 5 with value: 0.7073405008257221.\u001b[0m\n",
            "/usr/local/lib/python3.7/dist-packages/sklearn/svm/_base.py:947: ConvergenceWarning:\n",
            "\n",
            "Liblinear failed to converge, increase the number of iterations.\n",
            "\n",
            "\u001b[32m[I 2021-07-20 15:08:55,881]\u001b[0m Trial 8 finished with value: 0.6962185298776583 and parameters: {'max_iter': 1016, 'loss': 'hinge', 'n': 2, 'min_df': 21, 'sub_tf': 'False'}. Best is trial 5 with value: 0.7073405008257221.\u001b[0m\n",
            "\u001b[32m[I 2021-07-20 15:09:50,683]\u001b[0m Trial 9 finished with value: 0.706868659633986 and parameters: {'max_iter': 2527, 'loss': 'squared_hinge', 'n': 2, 'min_df': 23, 'sub_tf': 'False'}. Best is trial 5 with value: 0.7073405008257221.\u001b[0m\n",
            "\u001b[32m[I 2021-07-20 15:10:44,527]\u001b[0m Trial 10 finished with value: 0.7100704391493378 and parameters: {'max_iter': 1850, 'loss': 'squared_hinge', 'n': 2, 'min_df': 17, 'sub_tf': 'True'}. Best is trial 10 with value: 0.7100704391493378.\u001b[0m\n",
            "\u001b[32m[I 2021-07-20 15:11:38,468]\u001b[0m Trial 11 finished with value: 0.7100704391493378 and parameters: {'max_iter': 1829, 'loss': 'squared_hinge', 'n': 2, 'min_df': 17, 'sub_tf': 'True'}. Best is trial 10 with value: 0.7100704391493378.\u001b[0m\n",
            "\u001b[32m[I 2021-07-20 15:12:32,002]\u001b[0m Trial 12 finished with value: 0.7101883994472717 and parameters: {'max_iter': 1656, 'loss': 'squared_hinge', 'n': 2, 'min_df': 16, 'sub_tf': 'True'}. Best is trial 12 with value: 0.7101883994472717.\u001b[0m\n",
            "\u001b[32m[I 2021-07-20 15:13:25,020]\u001b[0m Trial 13 finished with value: 0.710980418590543 and parameters: {'max_iter': 1701, 'loss': 'squared_hinge', 'n': 2, 'min_df': 15, 'sub_tf': 'True'}. Best is trial 13 with value: 0.710980418590543.\u001b[0m\n",
            "\u001b[32m[I 2021-07-20 15:14:18,353]\u001b[0m Trial 14 finished with value: 0.711924100974015 and parameters: {'max_iter': 1491, 'loss': 'squared_hinge', 'n': 2, 'min_df': 14, 'sub_tf': 'True'}. Best is trial 14 with value: 0.711924100974015.\u001b[0m\n",
            "\u001b[32m[I 2021-07-20 15:15:10,694]\u001b[0m Trial 15 finished with value: 0.7190522732634559 and parameters: {'max_iter': 1214, 'loss': 'squared_hinge', 'n': 2, 'min_df': 5, 'sub_tf': 'True'}. Best is trial 15 with value: 0.7190522732634559.\u001b[0m\n",
            "\u001b[32m[I 2021-07-20 15:16:02,181]\u001b[0m Trial 16 finished with value: 0.7190522732634559 and parameters: {'max_iter': 1146, 'loss': 'squared_hinge', 'n': 2, 'min_df': 5, 'sub_tf': 'True'}. Best is trial 15 with value: 0.7190522732634559.\u001b[0m\n",
            "\u001b[32m[I 2021-07-20 15:16:53,797]\u001b[0m Trial 17 finished with value: 0.7190522732634559 and parameters: {'max_iter': 1059, 'loss': 'squared_hinge', 'n': 2, 'min_df': 5, 'sub_tf': 'True'}. Best is trial 15 with value: 0.7190522732634559.\u001b[0m\n",
            "\u001b[32m[I 2021-07-20 15:17:44,601]\u001b[0m Trial 18 finished with value: 0.7190522732634559 and parameters: {'max_iter': 1010, 'loss': 'squared_hinge', 'n': 2, 'min_df': 5, 'sub_tf': 'True'}. Best is trial 15 with value: 0.7190522732634559.\u001b[0m\n",
            "\u001b[32m[I 2021-07-20 15:18:27,835]\u001b[0m Trial 19 finished with value: 0.7028074550908294 and parameters: {'max_iter': 1248, 'loss': 'squared_hinge', 'n': 1, 'min_df': 7, 'sub_tf': 'True'}. Best is trial 15 with value: 0.7190522732634559.\u001b[0m\n",
            "\u001b[32m[I 2021-07-20 15:19:21,096]\u001b[0m Trial 20 finished with value: 0.7167604731893095 and parameters: {'max_iter': 1039, 'loss': 'squared_hinge', 'n': 2, 'min_df': 7, 'sub_tf': 'True'}. Best is trial 15 with value: 0.7190522732634559.\u001b[0m\n",
            "\u001b[32m[I 2021-07-20 15:20:14,797]\u001b[0m Trial 21 finished with value: 0.7190522732634559 and parameters: {'max_iter': 1011, 'loss': 'squared_hinge', 'n': 2, 'min_df': 5, 'sub_tf': 'True'}. Best is trial 15 with value: 0.7190522732634559.\u001b[0m\n",
            "\u001b[32m[I 2021-07-20 15:21:07,730]\u001b[0m Trial 22 finished with value: 0.7167604731893095 and parameters: {'max_iter': 1000, 'loss': 'squared_hinge', 'n': 2, 'min_df': 7, 'sub_tf': 'True'}. Best is trial 15 with value: 0.7190522732634559.\u001b[0m\n",
            "\u001b[32m[I 2021-07-20 15:22:00,283]\u001b[0m Trial 23 finished with value: 0.7181422938222507 and parameters: {'max_iter': 1349, 'loss': 'squared_hinge', 'n': 2, 'min_df': 6, 'sub_tf': 'True'}. Best is trial 15 with value: 0.7190522732634559.\u001b[0m\n",
            "\u001b[32m[I 2021-07-20 15:22:52,617]\u001b[0m Trial 24 finished with value: 0.7153112466718344 and parameters: {'max_iter': 1024, 'loss': 'squared_hinge', 'n': 2, 'min_df': 9, 'sub_tf': 'True'}. Best is trial 15 with value: 0.7190522732634559.\u001b[0m\n",
            "\u001b[32m[I 2021-07-20 15:23:45,171]\u001b[0m Trial 25 finished with value: 0.7153112466718344 and parameters: {'max_iter': 1436, 'loss': 'squared_hinge', 'n': 2, 'min_df': 9, 'sub_tf': 'True'}. Best is trial 15 with value: 0.7190522732634559.\u001b[0m\n",
            "\u001b[32m[I 2021-07-20 15:24:39,142]\u001b[0m Trial 26 finished with value: 0.7190522732634559 and parameters: {'max_iter': 2914, 'loss': 'squared_hinge', 'n': 2, 'min_df': 5, 'sub_tf': 'True'}. Best is trial 15 with value: 0.7190522732634559.\u001b[0m\n",
            "/usr/local/lib/python3.7/dist-packages/sklearn/svm/_base.py:947: ConvergenceWarning:\n",
            "\n",
            "Liblinear failed to converge, increase the number of iterations.\n",
            "\n",
            "\u001b[32m[I 2021-07-20 15:30:02,210]\u001b[0m Trial 27 finished with value: 0.7050655522227091 and parameters: {'max_iter': 2793, 'loss': 'hinge', 'n': 2, 'min_df': 11, 'sub_tf': 'True'}. Best is trial 15 with value: 0.7190522732634559.\u001b[0m\n",
            "\u001b[32m[I 2021-07-20 15:30:54,636]\u001b[0m Trial 28 finished with value: 0.7128003774729534 and parameters: {'max_iter': 1204, 'loss': 'squared_hinge', 'n': 2, 'min_df': 13, 'sub_tf': 'True'}. Best is trial 15 with value: 0.7190522732634559.\u001b[0m\n",
            "\u001b[32m[I 2021-07-20 15:31:37,166]\u001b[0m Trial 29 finished with value: 0.702790603619696 and parameters: {'max_iter': 2959, 'loss': 'squared_hinge', 'n': 1, 'min_df': 8, 'sub_tf': 'True'}. Best is trial 15 with value: 0.7190522732634559.\u001b[0m\n",
            "\u001b[32m[I 2021-07-20 15:32:30,472]\u001b[0m Trial 30 finished with value: 0.7136766539718917 and parameters: {'max_iter': 2229, 'loss': 'squared_hinge', 'n': 2, 'min_df': 11, 'sub_tf': 'True'}. Best is trial 15 with value: 0.7190522732634559.\u001b[0m\n",
            "\u001b[32m[I 2021-07-20 15:33:23,196]\u001b[0m Trial 31 finished with value: 0.7190522732634559 and parameters: {'max_iter': 1147, 'loss': 'squared_hinge', 'n': 2, 'min_df': 5, 'sub_tf': 'True'}. Best is trial 15 with value: 0.7190522732634559.\u001b[0m\n",
            "\u001b[32m[I 2021-07-20 15:34:15,962]\u001b[0m Trial 32 finished with value: 0.7190522732634559 and parameters: {'max_iter': 2938, 'loss': 'squared_hinge', 'n': 2, 'min_df': 5, 'sub_tf': 'True'}. Best is trial 15 with value: 0.7190522732634559.\u001b[0m\n",
            "\u001b[32m[I 2021-07-20 15:35:09,262]\u001b[0m Trial 33 finished with value: 0.7181422938222507 and parameters: {'max_iter': 1385, 'loss': 'squared_hinge', 'n': 2, 'min_df': 6, 'sub_tf': 'True'}. Best is trial 15 with value: 0.7190522732634559.\u001b[0m\n",
            "\u001b[32m[I 2021-07-20 15:36:03,104]\u001b[0m Trial 34 finished with value: 0.7181422938222507 and parameters: {'max_iter': 1156, 'loss': 'squared_hinge', 'n': 2, 'min_df': 6, 'sub_tf': 'True'}. Best is trial 15 with value: 0.7190522732634559.\u001b[0m\n",
            "\u001b[32m[I 2021-07-20 15:36:54,107]\u001b[0m Trial 35 finished with value: 0.7158336422769708 and parameters: {'max_iter': 2943, 'loss': 'squared_hinge', 'n': 2, 'min_df': 8, 'sub_tf': 'True'}. Best is trial 15 with value: 0.7190522732634559.\u001b[0m\n",
            "\u001b[32m[I 2021-07-20 15:37:47,559]\u001b[0m Trial 36 finished with value: 0.7147214451821644 and parameters: {'max_iter': 2599, 'loss': 'squared_hinge', 'n': 2, 'min_df': 10, 'sub_tf': 'True'}. Best is trial 15 with value: 0.7190522732634559.\u001b[0m\n",
            "/usr/local/lib/python3.7/dist-packages/sklearn/svm/_base.py:947: ConvergenceWarning:\n",
            "\n",
            "Liblinear failed to converge, increase the number of iterations.\n",
            "\n",
            "\u001b[32m[I 2021-07-20 15:49:13,644]\u001b[0m Trial 37 finished with value: 0.6921573253345017 and parameters: {'max_iter': 2848, 'loss': 'hinge', 'n': 1, 'min_df': 5, 'sub_tf': 'True'}. Best is trial 15 with value: 0.7190522732634559.\u001b[0m\n",
            "\u001b[32m[I 2021-07-20 15:50:05,166]\u001b[0m Trial 38 finished with value: 0.7158336422769708 and parameters: {'max_iter': 1553, 'loss': 'squared_hinge', 'n': 2, 'min_df': 8, 'sub_tf': 'False'}. Best is trial 15 with value: 0.7190522732634559.\u001b[0m\n",
            "\u001b[32m[I 2021-07-20 15:50:57,567]\u001b[0m Trial 39 finished with value: 0.7181422938222507 and parameters: {'max_iter': 2426, 'loss': 'squared_hinge', 'n': 2, 'min_df': 6, 'sub_tf': 'True'}. Best is trial 15 with value: 0.7190522732634559.\u001b[0m\n"
          ]
        },
        {
          "name": "stdout",
          "output_type": "stream",
          "text": [
            "Best hyper-parameters: \n",
            "{'max_iter': 1214, 'loss': 'squared_hinge', 'n': 2, 'min_df': 5, 'sub_tf': 'True'}\n",
            "Best score: \n",
            "0.7190522732634559\n"
          ]
        }
      ]
    },
    {
      "cell_type": "markdown",
      "metadata": {
        "id": "weKM-gOBa0JL"
      },
      "source": [
        "In the following table we can see the best hyper-parameters for each model.\n",
        "\n",
        "| Model | Hyper-parameters |\n",
        "|-------|------------------|\n",
        "| Naive Bayes| {**ngram_range** = (1,2); **min_df** = 5; **sublinear_tf** = True}     |\n",
        "| Logistic Regression |{**ngram_range** = (1,2); **min_df** = 5; **sublinear_tf** = True; **solver** = newton-cg; **multi_class** = multinomial; **max_iter** = 390}   |\n",
        "| Random Forest | {**ngram_range** = (1,1); **min_df** = 14; **sublinear_tf** = True; **n_estimators** = 118; **criterion** = entropy; **max_depth** = 6} |\n",
        "| Linear SVC | {**ngram_range** = (1,2); **min_df** = 5; **sublinear_tf** = True; **max_iter** = 1214; **loss** = squared_hinge}   |"
      ]
    },
    {
      "cell_type": "markdown",
      "metadata": {
        "id": "HoXpYs3WJPa_"
      },
      "source": [
        "## Model Evaluation\n",
        "\n",
        "### Stemming \n",
        "\n",
        "In this section we evaluate the best model of each type obtained through hyper-parameter tunning. In order to do this we firstly fit the model with the best hyper-parameter values to the whole training+validation partition and evaluate it with the test partition. Before doing this we join the **training** and **validation** sets into one **train** set which will be used for training the models.\n",
        "\n"
      ]
    },
    {
      "cell_type": "code",
      "metadata": {
        "id": "Bdh6dhHvJPbA"
      },
      "source": [
        "# Join train and validation sets\n",
        "training_stemmed = train_stemmed + valid_stemmed\n",
        "training_lemmatized =  train_lemmatized + valid_lemmatized\n",
        "\n",
        "# Joining train and validation labels\n",
        "training_labels = train_labels_list + valid_labels_list"
      ],
      "execution_count": null,
      "outputs": []
    },
    {
      "cell_type": "markdown",
      "metadata": {
        "id": "CWbeyAcTgjBf"
      },
      "source": [
        "#### Naive Bayes"
      ]
    },
    {
      "cell_type": "code",
      "metadata": {
        "colab": {
          "base_uri": "https://localhost:8080/"
        },
        "id": "sKv9k7QqJPbJ",
        "outputId": "f47c0b0d-5de8-4ead-9788-c0a96009fe98"
      },
      "source": [
        "## Best hyper-parameters\n",
        "#'n': 2, 'sub_tf': 'False', 'min_df': 5\n",
        "\n",
        "# Training\n",
        "Bayes_pipe = Pipeline([('vect', CountVectorizer(ngram_range = (1, 2), min_df = 5)),\n",
        "                            ('tfidf', TfidfTransformer(sublinear_tf = 'False')),('classifier', MultinomialNB() )])\n",
        "Bayes_pipe.fit(training_stemmed, training_labels)\n",
        "\n",
        "# Evaluation of the model\n",
        "predictions_Bayes_stem = Bayes_pipe.predict(test_stemmed)\n",
        "print(classification_report(np.array(test_labels_list).reshape(len(test_labels),1),predictions_Bayes_stem))"
      ],
      "execution_count": null,
      "outputs": [
        {
          "name": "stdout",
          "output_type": "stream",
          "text": [
            "              precision    recall  f1-score   support\n",
            "\n",
            "           0       0.61      0.90      0.73     23507\n",
            "           1       0.84      0.10      0.17      3514\n",
            "           2       0.72      0.44      0.55     11297\n",
            "           3       0.91      0.01      0.02      1224\n",
            "           4       0.69      0.66      0.68     17472\n",
            "           5       0.92      0.33      0.48      2305\n",
            "\n",
            "    accuracy                           0.65     59319\n",
            "   macro avg       0.78      0.41      0.44     59319\n",
            "weighted avg       0.69      0.65      0.62     59319\n",
            "\n"
          ]
        }
      ]
    },
    {
      "cell_type": "code",
      "metadata": {
        "colab": {
          "base_uri": "https://localhost:8080/"
        },
        "id": "NU5I2Bfx9fzo",
        "outputId": "8eef549b-5ed8-4196-f4ad-fdbafef97c48"
      },
      "source": [
        "# Classification report without 0 label\n",
        "print(classification_report(np.array(test_labels).reshape(len(test_labels),1),predictions_Bayes_stem, labels = [1,2,3,4,5]))"
      ],
      "execution_count": null,
      "outputs": [
        {
          "name": "stdout",
          "output_type": "stream",
          "text": [
            "              precision    recall  f1-score   support\n",
            "\n",
            "           1       0.84      0.10      0.17      3514\n",
            "           2       0.72      0.44      0.55     11297\n",
            "           3       0.91      0.01      0.02      1224\n",
            "           4       0.69      0.66      0.68     17472\n",
            "           5       0.92      0.33      0.48      2305\n",
            "\n",
            "   micro avg       0.71      0.49      0.58     35812\n",
            "   macro avg       0.82      0.31      0.38     35812\n",
            "weighted avg       0.74      0.49      0.55     35812\n",
            "\n"
          ]
        }
      ]
    },
    {
      "cell_type": "code",
      "metadata": {
        "colab": {
          "base_uri": "https://localhost:8080/"
        },
        "id": "j150vIza9csp",
        "outputId": "da8d8fff-ea23-45b8-be7e-5589f2b87106"
      },
      "source": [
        "# Confusion matrix\n",
        "print(confusion_matrix(np.array(test_labels).reshape(len(test_labels),1),predictions_Bayes_stem))"
      ],
      "execution_count": null,
      "outputs": [
        {
          "name": "stdout",
          "output_type": "stream",
          "text": [
            "[[21047    21   826     0  1605     8]\n",
            " [ 1927   334   213     0  1033     7]\n",
            " [ 4476    17  4994     0  1772    38]\n",
            " [  782     2    71    10   355     4]\n",
            " [ 5242    18   616     1 11584    11]\n",
            " [  979     6   230     0   334   756]]\n"
          ]
        }
      ]
    },
    {
      "cell_type": "markdown",
      "metadata": {
        "id": "JYI9y_n8h_Hp"
      },
      "source": [
        "#### Logistic Regression"
      ]
    },
    {
      "cell_type": "code",
      "metadata": {
        "colab": {
          "base_uri": "https://localhost:8080/"
        },
        "id": "cVk87dCKJPbJ",
        "outputId": "6e03830a-03f2-4210-d5fe-8a3a840ebf3b"
      },
      "source": [
        "## Best hyper-parameters\n",
        "# 'max_iter': 373, 'solver': 'newton-cg', 'multi_class': 'multinomial', 'n': 2, 'min_df': 5, 'sub_tf': 'True'\n",
        "\n",
        "# Training\n",
        "Logistic_pipe = Pipeline([('vect', CountVectorizer(ngram_range = (1, 2), min_df = 5)),\n",
        "                            ('tfidf', TfidfTransformer(sublinear_tf = 'True')),('classifier', LogisticRegression(random_state = 3,\n",
        "                                    solver = 'newton-cg', multi_class = 'multinomial',   max_iter = 373 ) )])\n",
        "Logistic_pipe.fit(training_stemmed, training_labels)\n",
        "\n",
        "# Evaluation of the model\n",
        "predictions_Logistic_stem = Logistic_pipe.predict(test_stemmed)\n",
        "print(classification_report(np.array(test_labels_list).reshape(len(test_labels),1),predictions_Logistic_stem))"
      ],
      "execution_count": null,
      "outputs": [
        {
          "name": "stdout",
          "output_type": "stream",
          "text": [
            "              precision    recall  f1-score   support\n",
            "\n",
            "           0       0.72      0.86      0.79     23507\n",
            "           1       0.64      0.24      0.34      3514\n",
            "           2       0.69      0.54      0.60     11297\n",
            "           3       0.63      0.12      0.20      1224\n",
            "           4       0.73      0.81      0.77     17472\n",
            "           5       0.78      0.52      0.62      2305\n",
            "\n",
            "    accuracy                           0.72     59319\n",
            "   macro avg       0.70      0.51      0.55     59319\n",
            "weighted avg       0.71      0.72      0.70     59319\n",
            "\n"
          ]
        }
      ]
    },
    {
      "cell_type": "code",
      "metadata": {
        "colab": {
          "base_uri": "https://localhost:8080/"
        },
        "id": "r_OvLYaT-ldZ",
        "outputId": "214dce97-a615-4625-ed47-0515ddb87f26"
      },
      "source": [
        "# Classification report without 0 label\n",
        "print(classification_report(np.array(test_labels).reshape(len(test_labels),1),predictions_Logistic_stem, labels = [1,2,3,4,5]))"
      ],
      "execution_count": null,
      "outputs": [
        {
          "name": "stdout",
          "output_type": "stream",
          "text": [
            "              precision    recall  f1-score   support\n",
            "\n",
            "           1       0.64      0.24      0.34      3514\n",
            "           2       0.69      0.54      0.60     11297\n",
            "           3       0.63      0.12      0.20      1224\n",
            "           4       0.73      0.81      0.77     17472\n",
            "           5       0.78      0.52      0.62      2305\n",
            "\n",
            "   micro avg       0.72      0.63      0.67     35812\n",
            "   macro avg       0.69      0.44      0.51     35812\n",
            "weighted avg       0.71      0.63      0.65     35812\n",
            "\n"
          ]
        }
      ]
    },
    {
      "cell_type": "code",
      "metadata": {
        "colab": {
          "base_uri": "https://localhost:8080/"
        },
        "id": "RssiLutT-k9F",
        "outputId": "61a55f44-322c-44f1-a517-4c6824fd7356"
      },
      "source": [
        "# Confusion matrix\n",
        "print(confusion_matrix(np.array(test_labels).reshape(len(test_labels),1),predictions_Logistic_stem))"
      ],
      "execution_count": null,
      "outputs": [
        {
          "name": "stdout",
          "output_type": "stream",
          "text": [
            "[[20236   164  1255    29  1696   127]\n",
            " [ 1238   827   272    12  1125    40]\n",
            " [ 3104    85  6072    22  1921    93]\n",
            " [  690    33   102   147   236    16]\n",
            " [ 2080   144   956    16 14222    54]\n",
            " [  634    47   180     6   248  1190]]\n"
          ]
        }
      ]
    },
    {
      "cell_type": "markdown",
      "metadata": {
        "id": "IS_ITrbyiims"
      },
      "source": [
        "#### Random Forest"
      ]
    },
    {
      "cell_type": "code",
      "metadata": {
        "colab": {
          "base_uri": "https://localhost:8080/"
        },
        "id": "_QdQHoWbJPbJ",
        "outputId": "772642c6-447e-4b21-fea8-1160079f1d72"
      },
      "source": [
        "## Best hyper-parameters\n",
        "# 'n_estimators': 142, 'criterion': 'entropy', 'max_depth': 6, 'n': 1, 'min_df': 24, 'sub_tf': 'True'\n",
        "\n",
        "# Training\n",
        "Forest_pipe = Pipeline([('vect', CountVectorizer(ngram_range = (1, 1), min_df = 24)),\n",
        "                            ('tfidf', TfidfTransformer(sublinear_tf = 'True')),('classifier', RandomForestClassifier(\n",
        "                                random_state = 3, n_estimators = 142, criterion = 'entropy',\n",
        "                                max_depth = 6) )])\n",
        "Forest_pipe.fit(training_stemmed, training_labels)\n",
        "\n",
        "# Evaluation of the model\n",
        "predictions_Forest_stem = Forest_pipe.predict(test_stemmed)\n",
        "print(classification_report(np.array(test_labels_list).reshape(len(test_labels),1),predictions_Forest_stem))"
      ],
      "execution_count": null,
      "outputs": [
        {
          "name": "stdout",
          "output_type": "stream",
          "text": [
            "              precision    recall  f1-score   support\n",
            "\n",
            "           0       0.40      1.00      0.57     23507\n",
            "           1       0.00      0.00      0.00      3514\n",
            "           2       0.00      0.00      0.00     11297\n",
            "           3       0.00      0.00      0.00      1224\n",
            "           4       1.00      0.00      0.00     17472\n",
            "           5       0.00      0.00      0.00      2305\n",
            "\n",
            "    accuracy                           0.40     59319\n",
            "   macro avg       0.23      0.17      0.09     59319\n",
            "weighted avg       0.45      0.40      0.22     59319\n",
            "\n"
          ]
        },
        {
          "name": "stderr",
          "output_type": "stream",
          "text": [
            "/usr/local/lib/python3.7/dist-packages/sklearn/metrics/_classification.py:1272: UndefinedMetricWarning:\n",
            "\n",
            "Precision and F-score are ill-defined and being set to 0.0 in labels with no predicted samples. Use `zero_division` parameter to control this behavior.\n",
            "\n"
          ]
        }
      ]
    },
    {
      "cell_type": "code",
      "metadata": {
        "colab": {
          "base_uri": "https://localhost:8080/"
        },
        "id": "VYEf7rEf-uYb",
        "outputId": "0b990838-5027-46d9-bf8f-3ad305672664"
      },
      "source": [
        "# Classification report without 0 label\n",
        "print(classification_report(np.array(test_labels).reshape(len(test_labels),1),predictions_Forest_stem, labels = [1,2,3,4,5]))"
      ],
      "execution_count": null,
      "outputs": [
        {
          "name": "stdout",
          "output_type": "stream",
          "text": [
            "              precision    recall  f1-score   support\n",
            "\n",
            "           1       0.00      0.00      0.00      3514\n",
            "           2       0.00      0.00      0.00     11297\n",
            "           3       0.00      0.00      0.00      1224\n",
            "           4       1.00      0.00      0.00     17472\n",
            "           5       0.00      0.00      0.00      2305\n",
            "\n",
            "   micro avg       1.00      0.00      0.00     35812\n",
            "   macro avg       0.20      0.00      0.00     35812\n",
            "weighted avg       0.49      0.00      0.00     35812\n",
            "\n"
          ]
        },
        {
          "name": "stderr",
          "output_type": "stream",
          "text": [
            "/usr/local/lib/python3.7/dist-packages/sklearn/metrics/_classification.py:1272: UndefinedMetricWarning:\n",
            "\n",
            "Precision and F-score are ill-defined and being set to 0.0 in labels with no predicted samples. Use `zero_division` parameter to control this behavior.\n",
            "\n"
          ]
        }
      ]
    },
    {
      "cell_type": "code",
      "metadata": {
        "colab": {
          "base_uri": "https://localhost:8080/"
        },
        "id": "7yjlgHP1-uPB",
        "outputId": "007fc9d6-60fe-4952-f693-bd262ce2f620"
      },
      "source": [
        "# Confusion matrix\n",
        "print(confusion_matrix(np.array(test_labels).reshape(len(test_labels),1),predictions_Forest_stem))"
      ],
      "execution_count": null,
      "outputs": [
        {
          "name": "stdout",
          "output_type": "stream",
          "text": [
            "[[23507     0     0     0     0     0]\n",
            " [ 3514     0     0     0     0     0]\n",
            " [11297     0     0     0     0     0]\n",
            " [ 1224     0     0     0     0     0]\n",
            " [17471     0     0     0     1     0]\n",
            " [ 2305     0     0     0     0     0]]\n"
          ]
        }
      ]
    },
    {
      "cell_type": "markdown",
      "metadata": {
        "id": "vFFk5dswjRGY"
      },
      "source": [
        "#### SVC"
      ]
    },
    {
      "cell_type": "code",
      "metadata": {
        "colab": {
          "base_uri": "https://localhost:8080/"
        },
        "id": "-VMV_QA7JPbJ",
        "outputId": "6895d2a5-0534-44cc-9166-aec5e0acd215"
      },
      "source": [
        "## Best hyper-parameters\n",
        "# 'max_iter': 2319, 'loss': 'squared_hinge', 'n': 2, 'min_df': 5, 'sub_tf': 'False'\n",
        "\n",
        "# Training\n",
        "SVC_pipe = Pipeline([('vect', CountVectorizer(ngram_range = (1, 2), min_df = 5)),\n",
        "                            ('tfidf', TfidfTransformer(sublinear_tf = 'False')),('classifier', LinearSVC(\n",
        "                                random_state = 3, max_iter = 2319,\n",
        "                                loss = 'squared_hinge') )])\n",
        "SVC_pipe.fit(training_stemmed, training_labels)\n",
        "\n",
        "# Evaluation of the model\n",
        "predictions_SVC_stem = SVC_pipe.predict(test_stemmed)\n",
        "print(classification_report(np.array(test_labels).reshape(len(test_labels),1),predictions_SVC_stem))"
      ],
      "execution_count": null,
      "outputs": [
        {
          "name": "stdout",
          "output_type": "stream",
          "text": [
            "              precision    recall  f1-score   support\n",
            "\n",
            "           0       0.74      0.85      0.79     23507\n",
            "           1       0.57      0.27      0.37      3514\n",
            "           2       0.67      0.54      0.60     11297\n",
            "           3       0.54      0.15      0.23      1224\n",
            "           4       0.74      0.82      0.78     17472\n",
            "           5       0.75      0.55      0.64      2305\n",
            "\n",
            "    accuracy                           0.72     59319\n",
            "   macro avg       0.67      0.53      0.57     59319\n",
            "weighted avg       0.71      0.72      0.71     59319\n",
            "\n"
          ]
        }
      ]
    },
    {
      "cell_type": "code",
      "metadata": {
        "colab": {
          "base_uri": "https://localhost:8080/"
        },
        "id": "DyFoTZGQ-0o_",
        "outputId": "9c2a4b4b-6b33-45f0-b6b8-b9d60efa7a12"
      },
      "source": [
        "# Classification report without 0 label\n",
        "print(classification_report(np.array(test_labels).reshape(len(test_labels),1),predictions_SVC_stem, labels = [1,2,3,4,5]))"
      ],
      "execution_count": null,
      "outputs": [
        {
          "name": "stdout",
          "output_type": "stream",
          "text": [
            "              precision    recall  f1-score   support\n",
            "\n",
            "           1       0.57      0.27      0.37      3514\n",
            "           2       0.67      0.54      0.60     11297\n",
            "           3       0.54      0.15      0.23      1224\n",
            "           4       0.74      0.82      0.78     17472\n",
            "           5       0.75      0.55      0.64      2305\n",
            "\n",
            "   micro avg       0.71      0.64      0.67     35812\n",
            "   macro avg       0.66      0.47      0.52     35812\n",
            "weighted avg       0.70      0.64      0.66     35812\n",
            "\n"
          ]
        }
      ]
    },
    {
      "cell_type": "code",
      "metadata": {
        "colab": {
          "base_uri": "https://localhost:8080/"
        },
        "id": "a8_dVW4S-1Mq",
        "outputId": "737050ee-7699-4186-fd5b-9548ba0d08b8"
      },
      "source": [
        "# Confusion matrix\n",
        "print(confusion_matrix(np.array(test_labels).reshape(len(test_labels),1),predictions_SVC_stem))"
      ],
      "execution_count": null,
      "outputs": [
        {
          "name": "stdout",
          "output_type": "stream",
          "text": [
            "[[19978   263  1418    59  1624   165]\n",
            " [ 1114   955   296    25  1064    60]\n",
            " [ 2946   158  6153    33  1905   102]\n",
            " [  642    38   130   183   203    28]\n",
            " [ 1879   194   984    26 14325    64]\n",
            " [  619    53   168    14   182  1269]]\n"
          ]
        }
      ]
    },
    {
      "cell_type": "markdown",
      "metadata": {
        "id": "Q6qlDTXLkBTo"
      },
      "source": [
        "### Lemmatization\n",
        "\n",
        "\n",
        "#### Naive Bayes"
      ]
    },
    {
      "cell_type": "code",
      "metadata": {
        "colab": {
          "base_uri": "https://localhost:8080/"
        },
        "id": "Nq0ICK_rJPbJ",
        "outputId": "56ebb30c-7867-44bc-97f4-0196c0e4b70e"
      },
      "source": [
        "## Best hyper-parameters\n",
        "# 'n': 2, 'sub_tf': 'True', 'min_df': 5\n",
        "\n",
        "# Training\n",
        "Bayes_pipe_lem = Pipeline([('vect', CountVectorizer(ngram_range = (1, 2), min_df = 5)),\n",
        "                            ('tfidf', TfidfTransformer(sublinear_tf = 'True')),('classifier', MultinomialNB() )])\n",
        "Bayes_pipe_lem.fit(training_lemmatized, training_labels)\n",
        "\n",
        "# Evaluation of the model\n",
        "predictions_Bayes_lem = Bayes_pipe_lem.predict(test_lemmatized)\n",
        "print(classification_report(np.array(test_labels).reshape(len(test_labels),1),predictions_Bayes_lem))"
      ],
      "execution_count": null,
      "outputs": [
        {
          "name": "stdout",
          "output_type": "stream",
          "text": [
            "              precision    recall  f1-score   support\n",
            "\n",
            "           0       0.61      0.90      0.73     23507\n",
            "           1       0.83      0.10      0.17      3514\n",
            "           2       0.72      0.44      0.55     11297\n",
            "           3       0.92      0.01      0.02      1224\n",
            "           4       0.70      0.66      0.68     17472\n",
            "           5       0.92      0.33      0.49      2305\n",
            "\n",
            "    accuracy                           0.65     59319\n",
            "   macro avg       0.78      0.41      0.44     59319\n",
            "weighted avg       0.69      0.65      0.62     59319\n",
            "\n"
          ]
        }
      ]
    },
    {
      "cell_type": "code",
      "metadata": {
        "colab": {
          "base_uri": "https://localhost:8080/"
        },
        "id": "Id3xY-oH-92f",
        "outputId": "84c37403-40f8-49d4-b9a9-07cdf761428e"
      },
      "source": [
        "# Classification report without 0 label\n",
        "print(classification_report(np.array(test_labels).reshape(len(test_labels),1),predictions_Bayes_lem, labels = [1,2,3,4,5]))"
      ],
      "execution_count": null,
      "outputs": [
        {
          "name": "stdout",
          "output_type": "stream",
          "text": [
            "              precision    recall  f1-score   support\n",
            "\n",
            "           1       0.83      0.10      0.17      3514\n",
            "           2       0.72      0.44      0.55     11297\n",
            "           3       0.92      0.01      0.02      1224\n",
            "           4       0.70      0.66      0.68     17472\n",
            "           5       0.92      0.33      0.49      2305\n",
            "\n",
            "   micro avg       0.71      0.49      0.58     35812\n",
            "   macro avg       0.82      0.31      0.38     35812\n",
            "weighted avg       0.74      0.49      0.55     35812\n",
            "\n"
          ]
        }
      ]
    },
    {
      "cell_type": "code",
      "metadata": {
        "colab": {
          "base_uri": "https://localhost:8080/"
        },
        "id": "rH0Rs59w--co",
        "outputId": "15059748-e42b-4688-abcd-efc482a4744f"
      },
      "source": [
        "# Confusion matrix\n",
        "print(confusion_matrix(np.array(test_labels).reshape(len(test_labels),1),predictions_Bayes_lem))"
      ],
      "execution_count": null,
      "outputs": [
        {
          "name": "stdout",
          "output_type": "stream",
          "text": [
            "[[21055    21   817     0  1606     8]\n",
            " [ 1953   335   196     0  1025     5]\n",
            " [ 4470    19  5014     0  1759    35]\n",
            " [  786     3    71    12   348     4]\n",
            " [ 5238    22   614     1 11584    13]\n",
            " [  977     5   230     0   327   766]]\n"
          ]
        }
      ]
    },
    {
      "cell_type": "markdown",
      "metadata": {
        "id": "hvsTIPsxk-uy"
      },
      "source": [
        "#### Logistic Regression"
      ]
    },
    {
      "cell_type": "code",
      "metadata": {
        "colab": {
          "base_uri": "https://localhost:8080/"
        },
        "id": "lKYWMoRqgWs-",
        "outputId": "c2694361-4e9d-4c3b-daf9-274e86f4fc3c"
      },
      "source": [
        "## Best hyper-parameters\n",
        "# 'max_iter': 390, 'solver': 'newton-cg', 'multi_class': 'multinomial', 'n': 2, 'min_df': 5, 'sub_tf': 'True'\n",
        "\n",
        "# Training\n",
        "Logistic_pipe_lem = Pipeline([('vect', CountVectorizer(ngram_range = (1, 2), min_df = 5)),\n",
        "                            ('tfidf', TfidfTransformer(sublinear_tf = 'True')),('classifier', LogisticRegression(random_state = 3,\n",
        "                                    solver = 'newton-cg', multi_class = 'multinomial',   max_iter = 390 ) )])\n",
        "Logistic_pipe_lem.fit(training_lemmatized, training_labels)\n",
        "\n",
        "# Evaluation of the model\n",
        "predictions_Logistic_lem = Logistic_pipe_lem.predict(test_lemmatized)\n",
        "print(classification_report(np.array(test_labels).reshape(len(test_labels),1),predictions_Logistic_lem))"
      ],
      "execution_count": null,
      "outputs": [
        {
          "name": "stdout",
          "output_type": "stream",
          "text": [
            "              precision    recall  f1-score   support\n",
            "\n",
            "           0       0.72      0.86      0.79     23507\n",
            "           1       0.63      0.23      0.34      3514\n",
            "           2       0.69      0.54      0.60     11297\n",
            "           3       0.68      0.12      0.21      1224\n",
            "           4       0.73      0.81      0.77     17472\n",
            "           5       0.79      0.51      0.62      2305\n",
            "\n",
            "    accuracy                           0.72     59319\n",
            "   macro avg       0.71      0.51      0.55     59319\n",
            "weighted avg       0.71      0.72      0.70     59319\n",
            "\n"
          ]
        }
      ]
    },
    {
      "cell_type": "code",
      "metadata": {
        "colab": {
          "base_uri": "https://localhost:8080/"
        },
        "id": "qaNlH_bl_KIH",
        "outputId": "bc89e734-6c42-4c9e-c08c-ebd8003939d4"
      },
      "source": [
        "# Classification report without 0 label\n",
        "print(classification_report(np.array(test_labels).reshape(len(test_labels),1),predictions_Logistic_lem, labels = [1,2,3,4,5]))"
      ],
      "execution_count": null,
      "outputs": [
        {
          "name": "stdout",
          "output_type": "stream",
          "text": [
            "              precision    recall  f1-score   support\n",
            "\n",
            "           1       0.63      0.23      0.34      3514\n",
            "           2       0.69      0.54      0.60     11297\n",
            "           3       0.68      0.12      0.21      1224\n",
            "           4       0.73      0.81      0.77     17472\n",
            "           5       0.79      0.51      0.62      2305\n",
            "\n",
            "   micro avg       0.72      0.63      0.67     35812\n",
            "   macro avg       0.70      0.44      0.51     35812\n",
            "weighted avg       0.71      0.63      0.65     35812\n",
            "\n"
          ]
        }
      ]
    },
    {
      "cell_type": "code",
      "metadata": {
        "colab": {
          "base_uri": "https://localhost:8080/"
        },
        "id": "KyYmCbcc_Kmx",
        "outputId": "0c45c76c-defc-40ed-b8c6-2715f83beb69"
      },
      "source": [
        "# Confusion matrix\n",
        "print(confusion_matrix(np.array(test_labels).reshape(len(test_labels),1),predictions_Logistic_lem))"
      ],
      "execution_count": null,
      "outputs": [
        {
          "name": "stdout",
          "output_type": "stream",
          "text": [
            "[[20235   170  1252    27  1706   117]\n",
            " [ 1241   825   256     9  1149    34]\n",
            " [ 3116    82  6056    19  1932    92]\n",
            " [  682    32    99   150   245    16]\n",
            " [ 2111   153   953    10 14194    51]\n",
            " [  647    46   179     5   249  1179]]\n"
          ]
        }
      ]
    },
    {
      "cell_type": "markdown",
      "metadata": {
        "id": "DvKfUTktlr1i"
      },
      "source": [
        "#### Random Forest"
      ]
    },
    {
      "cell_type": "code",
      "metadata": {
        "colab": {
          "base_uri": "https://localhost:8080/"
        },
        "id": "ZkZJMUyogWrC",
        "outputId": "4845abe2-d0c0-4889-90b3-9635590b9182"
      },
      "source": [
        "## Best hyper-parameters\n",
        "# 'n_estimators': 118, 'criterion': 'entropy', 'max_depth': 6, 'n': 1, 'min_df': 14, 'sub_tf': 'True'\n",
        "\n",
        "# Training\n",
        "Forest_pipe_lem = Pipeline([('vect', CountVectorizer(ngram_range = (1, 1), min_df = 14)),\n",
        "                            ('tfidf', TfidfTransformer(sublinear_tf = 'True')),('classifier', RandomForestClassifier(\n",
        "                                random_state = 3, n_estimators = 118, criterion = 'entropy',\n",
        "                                max_depth = 6) )])\n",
        "Forest_pipe_lem.fit(training_lemmatized, training_labels)\n",
        "\n",
        "# Evaluation of the model\n",
        "predictions_Forest_lem = Forest_pipe_lem.predict(test_lemmatized)\n",
        "print(classification_report(np.array(test_labels).reshape(len(test_labels),1),predictions_Forest_lem))"
      ],
      "execution_count": null,
      "outputs": [
        {
          "name": "stdout",
          "output_type": "stream",
          "text": [
            "              precision    recall  f1-score   support\n",
            "\n",
            "           0       0.40      1.00      0.57     23507\n",
            "           1       0.00      0.00      0.00      3514\n",
            "           2       0.00      0.00      0.00     11297\n",
            "           3       0.00      0.00      0.00      1224\n",
            "           4       1.00      0.04      0.08     17472\n",
            "           5       0.00      0.00      0.00      2305\n",
            "\n",
            "    accuracy                           0.41     59319\n",
            "   macro avg       0.23      0.17      0.11     59319\n",
            "weighted avg       0.45      0.41      0.25     59319\n",
            "\n"
          ]
        },
        {
          "name": "stderr",
          "output_type": "stream",
          "text": [
            "/usr/local/lib/python3.7/dist-packages/sklearn/metrics/_classification.py:1272: UndefinedMetricWarning:\n",
            "\n",
            "Precision and F-score are ill-defined and being set to 0.0 in labels with no predicted samples. Use `zero_division` parameter to control this behavior.\n",
            "\n"
          ]
        }
      ]
    },
    {
      "cell_type": "code",
      "metadata": {
        "colab": {
          "base_uri": "https://localhost:8080/"
        },
        "id": "LtbwSyJq_R3d",
        "outputId": "32349683-99e1-4c45-8568-5e37b2105f8e"
      },
      "source": [
        "# Classification report without 0 label\n",
        "print(classification_report(np.array(test_labels).reshape(len(test_labels),1),predictions_Forest_lem, labels = [1,2,3,4,5]))"
      ],
      "execution_count": null,
      "outputs": [
        {
          "name": "stdout",
          "output_type": "stream",
          "text": [
            "              precision    recall  f1-score   support\n",
            "\n",
            "           1       0.00      0.00      0.00      3514\n",
            "           2       0.00      0.00      0.00     11297\n",
            "           3       0.00      0.00      0.00      1224\n",
            "           4       1.00      0.04      0.08     17472\n",
            "           5       0.00      0.00      0.00      2305\n",
            "\n",
            "   micro avg       1.00      0.02      0.04     35812\n",
            "   macro avg       0.20      0.01      0.02     35812\n",
            "weighted avg       0.49      0.02      0.04     35812\n",
            "\n"
          ]
        },
        {
          "name": "stderr",
          "output_type": "stream",
          "text": [
            "/usr/local/lib/python3.7/dist-packages/sklearn/metrics/_classification.py:1272: UndefinedMetricWarning:\n",
            "\n",
            "Precision and F-score are ill-defined and being set to 0.0 in labels with no predicted samples. Use `zero_division` parameter to control this behavior.\n",
            "\n"
          ]
        }
      ]
    },
    {
      "cell_type": "code",
      "metadata": {
        "colab": {
          "base_uri": "https://localhost:8080/"
        },
        "id": "IRBachv6_Se_",
        "outputId": "ee3b1070-002b-4356-afe2-703ec62f4d43"
      },
      "source": [
        "# Confusion matrix\n",
        "print(confusion_matrix(np.array(test_labels).reshape(len(test_labels),1),predictions_Forest_lem))"
      ],
      "execution_count": null,
      "outputs": [
        {
          "name": "stdout",
          "output_type": "stream",
          "text": [
            "[[23507     0     0     0     0     0]\n",
            " [ 3514     0     0     0     0     0]\n",
            " [11297     0     0     0     0     0]\n",
            " [ 1224     0     0     0     0     0]\n",
            " [16743     0     0     0   729     0]\n",
            " [ 2305     0     0     0     0     0]]\n"
          ]
        }
      ]
    },
    {
      "cell_type": "markdown",
      "metadata": {
        "id": "w1H1v3ZumM7H"
      },
      "source": [
        "#### SVC"
      ]
    },
    {
      "cell_type": "code",
      "metadata": {
        "id": "ED4yizUWgWoQ"
      },
      "source": [
        "## Best hyper-parameters\n",
        "# 'max_iter': 1214, 'loss': 'squared_hinge', 'n': 2, 'min_df': 5, 'sub_tf': 'True'\n",
        "\n",
        "# Training\n",
        "SVC_pipe_lem = Pipeline([('vect', CountVectorizer(ngram_range = (1, 2), min_df = 5)),\n",
        "                            ('tfidf', TfidfTransformer(sublinear_tf = 'True')),('classifier', LinearSVC(\n",
        "                                random_state = 3, max_iter = 1214,\n",
        "                                loss = 'squared_hinge') )])\n",
        "SVC_pipe_lem.fit(training_lemmatized, training_labels)\n",
        "\n",
        "# Evaluation of the model\n",
        "predictions_SVC_lem = SVC_pipe_lem.predict(test_lemmatized)\n"
      ],
      "execution_count": null,
      "outputs": []
    },
    {
      "cell_type": "code",
      "metadata": {
        "colab": {
          "base_uri": "https://localhost:8080/"
        },
        "id": "0pUmZ86f2zn7",
        "outputId": "5a6f1d45-97db-4d5b-b4ae-e66f153b4777"
      },
      "source": [
        "# Classification report\n",
        "print(classification_report(np.array(test_labels).reshape(len(test_labels),1),predictions_SVC_lem))"
      ],
      "execution_count": null,
      "outputs": [
        {
          "name": "stdout",
          "output_type": "stream",
          "text": [
            "              precision    recall  f1-score   support\n",
            "\n",
            "           0       0.74      0.85      0.79     23507\n",
            "           1       0.57      0.28      0.38      3514\n",
            "           2       0.68      0.54      0.60     11297\n",
            "           3       0.55      0.15      0.24      1224\n",
            "           4       0.74      0.82      0.78     17472\n",
            "           5       0.76      0.55      0.64      2305\n",
            "\n",
            "    accuracy                           0.72     59319\n",
            "   macro avg       0.67      0.53      0.57     59319\n",
            "weighted avg       0.71      0.72      0.71     59319\n",
            "\n"
          ]
        }
      ]
    },
    {
      "cell_type": "code",
      "metadata": {
        "colab": {
          "base_uri": "https://localhost:8080/"
        },
        "id": "dgN-5j6k_cUH",
        "outputId": "5a246bbd-281d-4297-d30f-86dd3d1bffe2"
      },
      "source": [
        "# Classification report without 0 label\n",
        "print(classification_report(np.array(test_labels).reshape(len(test_labels),1),predictions_SVC_lem, labels = [1,2,3,4,5]))"
      ],
      "execution_count": null,
      "outputs": [
        {
          "name": "stdout",
          "output_type": "stream",
          "text": [
            "              precision    recall  f1-score   support\n",
            "\n",
            "           1       0.57      0.28      0.38      3514\n",
            "           2       0.68      0.54      0.60     11297\n",
            "           3       0.55      0.15      0.24      1224\n",
            "           4       0.74      0.82      0.78     17472\n",
            "           5       0.76      0.55      0.64      2305\n",
            "\n",
            "   micro avg       0.71      0.64      0.67     35812\n",
            "   macro avg       0.66      0.47      0.53     35812\n",
            "weighted avg       0.70      0.64      0.66     35812\n",
            "\n"
          ]
        }
      ]
    },
    {
      "cell_type": "code",
      "metadata": {
        "colab": {
          "base_uri": "https://localhost:8080/"
        },
        "id": "iYPjOkGG_dD3",
        "outputId": "2cb7083e-5c93-4f55-f3b8-d938292dc256"
      },
      "source": [
        "# Confusion matrix\n",
        "print(confusion_matrix(np.array(test_labels).reshape(len(test_labels),1),predictions_SVC_lem))"
      ],
      "execution_count": null,
      "outputs": [
        {
          "name": "stdout",
          "output_type": "stream",
          "text": [
            "[[19991   272  1392    63  1617   172]\n",
            " [ 1115   986   276    23  1068    46]\n",
            " [ 2936   162  6143    34  1925    97]\n",
            " [  648    40   126   188   194    28]\n",
            " [ 1895   211   969    27 14307    63]\n",
            " [  600    55   166     8   206  1270]]\n"
          ]
        }
      ]
    }
  ]
}